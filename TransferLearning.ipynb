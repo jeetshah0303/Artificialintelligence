{
  "nbformat": 4,
  "nbformat_minor": 0,
  "metadata": {
    "colab": {
      "name": "TransferLearning.ipynb",
      "provenance": [],
      "authorship_tag": "ABX9TyMW+nyN1WqAwFVqo1e6fqQ2",
      "include_colab_link": true
    },
    "kernelspec": {
      "name": "python3",
      "display_name": "Python 3"
    },
    "language_info": {
      "name": "python"
    },
    "accelerator": "GPU",
    "widgets": {
      "application/vnd.jupyter.widget-state+json": {
        "007600998c5246f5946fd86b8a273279": {
          "model_module": "@jupyter-widgets/controls",
          "model_name": "HBoxModel",
          "state": {
            "_view_name": "HBoxView",
            "_dom_classes": [],
            "_model_name": "HBoxModel",
            "_view_module": "@jupyter-widgets/controls",
            "_model_module_version": "1.5.0",
            "_view_count": null,
            "_view_module_version": "1.5.0",
            "box_style": "",
            "layout": "IPY_MODEL_e5bded7da8c749b79d43b1a5a4ffbb68",
            "_model_module": "@jupyter-widgets/controls",
            "children": [
              "IPY_MODEL_38a1f2f635bd460eaf26336a03e6076a",
              "IPY_MODEL_8b233d4f300343f39f14be1ceece4b65"
            ]
          }
        },
        "e5bded7da8c749b79d43b1a5a4ffbb68": {
          "model_module": "@jupyter-widgets/base",
          "model_name": "LayoutModel",
          "state": {
            "_view_name": "LayoutView",
            "grid_template_rows": null,
            "right": null,
            "justify_content": null,
            "_view_module": "@jupyter-widgets/base",
            "overflow": null,
            "_model_module_version": "1.2.0",
            "_view_count": null,
            "flex_flow": null,
            "width": null,
            "min_width": null,
            "border": null,
            "align_items": null,
            "bottom": null,
            "_model_module": "@jupyter-widgets/base",
            "top": null,
            "grid_column": null,
            "overflow_y": null,
            "overflow_x": null,
            "grid_auto_flow": null,
            "grid_area": null,
            "grid_template_columns": null,
            "flex": null,
            "_model_name": "LayoutModel",
            "justify_items": null,
            "grid_row": null,
            "max_height": null,
            "align_content": null,
            "visibility": null,
            "align_self": null,
            "height": null,
            "min_height": null,
            "padding": null,
            "grid_auto_rows": null,
            "grid_gap": null,
            "max_width": null,
            "order": null,
            "_view_module_version": "1.2.0",
            "grid_template_areas": null,
            "object_position": null,
            "object_fit": null,
            "grid_auto_columns": null,
            "margin": null,
            "display": null,
            "left": null
          }
        },
        "38a1f2f635bd460eaf26336a03e6076a": {
          "model_module": "@jupyter-widgets/controls",
          "model_name": "FloatProgressModel",
          "state": {
            "_view_name": "ProgressView",
            "style": "IPY_MODEL_817f958f5f624224861f1fd429193714",
            "_dom_classes": [],
            "description": "",
            "_model_name": "FloatProgressModel",
            "bar_style": "success",
            "max": 170498071,
            "_view_module": "@jupyter-widgets/controls",
            "_model_module_version": "1.5.0",
            "value": 170498071,
            "_view_count": null,
            "_view_module_version": "1.5.0",
            "orientation": "horizontal",
            "min": 0,
            "description_tooltip": null,
            "_model_module": "@jupyter-widgets/controls",
            "layout": "IPY_MODEL_462ecedf06b149a6ba9ab33ae2f328df"
          }
        },
        "8b233d4f300343f39f14be1ceece4b65": {
          "model_module": "@jupyter-widgets/controls",
          "model_name": "HTMLModel",
          "state": {
            "_view_name": "HTMLView",
            "style": "IPY_MODEL_8006ee01b6134861972a4ce2b3fceeab",
            "_dom_classes": [],
            "description": "",
            "_model_name": "HTMLModel",
            "placeholder": "​",
            "_view_module": "@jupyter-widgets/controls",
            "_model_module_version": "1.5.0",
            "value": " 170499072/? [00:30&lt;00:00, 5573033.08it/s]",
            "_view_count": null,
            "_view_module_version": "1.5.0",
            "description_tooltip": null,
            "_model_module": "@jupyter-widgets/controls",
            "layout": "IPY_MODEL_2ce6407537c4429c99cc177a3a9ab537"
          }
        },
        "817f958f5f624224861f1fd429193714": {
          "model_module": "@jupyter-widgets/controls",
          "model_name": "ProgressStyleModel",
          "state": {
            "_view_name": "StyleView",
            "_model_name": "ProgressStyleModel",
            "description_width": "initial",
            "_view_module": "@jupyter-widgets/base",
            "_model_module_version": "1.5.0",
            "_view_count": null,
            "_view_module_version": "1.2.0",
            "bar_color": null,
            "_model_module": "@jupyter-widgets/controls"
          }
        },
        "462ecedf06b149a6ba9ab33ae2f328df": {
          "model_module": "@jupyter-widgets/base",
          "model_name": "LayoutModel",
          "state": {
            "_view_name": "LayoutView",
            "grid_template_rows": null,
            "right": null,
            "justify_content": null,
            "_view_module": "@jupyter-widgets/base",
            "overflow": null,
            "_model_module_version": "1.2.0",
            "_view_count": null,
            "flex_flow": null,
            "width": null,
            "min_width": null,
            "border": null,
            "align_items": null,
            "bottom": null,
            "_model_module": "@jupyter-widgets/base",
            "top": null,
            "grid_column": null,
            "overflow_y": null,
            "overflow_x": null,
            "grid_auto_flow": null,
            "grid_area": null,
            "grid_template_columns": null,
            "flex": null,
            "_model_name": "LayoutModel",
            "justify_items": null,
            "grid_row": null,
            "max_height": null,
            "align_content": null,
            "visibility": null,
            "align_self": null,
            "height": null,
            "min_height": null,
            "padding": null,
            "grid_auto_rows": null,
            "grid_gap": null,
            "max_width": null,
            "order": null,
            "_view_module_version": "1.2.0",
            "grid_template_areas": null,
            "object_position": null,
            "object_fit": null,
            "grid_auto_columns": null,
            "margin": null,
            "display": null,
            "left": null
          }
        },
        "8006ee01b6134861972a4ce2b3fceeab": {
          "model_module": "@jupyter-widgets/controls",
          "model_name": "DescriptionStyleModel",
          "state": {
            "_view_name": "StyleView",
            "_model_name": "DescriptionStyleModel",
            "description_width": "",
            "_view_module": "@jupyter-widgets/base",
            "_model_module_version": "1.5.0",
            "_view_count": null,
            "_view_module_version": "1.2.0",
            "_model_module": "@jupyter-widgets/controls"
          }
        },
        "2ce6407537c4429c99cc177a3a9ab537": {
          "model_module": "@jupyter-widgets/base",
          "model_name": "LayoutModel",
          "state": {
            "_view_name": "LayoutView",
            "grid_template_rows": null,
            "right": null,
            "justify_content": null,
            "_view_module": "@jupyter-widgets/base",
            "overflow": null,
            "_model_module_version": "1.2.0",
            "_view_count": null,
            "flex_flow": null,
            "width": null,
            "min_width": null,
            "border": null,
            "align_items": null,
            "bottom": null,
            "_model_module": "@jupyter-widgets/base",
            "top": null,
            "grid_column": null,
            "overflow_y": null,
            "overflow_x": null,
            "grid_auto_flow": null,
            "grid_area": null,
            "grid_template_columns": null,
            "flex": null,
            "_model_name": "LayoutModel",
            "justify_items": null,
            "grid_row": null,
            "max_height": null,
            "align_content": null,
            "visibility": null,
            "align_self": null,
            "height": null,
            "min_height": null,
            "padding": null,
            "grid_auto_rows": null,
            "grid_gap": null,
            "max_width": null,
            "order": null,
            "_view_module_version": "1.2.0",
            "grid_template_areas": null,
            "object_position": null,
            "object_fit": null,
            "grid_auto_columns": null,
            "margin": null,
            "display": null,
            "left": null
          }
        },
        "ede46e2c5a4944e3a84a29d05946e18d": {
          "model_module": "@jupyter-widgets/controls",
          "model_name": "HBoxModel",
          "state": {
            "_view_name": "HBoxView",
            "_dom_classes": [],
            "_model_name": "HBoxModel",
            "_view_module": "@jupyter-widgets/controls",
            "_model_module_version": "1.5.0",
            "_view_count": null,
            "_view_module_version": "1.5.0",
            "box_style": "",
            "layout": "IPY_MODEL_a799bb15cc7c4c9bb90d3db83424aad1",
            "_model_module": "@jupyter-widgets/controls",
            "children": [
              "IPY_MODEL_1d0ac74feefe496786843274dd50c191",
              "IPY_MODEL_5188917a3146408698b44bf42304fe1e"
            ]
          }
        },
        "a799bb15cc7c4c9bb90d3db83424aad1": {
          "model_module": "@jupyter-widgets/base",
          "model_name": "LayoutModel",
          "state": {
            "_view_name": "LayoutView",
            "grid_template_rows": null,
            "right": null,
            "justify_content": null,
            "_view_module": "@jupyter-widgets/base",
            "overflow": null,
            "_model_module_version": "1.2.0",
            "_view_count": null,
            "flex_flow": null,
            "width": null,
            "min_width": null,
            "border": null,
            "align_items": null,
            "bottom": null,
            "_model_module": "@jupyter-widgets/base",
            "top": null,
            "grid_column": null,
            "overflow_y": null,
            "overflow_x": null,
            "grid_auto_flow": null,
            "grid_area": null,
            "grid_template_columns": null,
            "flex": null,
            "_model_name": "LayoutModel",
            "justify_items": null,
            "grid_row": null,
            "max_height": null,
            "align_content": null,
            "visibility": null,
            "align_self": null,
            "height": null,
            "min_height": null,
            "padding": null,
            "grid_auto_rows": null,
            "grid_gap": null,
            "max_width": null,
            "order": null,
            "_view_module_version": "1.2.0",
            "grid_template_areas": null,
            "object_position": null,
            "object_fit": null,
            "grid_auto_columns": null,
            "margin": null,
            "display": null,
            "left": null
          }
        },
        "1d0ac74feefe496786843274dd50c191": {
          "model_module": "@jupyter-widgets/controls",
          "model_name": "FloatProgressModel",
          "state": {
            "_view_name": "ProgressView",
            "style": "IPY_MODEL_8d60e7d6330f413ab172b1a6bf5cc1dc",
            "_dom_classes": [],
            "description": "100%",
            "_model_name": "FloatProgressModel",
            "bar_style": "success",
            "max": 553433881,
            "_view_module": "@jupyter-widgets/controls",
            "_model_module_version": "1.5.0",
            "value": 553433881,
            "_view_count": null,
            "_view_module_version": "1.5.0",
            "orientation": "horizontal",
            "min": 0,
            "description_tooltip": null,
            "_model_module": "@jupyter-widgets/controls",
            "layout": "IPY_MODEL_0744b8d1c44d42d3b858cfb628e9ded4"
          }
        },
        "5188917a3146408698b44bf42304fe1e": {
          "model_module": "@jupyter-widgets/controls",
          "model_name": "HTMLModel",
          "state": {
            "_view_name": "HTMLView",
            "style": "IPY_MODEL_a22c0b3c241e450eac1d72ff1979c6de",
            "_dom_classes": [],
            "description": "",
            "_model_name": "HTMLModel",
            "placeholder": "​",
            "_view_module": "@jupyter-widgets/controls",
            "_model_module_version": "1.5.0",
            "value": " 528M/528M [00:18&lt;00:00, 29.4MB/s]",
            "_view_count": null,
            "_view_module_version": "1.5.0",
            "description_tooltip": null,
            "_model_module": "@jupyter-widgets/controls",
            "layout": "IPY_MODEL_f2407fcd8e6f47f2b8821353eede2742"
          }
        },
        "8d60e7d6330f413ab172b1a6bf5cc1dc": {
          "model_module": "@jupyter-widgets/controls",
          "model_name": "ProgressStyleModel",
          "state": {
            "_view_name": "StyleView",
            "_model_name": "ProgressStyleModel",
            "description_width": "initial",
            "_view_module": "@jupyter-widgets/base",
            "_model_module_version": "1.5.0",
            "_view_count": null,
            "_view_module_version": "1.2.0",
            "bar_color": null,
            "_model_module": "@jupyter-widgets/controls"
          }
        },
        "0744b8d1c44d42d3b858cfb628e9ded4": {
          "model_module": "@jupyter-widgets/base",
          "model_name": "LayoutModel",
          "state": {
            "_view_name": "LayoutView",
            "grid_template_rows": null,
            "right": null,
            "justify_content": null,
            "_view_module": "@jupyter-widgets/base",
            "overflow": null,
            "_model_module_version": "1.2.0",
            "_view_count": null,
            "flex_flow": null,
            "width": null,
            "min_width": null,
            "border": null,
            "align_items": null,
            "bottom": null,
            "_model_module": "@jupyter-widgets/base",
            "top": null,
            "grid_column": null,
            "overflow_y": null,
            "overflow_x": null,
            "grid_auto_flow": null,
            "grid_area": null,
            "grid_template_columns": null,
            "flex": null,
            "_model_name": "LayoutModel",
            "justify_items": null,
            "grid_row": null,
            "max_height": null,
            "align_content": null,
            "visibility": null,
            "align_self": null,
            "height": null,
            "min_height": null,
            "padding": null,
            "grid_auto_rows": null,
            "grid_gap": null,
            "max_width": null,
            "order": null,
            "_view_module_version": "1.2.0",
            "grid_template_areas": null,
            "object_position": null,
            "object_fit": null,
            "grid_auto_columns": null,
            "margin": null,
            "display": null,
            "left": null
          }
        },
        "a22c0b3c241e450eac1d72ff1979c6de": {
          "model_module": "@jupyter-widgets/controls",
          "model_name": "DescriptionStyleModel",
          "state": {
            "_view_name": "StyleView",
            "_model_name": "DescriptionStyleModel",
            "description_width": "",
            "_view_module": "@jupyter-widgets/base",
            "_model_module_version": "1.5.0",
            "_view_count": null,
            "_view_module_version": "1.2.0",
            "_model_module": "@jupyter-widgets/controls"
          }
        },
        "f2407fcd8e6f47f2b8821353eede2742": {
          "model_module": "@jupyter-widgets/base",
          "model_name": "LayoutModel",
          "state": {
            "_view_name": "LayoutView",
            "grid_template_rows": null,
            "right": null,
            "justify_content": null,
            "_view_module": "@jupyter-widgets/base",
            "overflow": null,
            "_model_module_version": "1.2.0",
            "_view_count": null,
            "flex_flow": null,
            "width": null,
            "min_width": null,
            "border": null,
            "align_items": null,
            "bottom": null,
            "_model_module": "@jupyter-widgets/base",
            "top": null,
            "grid_column": null,
            "overflow_y": null,
            "overflow_x": null,
            "grid_auto_flow": null,
            "grid_area": null,
            "grid_template_columns": null,
            "flex": null,
            "_model_name": "LayoutModel",
            "justify_items": null,
            "grid_row": null,
            "max_height": null,
            "align_content": null,
            "visibility": null,
            "align_self": null,
            "height": null,
            "min_height": null,
            "padding": null,
            "grid_auto_rows": null,
            "grid_gap": null,
            "max_width": null,
            "order": null,
            "_view_module_version": "1.2.0",
            "grid_template_areas": null,
            "object_position": null,
            "object_fit": null,
            "grid_auto_columns": null,
            "margin": null,
            "display": null,
            "left": null
          }
        }
      }
    }
  },
  "cells": [
    {
      "cell_type": "markdown",
      "metadata": {
        "id": "view-in-github",
        "colab_type": "text"
      },
      "source": [
        "<a href=\"https://colab.research.google.com/github/jeetshah0303/Artificialintelligence/blob/main/TransferLearning.ipynb\" target=\"_parent\"><img src=\"https://colab.research.google.com/assets/colab-badge.svg\" alt=\"Open In Colab\"/></a>"
      ]
    },
    {
      "cell_type": "code",
      "metadata": {
        "id": "WX5MT9q-8sUd"
      },
      "source": [
        "import torch\n",
        "torch.manual_seed(0)\n",
        "torch.backends.cudnn.deterministic= True\n",
        "torch.backends.cudnn.benchmark= False"
      ],
      "execution_count": null,
      "outputs": []
    },
    {
      "cell_type": "code",
      "metadata": {
        "id": "8ttLpnPX9euH"
      },
      "source": [
        "import torch.nn as nn \n",
        "import torch.nn.functional as F\n",
        "from torchvision import datasets, transforms, models\n",
        "from torch.utils.data import DataLoader"
      ],
      "execution_count": null,
      "outputs": []
    },
    {
      "cell_type": "code",
      "metadata": {
        "colab": {
          "base_uri": "https://localhost:8080/"
        },
        "id": "fRRU7URh90NU",
        "outputId": "3c68ab23-1bef-41d3-ffe5-94e5c3d65001"
      },
      "source": [
        "device = torch.device('cuda' if torch.cuda.is_available() else 'cpu')\n",
        "device"
      ],
      "execution_count": null,
      "outputs": [
        {
          "output_type": "execute_result",
          "data": {
            "text/plain": [
              "device(type='cuda')"
            ]
          },
          "metadata": {
            "tags": []
          },
          "execution_count": 3
        }
      ]
    },
    {
      "cell_type": "code",
      "metadata": {
        "colab": {
          "base_uri": "https://localhost:8080/",
          "height": 100,
          "referenced_widgets": [
            "007600998c5246f5946fd86b8a273279",
            "e5bded7da8c749b79d43b1a5a4ffbb68",
            "38a1f2f635bd460eaf26336a03e6076a",
            "8b233d4f300343f39f14be1ceece4b65",
            "817f958f5f624224861f1fd429193714",
            "462ecedf06b149a6ba9ab33ae2f328df",
            "8006ee01b6134861972a4ce2b3fceeab",
            "2ce6407537c4429c99cc177a3a9ab537"
          ]
        },
        "id": "_tKP3jjq-hm7",
        "outputId": "2b52b2bd-22ca-48ac-f069-4a5d233f776e"
      },
      "source": [
        "mean=[0.485,0.456,0.406]\n",
        "std=[0.229,0.224,0.225]\n",
        "transform= transforms.Compose([\n",
        "      transforms.Resize((224,224)),\n",
        "      transforms.ToTensor(),\n",
        "      transforms.Normalize(mean=mean,std=std)\n",
        "  ])\n",
        "trainset=datasets.CIFAR10(root='~/.pytorch/CIFAR10',train=True,download=True,transform=transform)\n",
        "testset=datasets.CIFAR10(root='~/.pytorch/CIFAR10',train=False,transform=transform)\n",
        "\n",
        "trainloader=DataLoader(trainset,batch_size=64,shuffle=True)\n",
        "testloader=DataLoader(testset,batch_size=64,shuffle=False)"
      ],
      "execution_count": null,
      "outputs": [
        {
          "output_type": "stream",
          "text": [
            "Downloading https://www.cs.toronto.edu/~kriz/cifar-10-python.tar.gz to /root/.pytorch/CIFAR10/cifar-10-python.tar.gz\n"
          ],
          "name": "stdout"
        },
        {
          "output_type": "display_data",
          "data": {
            "application/vnd.jupyter.widget-view+json": {
              "model_id": "007600998c5246f5946fd86b8a273279",
              "version_minor": 0,
              "version_major": 2
            },
            "text/plain": [
              "HBox(children=(FloatProgress(value=0.0, max=170498071.0), HTML(value='')))"
            ]
          },
          "metadata": {
            "tags": []
          }
        },
        {
          "output_type": "stream",
          "text": [
            "\n",
            "Extracting /root/.pytorch/CIFAR10/cifar-10-python.tar.gz to /root/.pytorch/CIFAR10\n"
          ],
          "name": "stdout"
        }
      ]
    },
    {
      "cell_type": "code",
      "metadata": {
        "colab": {
          "base_uri": "https://localhost:8080/"
        },
        "id": "-_p2WFXENRJh",
        "outputId": "fb0d6ba7-891f-4068-d474-88836770c535"
      },
      "source": [
        "for images,labels in trainloader:\n",
        "  print(images.size(),labels.size())\n",
        "  break"
      ],
      "execution_count": null,
      "outputs": [
        {
          "output_type": "stream",
          "text": [
            "torch.Size([64, 3, 224, 224]) torch.Size([64])\n"
          ],
          "name": "stdout"
        }
      ]
    },
    {
      "cell_type": "code",
      "metadata": {
        "colab": {
          "base_uri": "https://localhost:8080/",
          "height": 848,
          "referenced_widgets": [
            "ede46e2c5a4944e3a84a29d05946e18d",
            "a799bb15cc7c4c9bb90d3db83424aad1",
            "1d0ac74feefe496786843274dd50c191",
            "5188917a3146408698b44bf42304fe1e",
            "8d60e7d6330f413ab172b1a6bf5cc1dc",
            "0744b8d1c44d42d3b858cfb628e9ded4",
            "a22c0b3c241e450eac1d72ff1979c6de",
            "f2407fcd8e6f47f2b8821353eede2742"
          ]
        },
        "id": "ZRQ69nw5NfK2",
        "outputId": "1d72755a-e499-40ce-cbf6-12eefe4ea449"
      },
      "source": [
        "model = models.vgg16(pretrained=True)\n",
        "model"
      ],
      "execution_count": null,
      "outputs": [
        {
          "output_type": "stream",
          "text": [
            "Downloading: \"https://download.pytorch.org/models/vgg16-397923af.pth\" to /root/.cache/torch/hub/checkpoints/vgg16-397923af.pth\n"
          ],
          "name": "stderr"
        },
        {
          "output_type": "display_data",
          "data": {
            "application/vnd.jupyter.widget-view+json": {
              "model_id": "ede46e2c5a4944e3a84a29d05946e18d",
              "version_minor": 0,
              "version_major": 2
            },
            "text/plain": [
              "HBox(children=(FloatProgress(value=0.0, max=553433881.0), HTML(value='')))"
            ]
          },
          "metadata": {
            "tags": []
          }
        },
        {
          "output_type": "stream",
          "text": [
            "\n"
          ],
          "name": "stdout"
        },
        {
          "output_type": "execute_result",
          "data": {
            "text/plain": [
              "VGG(\n",
              "  (features): Sequential(\n",
              "    (0): Conv2d(3, 64, kernel_size=(3, 3), stride=(1, 1), padding=(1, 1))\n",
              "    (1): ReLU(inplace=True)\n",
              "    (2): Conv2d(64, 64, kernel_size=(3, 3), stride=(1, 1), padding=(1, 1))\n",
              "    (3): ReLU(inplace=True)\n",
              "    (4): MaxPool2d(kernel_size=2, stride=2, padding=0, dilation=1, ceil_mode=False)\n",
              "    (5): Conv2d(64, 128, kernel_size=(3, 3), stride=(1, 1), padding=(1, 1))\n",
              "    (6): ReLU(inplace=True)\n",
              "    (7): Conv2d(128, 128, kernel_size=(3, 3), stride=(1, 1), padding=(1, 1))\n",
              "    (8): ReLU(inplace=True)\n",
              "    (9): MaxPool2d(kernel_size=2, stride=2, padding=0, dilation=1, ceil_mode=False)\n",
              "    (10): Conv2d(128, 256, kernel_size=(3, 3), stride=(1, 1), padding=(1, 1))\n",
              "    (11): ReLU(inplace=True)\n",
              "    (12): Conv2d(256, 256, kernel_size=(3, 3), stride=(1, 1), padding=(1, 1))\n",
              "    (13): ReLU(inplace=True)\n",
              "    (14): Conv2d(256, 256, kernel_size=(3, 3), stride=(1, 1), padding=(1, 1))\n",
              "    (15): ReLU(inplace=True)\n",
              "    (16): MaxPool2d(kernel_size=2, stride=2, padding=0, dilation=1, ceil_mode=False)\n",
              "    (17): Conv2d(256, 512, kernel_size=(3, 3), stride=(1, 1), padding=(1, 1))\n",
              "    (18): ReLU(inplace=True)\n",
              "    (19): Conv2d(512, 512, kernel_size=(3, 3), stride=(1, 1), padding=(1, 1))\n",
              "    (20): ReLU(inplace=True)\n",
              "    (21): Conv2d(512, 512, kernel_size=(3, 3), stride=(1, 1), padding=(1, 1))\n",
              "    (22): ReLU(inplace=True)\n",
              "    (23): MaxPool2d(kernel_size=2, stride=2, padding=0, dilation=1, ceil_mode=False)\n",
              "    (24): Conv2d(512, 512, kernel_size=(3, 3), stride=(1, 1), padding=(1, 1))\n",
              "    (25): ReLU(inplace=True)\n",
              "    (26): Conv2d(512, 512, kernel_size=(3, 3), stride=(1, 1), padding=(1, 1))\n",
              "    (27): ReLU(inplace=True)\n",
              "    (28): Conv2d(512, 512, kernel_size=(3, 3), stride=(1, 1), padding=(1, 1))\n",
              "    (29): ReLU(inplace=True)\n",
              "    (30): MaxPool2d(kernel_size=2, stride=2, padding=0, dilation=1, ceil_mode=False)\n",
              "  )\n",
              "  (avgpool): AdaptiveAvgPool2d(output_size=(7, 7))\n",
              "  (classifier): Sequential(\n",
              "    (0): Linear(in_features=25088, out_features=4096, bias=True)\n",
              "    (1): ReLU(inplace=True)\n",
              "    (2): Dropout(p=0.5, inplace=False)\n",
              "    (3): Linear(in_features=4096, out_features=4096, bias=True)\n",
              "    (4): ReLU(inplace=True)\n",
              "    (5): Dropout(p=0.5, inplace=False)\n",
              "    (6): Linear(in_features=4096, out_features=1000, bias=True)\n",
              "  )\n",
              ")"
            ]
          },
          "metadata": {
            "tags": []
          },
          "execution_count": 6
        }
      ]
    },
    {
      "cell_type": "code",
      "metadata": {
        "colab": {
          "base_uri": "https://localhost:8080/"
        },
        "id": "QRsJ-XwGN84y",
        "outputId": "fd449bbe-393d-4579-96ab-4dce6af35cb3"
      },
      "source": [
        "model.classifier"
      ],
      "execution_count": null,
      "outputs": [
        {
          "output_type": "execute_result",
          "data": {
            "text/plain": [
              "Sequential(\n",
              "  (0): Linear(in_features=25088, out_features=4096, bias=True)\n",
              "  (1): ReLU(inplace=True)\n",
              "  (2): Dropout(p=0.5, inplace=False)\n",
              "  (3): Linear(in_features=4096, out_features=4096, bias=True)\n",
              "  (4): ReLU(inplace=True)\n",
              "  (5): Dropout(p=0.5, inplace=False)\n",
              "  (6): Linear(in_features=4096, out_features=1000, bias=True)\n",
              ")"
            ]
          },
          "metadata": {
            "tags": []
          },
          "execution_count": 7
        }
      ]
    },
    {
      "cell_type": "code",
      "metadata": {
        "id": "y4WtNEpZ6NAG"
      },
      "source": [
        "for param in model.parameters():\n",
        "  param.requires_grad=False\n"
      ],
      "execution_count": null,
      "outputs": []
    },
    {
      "cell_type": "code",
      "metadata": {
        "id": "NYFwvPkN6b8V"
      },
      "source": [
        "model.classifier[-1]=nn.Sequential(\n",
        "                     nn.Linear(in_features=4096,out_features=10),\n",
        "                     nn.LogSoftmax(dim=1))"
      ],
      "execution_count": null,
      "outputs": []
    },
    {
      "cell_type": "code",
      "metadata": {
        "colab": {
          "base_uri": "https://localhost:8080/"
        },
        "id": "mpMrGoSD6cZD",
        "outputId": "61717d65-761d-41b5-da22-28c952cdff27"
      },
      "source": [
        "model.classifier"
      ],
      "execution_count": null,
      "outputs": [
        {
          "output_type": "execute_result",
          "data": {
            "text/plain": [
              "Sequential(\n",
              "  (0): Linear(in_features=25088, out_features=4096, bias=True)\n",
              "  (1): ReLU(inplace=True)\n",
              "  (2): Dropout(p=0.5, inplace=False)\n",
              "  (3): Linear(in_features=4096, out_features=4096, bias=True)\n",
              "  (4): ReLU(inplace=True)\n",
              "  (5): Dropout(p=0.5, inplace=False)\n",
              "  (6): Sequential(\n",
              "    (0): Linear(in_features=4096, out_features=10, bias=True)\n",
              "    (1): LogSoftmax(dim=1)\n",
              "  )\n",
              ")"
            ]
          },
          "metadata": {
            "tags": []
          },
          "execution_count": 10
        }
      ]
    },
    {
      "cell_type": "code",
      "metadata": {
        "id": "J-m83j9l6cnD"
      },
      "source": [
        "criterion = nn.NLLLoss()"
      ],
      "execution_count": null,
      "outputs": []
    },
    {
      "cell_type": "code",
      "metadata": {
        "id": "S29-YScM7RhS"
      },
      "source": [
        "from torch.optim import Adam \n",
        "model=model.to(device)\n",
        "optimizer = Adam(model.parameters())"
      ],
      "execution_count": null,
      "outputs": []
    },
    {
      "cell_type": "code",
      "metadata": {
        "id": "cJjrvJVX7R26"
      },
      "source": [
        ""
      ],
      "execution_count": null,
      "outputs": []
    },
    {
      "cell_type": "code",
      "metadata": {
        "colab": {
          "base_uri": "https://localhost:8080/"
        },
        "id": "jVx7nJO77SAy",
        "outputId": "d373febf-5732-459f-e1fc-cba5dbaf33b5"
      },
      "source": [
        "num_epochs=1\n",
        "batch_loss=0\n",
        "cum_epoch_loss=0\n",
        "for e in range(num_epochs):\n",
        "  cum_epoch_loss=0\n",
        "  for batch, (images,labels) in enumerate(trainloader,1):\n",
        "    images=images.to(device)\n",
        "    labels=labels.to(device)\n",
        "\n",
        "    optimizer.zero_grad()\n",
        "    logps=model(images)\n",
        "    loss=criterion(logps,labels)\n",
        "    loss.backward()\n",
        "    optimizer.step()\n",
        "\n",
        "    batch_loss+=loss.item()\n",
        "    print(f'Epoch({e}/{num_epochs}: Batch number({batch}/{(len(trainloader))} Batch loss : {loss.item()}')\n",
        "  \n",
        "  print(f'Training loss: {batch_loss/len(trainloader)}')"
      ],
      "execution_count": null,
      "outputs": [
        {
          "output_type": "stream",
          "text": [
            "/usr/local/lib/python3.7/dist-packages/torch/nn/functional.py:718: UserWarning: Named tensors and all their associated APIs are an experimental feature and subject to change. Please do not use them for anything important until they are released as stable. (Triggered internally at  /pytorch/c10/core/TensorImpl.h:1156.)\n",
            "  return torch.max_pool2d(input, kernel_size, stride, padding, dilation, ceil_mode)\n"
          ],
          "name": "stderr"
        },
        {
          "output_type": "stream",
          "text": [
            "Epoch(0/1: Batch number(1/782 Batch loss : 2.3670763969421387\n",
            "Epoch(0/1: Batch number(2/782 Batch loss : 2.2440648078918457\n",
            "Epoch(0/1: Batch number(3/782 Batch loss : 2.0836563110351562\n",
            "Epoch(0/1: Batch number(4/782 Batch loss : 1.9555302858352661\n",
            "Epoch(0/1: Batch number(5/782 Batch loss : 1.8201491832733154\n",
            "Epoch(0/1: Batch number(6/782 Batch loss : 1.6128766536712646\n",
            "Epoch(0/1: Batch number(7/782 Batch loss : 1.4988646507263184\n",
            "Epoch(0/1: Batch number(8/782 Batch loss : 1.4244024753570557\n",
            "Epoch(0/1: Batch number(9/782 Batch loss : 1.1824637651443481\n",
            "Epoch(0/1: Batch number(10/782 Batch loss : 1.2348178625106812\n",
            "Epoch(0/1: Batch number(11/782 Batch loss : 1.1804953813552856\n",
            "Epoch(0/1: Batch number(12/782 Batch loss : 1.3310612440109253\n",
            "Epoch(0/1: Batch number(13/782 Batch loss : 1.2004382610321045\n",
            "Epoch(0/1: Batch number(14/782 Batch loss : 1.0369166135787964\n",
            "Epoch(0/1: Batch number(15/782 Batch loss : 1.0154385566711426\n",
            "Epoch(0/1: Batch number(16/782 Batch loss : 0.9989744424819946\n",
            "Epoch(0/1: Batch number(17/782 Batch loss : 1.0168943405151367\n",
            "Epoch(0/1: Batch number(18/782 Batch loss : 1.1723132133483887\n",
            "Epoch(0/1: Batch number(19/782 Batch loss : 0.8962875604629517\n",
            "Epoch(0/1: Batch number(20/782 Batch loss : 0.7709546089172363\n",
            "Epoch(0/1: Batch number(21/782 Batch loss : 1.0707899332046509\n",
            "Epoch(0/1: Batch number(22/782 Batch loss : 0.8574801087379456\n",
            "Epoch(0/1: Batch number(23/782 Batch loss : 0.7668120265007019\n",
            "Epoch(0/1: Batch number(24/782 Batch loss : 0.7832139730453491\n",
            "Epoch(0/1: Batch number(25/782 Batch loss : 0.954173743724823\n",
            "Epoch(0/1: Batch number(26/782 Batch loss : 0.8724514245986938\n",
            "Epoch(0/1: Batch number(27/782 Batch loss : 0.6779285669326782\n",
            "Epoch(0/1: Batch number(28/782 Batch loss : 0.8205599188804626\n",
            "Epoch(0/1: Batch number(29/782 Batch loss : 0.844297468662262\n",
            "Epoch(0/1: Batch number(30/782 Batch loss : 0.758210301399231\n",
            "Epoch(0/1: Batch number(31/782 Batch loss : 0.6510530114173889\n",
            "Epoch(0/1: Batch number(32/782 Batch loss : 0.9045143723487854\n",
            "Epoch(0/1: Batch number(33/782 Batch loss : 0.7783816456794739\n",
            "Epoch(0/1: Batch number(34/782 Batch loss : 0.7151338458061218\n",
            "Epoch(0/1: Batch number(35/782 Batch loss : 0.6119298934936523\n",
            "Epoch(0/1: Batch number(36/782 Batch loss : 0.5658458471298218\n",
            "Epoch(0/1: Batch number(37/782 Batch loss : 0.7154731750488281\n",
            "Epoch(0/1: Batch number(38/782 Batch loss : 0.8233218789100647\n",
            "Epoch(0/1: Batch number(39/782 Batch loss : 0.740144670009613\n",
            "Epoch(0/1: Batch number(40/782 Batch loss : 0.7753102779388428\n",
            "Epoch(0/1: Batch number(41/782 Batch loss : 0.8250656127929688\n",
            "Epoch(0/1: Batch number(42/782 Batch loss : 0.7851025462150574\n",
            "Epoch(0/1: Batch number(43/782 Batch loss : 0.5486363172531128\n",
            "Epoch(0/1: Batch number(44/782 Batch loss : 0.931759774684906\n",
            "Epoch(0/1: Batch number(45/782 Batch loss : 0.7573286890983582\n",
            "Epoch(0/1: Batch number(46/782 Batch loss : 0.6127246022224426\n",
            "Epoch(0/1: Batch number(47/782 Batch loss : 0.5361790060997009\n",
            "Epoch(0/1: Batch number(48/782 Batch loss : 0.6394773721694946\n",
            "Epoch(0/1: Batch number(49/782 Batch loss : 0.718662440776825\n",
            "Epoch(0/1: Batch number(50/782 Batch loss : 0.8682997226715088\n",
            "Epoch(0/1: Batch number(51/782 Batch loss : 0.8383520245552063\n",
            "Epoch(0/1: Batch number(52/782 Batch loss : 0.6118052005767822\n",
            "Epoch(0/1: Batch number(53/782 Batch loss : 0.611986517906189\n",
            "Epoch(0/1: Batch number(54/782 Batch loss : 0.9261398315429688\n",
            "Epoch(0/1: Batch number(55/782 Batch loss : 0.6931958794593811\n",
            "Epoch(0/1: Batch number(56/782 Batch loss : 0.8079422116279602\n",
            "Epoch(0/1: Batch number(57/782 Batch loss : 0.7278904318809509\n",
            "Epoch(0/1: Batch number(58/782 Batch loss : 0.7037132382392883\n",
            "Epoch(0/1: Batch number(59/782 Batch loss : 0.7599563002586365\n",
            "Epoch(0/1: Batch number(60/782 Batch loss : 0.8070835471153259\n",
            "Epoch(0/1: Batch number(61/782 Batch loss : 0.743895947933197\n",
            "Epoch(0/1: Batch number(62/782 Batch loss : 0.8093764185905457\n",
            "Epoch(0/1: Batch number(63/782 Batch loss : 0.566900372505188\n",
            "Epoch(0/1: Batch number(64/782 Batch loss : 0.5364723205566406\n",
            "Epoch(0/1: Batch number(65/782 Batch loss : 0.5874910354614258\n",
            "Epoch(0/1: Batch number(66/782 Batch loss : 0.5474501848220825\n",
            "Epoch(0/1: Batch number(67/782 Batch loss : 0.7405458092689514\n",
            "Epoch(0/1: Batch number(68/782 Batch loss : 0.8257050514221191\n",
            "Epoch(0/1: Batch number(69/782 Batch loss : 0.7755629420280457\n",
            "Epoch(0/1: Batch number(70/782 Batch loss : 0.5699502229690552\n",
            "Epoch(0/1: Batch number(71/782 Batch loss : 0.7977479100227356\n",
            "Epoch(0/1: Batch number(72/782 Batch loss : 0.6928318738937378\n",
            "Epoch(0/1: Batch number(73/782 Batch loss : 0.6523171067237854\n",
            "Epoch(0/1: Batch number(74/782 Batch loss : 0.4886075556278229\n",
            "Epoch(0/1: Batch number(75/782 Batch loss : 0.6398636698722839\n",
            "Epoch(0/1: Batch number(76/782 Batch loss : 0.906575620174408\n",
            "Epoch(0/1: Batch number(77/782 Batch loss : 0.9675377011299133\n",
            "Epoch(0/1: Batch number(78/782 Batch loss : 0.5571548938751221\n",
            "Epoch(0/1: Batch number(79/782 Batch loss : 0.6890221834182739\n",
            "Epoch(0/1: Batch number(80/782 Batch loss : 0.497623473405838\n",
            "Epoch(0/1: Batch number(81/782 Batch loss : 0.5551431179046631\n",
            "Epoch(0/1: Batch number(82/782 Batch loss : 0.4627225697040558\n",
            "Epoch(0/1: Batch number(83/782 Batch loss : 0.811665415763855\n",
            "Epoch(0/1: Batch number(84/782 Batch loss : 0.4961080849170685\n",
            "Epoch(0/1: Batch number(85/782 Batch loss : 0.6150408983230591\n",
            "Epoch(0/1: Batch number(86/782 Batch loss : 0.8191678524017334\n",
            "Epoch(0/1: Batch number(87/782 Batch loss : 0.8679131865501404\n",
            "Epoch(0/1: Batch number(88/782 Batch loss : 0.7239434719085693\n",
            "Epoch(0/1: Batch number(89/782 Batch loss : 0.40328776836395264\n",
            "Epoch(0/1: Batch number(90/782 Batch loss : 0.8052845597267151\n",
            "Epoch(0/1: Batch number(91/782 Batch loss : 0.5956659913063049\n",
            "Epoch(0/1: Batch number(92/782 Batch loss : 0.48503437638282776\n",
            "Epoch(0/1: Batch number(93/782 Batch loss : 0.635114312171936\n",
            "Epoch(0/1: Batch number(94/782 Batch loss : 0.5609407424926758\n",
            "Epoch(0/1: Batch number(95/782 Batch loss : 0.7146026492118835\n",
            "Epoch(0/1: Batch number(96/782 Batch loss : 0.7571491003036499\n",
            "Epoch(0/1: Batch number(97/782 Batch loss : 0.5494404435157776\n",
            "Epoch(0/1: Batch number(98/782 Batch loss : 0.7055032849311829\n",
            "Epoch(0/1: Batch number(99/782 Batch loss : 0.7019007802009583\n",
            "Epoch(0/1: Batch number(100/782 Batch loss : 0.49290376901626587\n",
            "Epoch(0/1: Batch number(101/782 Batch loss : 0.5536959767341614\n",
            "Epoch(0/1: Batch number(102/782 Batch loss : 0.9464478492736816\n",
            "Epoch(0/1: Batch number(103/782 Batch loss : 0.5852385759353638\n",
            "Epoch(0/1: Batch number(104/782 Batch loss : 0.7926422357559204\n",
            "Epoch(0/1: Batch number(105/782 Batch loss : 0.6107725501060486\n",
            "Epoch(0/1: Batch number(106/782 Batch loss : 0.7602465748786926\n",
            "Epoch(0/1: Batch number(107/782 Batch loss : 0.6430972218513489\n",
            "Epoch(0/1: Batch number(108/782 Batch loss : 0.6270590424537659\n",
            "Epoch(0/1: Batch number(109/782 Batch loss : 0.5329128503799438\n",
            "Epoch(0/1: Batch number(110/782 Batch loss : 0.5545604228973389\n",
            "Epoch(0/1: Batch number(111/782 Batch loss : 0.7208987474441528\n",
            "Epoch(0/1: Batch number(112/782 Batch loss : 0.44781017303466797\n",
            "Epoch(0/1: Batch number(113/782 Batch loss : 0.4961364269256592\n",
            "Epoch(0/1: Batch number(114/782 Batch loss : 0.5514695644378662\n",
            "Epoch(0/1: Batch number(115/782 Batch loss : 0.708377480506897\n",
            "Epoch(0/1: Batch number(116/782 Batch loss : 0.7134901881217957\n",
            "Epoch(0/1: Batch number(117/782 Batch loss : 0.6799017786979675\n",
            "Epoch(0/1: Batch number(118/782 Batch loss : 0.6695002317428589\n",
            "Epoch(0/1: Batch number(119/782 Batch loss : 0.5418422818183899\n",
            "Epoch(0/1: Batch number(120/782 Batch loss : 0.7131292223930359\n",
            "Epoch(0/1: Batch number(121/782 Batch loss : 0.6525747179985046\n",
            "Epoch(0/1: Batch number(122/782 Batch loss : 0.5610029697418213\n",
            "Epoch(0/1: Batch number(123/782 Batch loss : 0.5865797996520996\n",
            "Epoch(0/1: Batch number(124/782 Batch loss : 0.48441311717033386\n",
            "Epoch(0/1: Batch number(125/782 Batch loss : 0.7146645784378052\n",
            "Epoch(0/1: Batch number(126/782 Batch loss : 0.5771723985671997\n",
            "Epoch(0/1: Batch number(127/782 Batch loss : 0.7107506990432739\n",
            "Epoch(0/1: Batch number(128/782 Batch loss : 0.6706280708312988\n",
            "Epoch(0/1: Batch number(129/782 Batch loss : 0.7586924433708191\n",
            "Epoch(0/1: Batch number(130/782 Batch loss : 0.6747328639030457\n",
            "Epoch(0/1: Batch number(131/782 Batch loss : 0.5769547820091248\n",
            "Epoch(0/1: Batch number(132/782 Batch loss : 0.5866981148719788\n",
            "Epoch(0/1: Batch number(133/782 Batch loss : 0.7585593461990356\n",
            "Epoch(0/1: Batch number(134/782 Batch loss : 0.5574753880500793\n",
            "Epoch(0/1: Batch number(135/782 Batch loss : 0.6866590976715088\n",
            "Epoch(0/1: Batch number(136/782 Batch loss : 0.7280697822570801\n",
            "Epoch(0/1: Batch number(137/782 Batch loss : 0.513709545135498\n",
            "Epoch(0/1: Batch number(138/782 Batch loss : 0.8309490084648132\n",
            "Epoch(0/1: Batch number(139/782 Batch loss : 0.5836605429649353\n",
            "Epoch(0/1: Batch number(140/782 Batch loss : 0.7792394757270813\n",
            "Epoch(0/1: Batch number(141/782 Batch loss : 0.487948477268219\n",
            "Epoch(0/1: Batch number(142/782 Batch loss : 0.4771541655063629\n",
            "Epoch(0/1: Batch number(143/782 Batch loss : 0.5593844056129456\n",
            "Epoch(0/1: Batch number(144/782 Batch loss : 0.5045614838600159\n",
            "Epoch(0/1: Batch number(145/782 Batch loss : 0.6170312762260437\n",
            "Epoch(0/1: Batch number(146/782 Batch loss : 0.6836757659912109\n",
            "Epoch(0/1: Batch number(147/782 Batch loss : 0.5563768148422241\n",
            "Epoch(0/1: Batch number(148/782 Batch loss : 0.6601050496101379\n",
            "Epoch(0/1: Batch number(149/782 Batch loss : 0.630944013595581\n",
            "Epoch(0/1: Batch number(150/782 Batch loss : 0.651589035987854\n",
            "Epoch(0/1: Batch number(151/782 Batch loss : 0.6579381823539734\n",
            "Epoch(0/1: Batch number(152/782 Batch loss : 0.782765805721283\n",
            "Epoch(0/1: Batch number(153/782 Batch loss : 0.8285272121429443\n",
            "Epoch(0/1: Batch number(154/782 Batch loss : 0.5491929650306702\n",
            "Epoch(0/1: Batch number(155/782 Batch loss : 0.7826034426689148\n",
            "Epoch(0/1: Batch number(156/782 Batch loss : 0.5162264108657837\n",
            "Epoch(0/1: Batch number(157/782 Batch loss : 0.5690271854400635\n",
            "Epoch(0/1: Batch number(158/782 Batch loss : 0.8631359934806824\n",
            "Epoch(0/1: Batch number(159/782 Batch loss : 0.6361691951751709\n",
            "Epoch(0/1: Batch number(160/782 Batch loss : 0.7583187222480774\n",
            "Epoch(0/1: Batch number(161/782 Batch loss : 0.46391820907592773\n",
            "Epoch(0/1: Batch number(162/782 Batch loss : 0.680924654006958\n",
            "Epoch(0/1: Batch number(163/782 Batch loss : 1.0483299493789673\n",
            "Epoch(0/1: Batch number(164/782 Batch loss : 0.3449394106864929\n",
            "Epoch(0/1: Batch number(165/782 Batch loss : 0.8194358944892883\n",
            "Epoch(0/1: Batch number(166/782 Batch loss : 0.4644310474395752\n",
            "Epoch(0/1: Batch number(167/782 Batch loss : 0.6057031750679016\n",
            "Epoch(0/1: Batch number(168/782 Batch loss : 0.7669335007667542\n",
            "Epoch(0/1: Batch number(169/782 Batch loss : 0.5321953892707825\n",
            "Epoch(0/1: Batch number(170/782 Batch loss : 0.6067171096801758\n",
            "Epoch(0/1: Batch number(171/782 Batch loss : 0.6075162887573242\n",
            "Epoch(0/1: Batch number(172/782 Batch loss : 0.7241889238357544\n",
            "Epoch(0/1: Batch number(173/782 Batch loss : 0.7331697344779968\n",
            "Epoch(0/1: Batch number(174/782 Batch loss : 0.6914153099060059\n",
            "Epoch(0/1: Batch number(175/782 Batch loss : 0.5831983685493469\n",
            "Epoch(0/1: Batch number(176/782 Batch loss : 0.5712604522705078\n",
            "Epoch(0/1: Batch number(177/782 Batch loss : 0.6050159931182861\n",
            "Epoch(0/1: Batch number(178/782 Batch loss : 0.5474328398704529\n",
            "Epoch(0/1: Batch number(179/782 Batch loss : 0.9323664903640747\n",
            "Epoch(0/1: Batch number(180/782 Batch loss : 0.5438035130500793\n",
            "Epoch(0/1: Batch number(181/782 Batch loss : 0.6767604351043701\n",
            "Epoch(0/1: Batch number(182/782 Batch loss : 0.5513681173324585\n",
            "Epoch(0/1: Batch number(183/782 Batch loss : 0.7229857444763184\n",
            "Epoch(0/1: Batch number(184/782 Batch loss : 0.6938365697860718\n",
            "Epoch(0/1: Batch number(185/782 Batch loss : 0.6466423273086548\n",
            "Epoch(0/1: Batch number(186/782 Batch loss : 0.6362454295158386\n",
            "Epoch(0/1: Batch number(187/782 Batch loss : 0.47690314054489136\n",
            "Epoch(0/1: Batch number(188/782 Batch loss : 0.6446572542190552\n",
            "Epoch(0/1: Batch number(189/782 Batch loss : 0.6233996152877808\n",
            "Epoch(0/1: Batch number(190/782 Batch loss : 0.50543612241745\n",
            "Epoch(0/1: Batch number(191/782 Batch loss : 0.6358906030654907\n",
            "Epoch(0/1: Batch number(192/782 Batch loss : 0.598755955696106\n",
            "Epoch(0/1: Batch number(193/782 Batch loss : 0.7399552464485168\n",
            "Epoch(0/1: Batch number(194/782 Batch loss : 0.662109375\n",
            "Epoch(0/1: Batch number(195/782 Batch loss : 0.4666001498699188\n",
            "Epoch(0/1: Batch number(196/782 Batch loss : 0.822870135307312\n",
            "Epoch(0/1: Batch number(197/782 Batch loss : 0.6528806090354919\n",
            "Epoch(0/1: Batch number(198/782 Batch loss : 0.6470143795013428\n",
            "Epoch(0/1: Batch number(199/782 Batch loss : 0.7824223041534424\n",
            "Epoch(0/1: Batch number(200/782 Batch loss : 0.6359463334083557\n",
            "Epoch(0/1: Batch number(201/782 Batch loss : 0.5327150225639343\n",
            "Epoch(0/1: Batch number(202/782 Batch loss : 0.7506363391876221\n",
            "Epoch(0/1: Batch number(203/782 Batch loss : 0.5942239761352539\n",
            "Epoch(0/1: Batch number(204/782 Batch loss : 0.5988729000091553\n",
            "Epoch(0/1: Batch number(205/782 Batch loss : 0.504288375377655\n",
            "Epoch(0/1: Batch number(206/782 Batch loss : 0.4976070523262024\n",
            "Epoch(0/1: Batch number(207/782 Batch loss : 0.5560829639434814\n",
            "Epoch(0/1: Batch number(208/782 Batch loss : 0.6709646582603455\n",
            "Epoch(0/1: Batch number(209/782 Batch loss : 0.6730469465255737\n",
            "Epoch(0/1: Batch number(210/782 Batch loss : 0.3233289122581482\n",
            "Epoch(0/1: Batch number(211/782 Batch loss : 0.744521975517273\n",
            "Epoch(0/1: Batch number(212/782 Batch loss : 0.42936211824417114\n",
            "Epoch(0/1: Batch number(213/782 Batch loss : 0.47368699312210083\n",
            "Epoch(0/1: Batch number(214/782 Batch loss : 0.6917304396629333\n",
            "Epoch(0/1: Batch number(215/782 Batch loss : 0.6756893992424011\n",
            "Epoch(0/1: Batch number(216/782 Batch loss : 0.739625096321106\n",
            "Epoch(0/1: Batch number(217/782 Batch loss : 0.700312077999115\n",
            "Epoch(0/1: Batch number(218/782 Batch loss : 0.634796142578125\n",
            "Epoch(0/1: Batch number(219/782 Batch loss : 0.582260251045227\n",
            "Epoch(0/1: Batch number(220/782 Batch loss : 0.6798892021179199\n",
            "Epoch(0/1: Batch number(221/782 Batch loss : 0.8907522559165955\n",
            "Epoch(0/1: Batch number(222/782 Batch loss : 0.58123379945755\n",
            "Epoch(0/1: Batch number(223/782 Batch loss : 0.5168737769126892\n",
            "Epoch(0/1: Batch number(224/782 Batch loss : 0.7514004111289978\n",
            "Epoch(0/1: Batch number(225/782 Batch loss : 0.39152419567108154\n",
            "Epoch(0/1: Batch number(226/782 Batch loss : 0.46410635113716125\n",
            "Epoch(0/1: Batch number(227/782 Batch loss : 0.4713868200778961\n",
            "Epoch(0/1: Batch number(228/782 Batch loss : 0.578619658946991\n",
            "Epoch(0/1: Batch number(229/782 Batch loss : 0.47105854749679565\n",
            "Epoch(0/1: Batch number(230/782 Batch loss : 0.46576017141342163\n",
            "Epoch(0/1: Batch number(231/782 Batch loss : 0.7739824652671814\n",
            "Epoch(0/1: Batch number(232/782 Batch loss : 0.45123913884162903\n",
            "Epoch(0/1: Batch number(233/782 Batch loss : 0.5083298683166504\n",
            "Epoch(0/1: Batch number(234/782 Batch loss : 0.5225754380226135\n",
            "Epoch(0/1: Batch number(235/782 Batch loss : 0.708609402179718\n",
            "Epoch(0/1: Batch number(236/782 Batch loss : 0.6957274675369263\n",
            "Epoch(0/1: Batch number(237/782 Batch loss : 0.776120126247406\n",
            "Epoch(0/1: Batch number(238/782 Batch loss : 0.744774580001831\n",
            "Epoch(0/1: Batch number(239/782 Batch loss : 0.4914320409297943\n",
            "Epoch(0/1: Batch number(240/782 Batch loss : 0.7450433373451233\n",
            "Epoch(0/1: Batch number(241/782 Batch loss : 0.5635479688644409\n",
            "Epoch(0/1: Batch number(242/782 Batch loss : 0.45468056201934814\n",
            "Epoch(0/1: Batch number(243/782 Batch loss : 0.7633652687072754\n",
            "Epoch(0/1: Batch number(244/782 Batch loss : 0.5024657845497131\n",
            "Epoch(0/1: Batch number(245/782 Batch loss : 0.5247172117233276\n",
            "Epoch(0/1: Batch number(246/782 Batch loss : 0.6091318130493164\n",
            "Epoch(0/1: Batch number(247/782 Batch loss : 0.42087942361831665\n",
            "Epoch(0/1: Batch number(248/782 Batch loss : 0.7173805832862854\n",
            "Epoch(0/1: Batch number(249/782 Batch loss : 0.46518245339393616\n",
            "Epoch(0/1: Batch number(250/782 Batch loss : 0.7333650588989258\n",
            "Epoch(0/1: Batch number(251/782 Batch loss : 0.5163246989250183\n",
            "Epoch(0/1: Batch number(252/782 Batch loss : 0.5848780274391174\n",
            "Epoch(0/1: Batch number(253/782 Batch loss : 0.5212727189064026\n",
            "Epoch(0/1: Batch number(254/782 Batch loss : 0.6084848642349243\n",
            "Epoch(0/1: Batch number(255/782 Batch loss : 0.6306558847427368\n",
            "Epoch(0/1: Batch number(256/782 Batch loss : 0.6547080874443054\n",
            "Epoch(0/1: Batch number(257/782 Batch loss : 0.5191262364387512\n",
            "Epoch(0/1: Batch number(258/782 Batch loss : 0.5882144570350647\n",
            "Epoch(0/1: Batch number(259/782 Batch loss : 0.6364486813545227\n",
            "Epoch(0/1: Batch number(260/782 Batch loss : 0.6551604866981506\n",
            "Epoch(0/1: Batch number(261/782 Batch loss : 0.5414307713508606\n",
            "Epoch(0/1: Batch number(262/782 Batch loss : 0.6341803669929504\n",
            "Epoch(0/1: Batch number(263/782 Batch loss : 0.6432439088821411\n",
            "Epoch(0/1: Batch number(264/782 Batch loss : 0.6496614813804626\n",
            "Epoch(0/1: Batch number(265/782 Batch loss : 0.5121689438819885\n",
            "Epoch(0/1: Batch number(266/782 Batch loss : 0.5837987661361694\n",
            "Epoch(0/1: Batch number(267/782 Batch loss : 0.8326950073242188\n",
            "Epoch(0/1: Batch number(268/782 Batch loss : 0.5995973944664001\n",
            "Epoch(0/1: Batch number(269/782 Batch loss : 0.7277324795722961\n",
            "Epoch(0/1: Batch number(270/782 Batch loss : 0.6458357572555542\n",
            "Epoch(0/1: Batch number(271/782 Batch loss : 0.6823601722717285\n",
            "Epoch(0/1: Batch number(272/782 Batch loss : 0.6286493539810181\n",
            "Epoch(0/1: Batch number(273/782 Batch loss : 0.3764554262161255\n",
            "Epoch(0/1: Batch number(274/782 Batch loss : 0.7113538384437561\n",
            "Epoch(0/1: Batch number(275/782 Batch loss : 0.6280530095100403\n",
            "Epoch(0/1: Batch number(276/782 Batch loss : 0.6603979468345642\n",
            "Epoch(0/1: Batch number(277/782 Batch loss : 0.4851984679698944\n",
            "Epoch(0/1: Batch number(278/782 Batch loss : 0.5838317275047302\n",
            "Epoch(0/1: Batch number(279/782 Batch loss : 0.5842940807342529\n",
            "Epoch(0/1: Batch number(280/782 Batch loss : 0.6153799295425415\n",
            "Epoch(0/1: Batch number(281/782 Batch loss : 0.510523796081543\n",
            "Epoch(0/1: Batch number(282/782 Batch loss : 0.6994743347167969\n",
            "Epoch(0/1: Batch number(283/782 Batch loss : 0.6838773488998413\n",
            "Epoch(0/1: Batch number(284/782 Batch loss : 0.6344135999679565\n",
            "Epoch(0/1: Batch number(285/782 Batch loss : 0.6573929190635681\n",
            "Epoch(0/1: Batch number(286/782 Batch loss : 0.6420295238494873\n",
            "Epoch(0/1: Batch number(287/782 Batch loss : 0.7977703213691711\n",
            "Epoch(0/1: Batch number(288/782 Batch loss : 0.7235103249549866\n",
            "Epoch(0/1: Batch number(289/782 Batch loss : 0.768955647945404\n",
            "Epoch(0/1: Batch number(290/782 Batch loss : 0.5036784410476685\n",
            "Epoch(0/1: Batch number(291/782 Batch loss : 0.42154836654663086\n",
            "Epoch(0/1: Batch number(292/782 Batch loss : 0.6650658845901489\n",
            "Epoch(0/1: Batch number(293/782 Batch loss : 0.5179749131202698\n",
            "Epoch(0/1: Batch number(294/782 Batch loss : 0.5744970440864563\n",
            "Epoch(0/1: Batch number(295/782 Batch loss : 0.44669175148010254\n",
            "Epoch(0/1: Batch number(296/782 Batch loss : 0.4192892611026764\n",
            "Epoch(0/1: Batch number(297/782 Batch loss : 0.7133173942565918\n",
            "Epoch(0/1: Batch number(298/782 Batch loss : 0.6951063275337219\n",
            "Epoch(0/1: Batch number(299/782 Batch loss : 0.811467170715332\n",
            "Epoch(0/1: Batch number(300/782 Batch loss : 0.7844463586807251\n",
            "Epoch(0/1: Batch number(301/782 Batch loss : 0.7652333378791809\n",
            "Epoch(0/1: Batch number(302/782 Batch loss : 0.5108394622802734\n",
            "Epoch(0/1: Batch number(303/782 Batch loss : 0.7023945450782776\n",
            "Epoch(0/1: Batch number(304/782 Batch loss : 0.5187527537345886\n",
            "Epoch(0/1: Batch number(305/782 Batch loss : 0.5203350782394409\n",
            "Epoch(0/1: Batch number(306/782 Batch loss : 0.5805975198745728\n",
            "Epoch(0/1: Batch number(307/782 Batch loss : 0.631232738494873\n",
            "Epoch(0/1: Batch number(308/782 Batch loss : 0.7605631947517395\n",
            "Epoch(0/1: Batch number(309/782 Batch loss : 0.6692876815795898\n",
            "Epoch(0/1: Batch number(310/782 Batch loss : 0.5145449638366699\n",
            "Epoch(0/1: Batch number(311/782 Batch loss : 0.6619826555252075\n",
            "Epoch(0/1: Batch number(312/782 Batch loss : 0.5722957849502563\n",
            "Epoch(0/1: Batch number(313/782 Batch loss : 0.5467267036437988\n",
            "Epoch(0/1: Batch number(314/782 Batch loss : 0.675767183303833\n",
            "Epoch(0/1: Batch number(315/782 Batch loss : 0.5616719722747803\n",
            "Epoch(0/1: Batch number(316/782 Batch loss : 0.7505728006362915\n",
            "Epoch(0/1: Batch number(317/782 Batch loss : 0.7997506260871887\n",
            "Epoch(0/1: Batch number(318/782 Batch loss : 0.6420563459396362\n",
            "Epoch(0/1: Batch number(319/782 Batch loss : 0.5625343918800354\n",
            "Epoch(0/1: Batch number(320/782 Batch loss : 0.5982710719108582\n",
            "Epoch(0/1: Batch number(321/782 Batch loss : 0.7515659928321838\n",
            "Epoch(0/1: Batch number(322/782 Batch loss : 0.7261614799499512\n",
            "Epoch(0/1: Batch number(323/782 Batch loss : 0.8680753707885742\n",
            "Epoch(0/1: Batch number(324/782 Batch loss : 0.5785737037658691\n",
            "Epoch(0/1: Batch number(325/782 Batch loss : 0.7723959684371948\n",
            "Epoch(0/1: Batch number(326/782 Batch loss : 0.8859723210334778\n",
            "Epoch(0/1: Batch number(327/782 Batch loss : 0.6257926821708679\n",
            "Epoch(0/1: Batch number(328/782 Batch loss : 0.5913244485855103\n",
            "Epoch(0/1: Batch number(329/782 Batch loss : 0.9507589340209961\n",
            "Epoch(0/1: Batch number(330/782 Batch loss : 0.5256596207618713\n",
            "Epoch(0/1: Batch number(331/782 Batch loss : 0.5352925062179565\n",
            "Epoch(0/1: Batch number(332/782 Batch loss : 0.5380281209945679\n",
            "Epoch(0/1: Batch number(333/782 Batch loss : 0.6661311984062195\n",
            "Epoch(0/1: Batch number(334/782 Batch loss : 0.7201212644577026\n",
            "Epoch(0/1: Batch number(335/782 Batch loss : 0.6803271770477295\n",
            "Epoch(0/1: Batch number(336/782 Batch loss : 0.8204012513160706\n",
            "Epoch(0/1: Batch number(337/782 Batch loss : 0.6990931630134583\n",
            "Epoch(0/1: Batch number(338/782 Batch loss : 0.4828890860080719\n",
            "Epoch(0/1: Batch number(339/782 Batch loss : 0.5452724099159241\n",
            "Epoch(0/1: Batch number(340/782 Batch loss : 0.49620479345321655\n",
            "Epoch(0/1: Batch number(341/782 Batch loss : 0.5612688660621643\n",
            "Epoch(0/1: Batch number(342/782 Batch loss : 0.7597385048866272\n",
            "Epoch(0/1: Batch number(343/782 Batch loss : 0.7624768614768982\n",
            "Epoch(0/1: Batch number(344/782 Batch loss : 0.5972289443016052\n",
            "Epoch(0/1: Batch number(345/782 Batch loss : 0.6983343362808228\n",
            "Epoch(0/1: Batch number(346/782 Batch loss : 0.8334647417068481\n",
            "Epoch(0/1: Batch number(347/782 Batch loss : 0.5656592845916748\n",
            "Epoch(0/1: Batch number(348/782 Batch loss : 0.9480880498886108\n",
            "Epoch(0/1: Batch number(349/782 Batch loss : 0.6476653814315796\n",
            "Epoch(0/1: Batch number(350/782 Batch loss : 0.6403107643127441\n",
            "Epoch(0/1: Batch number(351/782 Batch loss : 0.6542893052101135\n",
            "Epoch(0/1: Batch number(352/782 Batch loss : 0.4699716866016388\n",
            "Epoch(0/1: Batch number(353/782 Batch loss : 0.47924840450286865\n",
            "Epoch(0/1: Batch number(354/782 Batch loss : 0.3610322177410126\n",
            "Epoch(0/1: Batch number(355/782 Batch loss : 0.5621498227119446\n",
            "Epoch(0/1: Batch number(356/782 Batch loss : 0.5413286685943604\n",
            "Epoch(0/1: Batch number(357/782 Batch loss : 0.818747341632843\n",
            "Epoch(0/1: Batch number(358/782 Batch loss : 0.6158742308616638\n",
            "Epoch(0/1: Batch number(359/782 Batch loss : 0.5482800006866455\n",
            "Epoch(0/1: Batch number(360/782 Batch loss : 0.8353968262672424\n",
            "Epoch(0/1: Batch number(361/782 Batch loss : 0.6363512873649597\n",
            "Epoch(0/1: Batch number(362/782 Batch loss : 0.9184687733650208\n",
            "Epoch(0/1: Batch number(363/782 Batch loss : 0.539066731929779\n",
            "Epoch(0/1: Batch number(364/782 Batch loss : 0.5362401604652405\n",
            "Epoch(0/1: Batch number(365/782 Batch loss : 0.47409167885780334\n",
            "Epoch(0/1: Batch number(366/782 Batch loss : 0.4553717374801636\n",
            "Epoch(0/1: Batch number(367/782 Batch loss : 0.5008514523506165\n",
            "Epoch(0/1: Batch number(368/782 Batch loss : 0.4880393445491791\n",
            "Epoch(0/1: Batch number(369/782 Batch loss : 0.7904244661331177\n",
            "Epoch(0/1: Batch number(370/782 Batch loss : 0.5664047598838806\n",
            "Epoch(0/1: Batch number(371/782 Batch loss : 0.8032565116882324\n",
            "Epoch(0/1: Batch number(372/782 Batch loss : 0.601815402507782\n",
            "Epoch(0/1: Batch number(373/782 Batch loss : 0.5981274247169495\n",
            "Epoch(0/1: Batch number(374/782 Batch loss : 0.5638025999069214\n",
            "Epoch(0/1: Batch number(375/782 Batch loss : 0.5175992846488953\n",
            "Epoch(0/1: Batch number(376/782 Batch loss : 0.6474307775497437\n",
            "Epoch(0/1: Batch number(377/782 Batch loss : 0.40630167722702026\n",
            "Epoch(0/1: Batch number(378/782 Batch loss : 0.5967538952827454\n",
            "Epoch(0/1: Batch number(379/782 Batch loss : 0.7695778608322144\n",
            "Epoch(0/1: Batch number(380/782 Batch loss : 0.6517820358276367\n",
            "Epoch(0/1: Batch number(381/782 Batch loss : 0.5832958817481995\n",
            "Epoch(0/1: Batch number(382/782 Batch loss : 0.543749213218689\n",
            "Epoch(0/1: Batch number(383/782 Batch loss : 0.5691134333610535\n",
            "Epoch(0/1: Batch number(384/782 Batch loss : 0.647603452205658\n",
            "Epoch(0/1: Batch number(385/782 Batch loss : 0.6832699179649353\n",
            "Epoch(0/1: Batch number(386/782 Batch loss : 0.605038046836853\n",
            "Epoch(0/1: Batch number(387/782 Batch loss : 0.5809957385063171\n",
            "Epoch(0/1: Batch number(388/782 Batch loss : 0.8217002749443054\n",
            "Epoch(0/1: Batch number(389/782 Batch loss : 0.5191560983657837\n",
            "Epoch(0/1: Batch number(390/782 Batch loss : 0.42922067642211914\n",
            "Epoch(0/1: Batch number(391/782 Batch loss : 0.5467542409896851\n",
            "Epoch(0/1: Batch number(392/782 Batch loss : 0.6186984777450562\n",
            "Epoch(0/1: Batch number(393/782 Batch loss : 0.5481863021850586\n",
            "Epoch(0/1: Batch number(394/782 Batch loss : 0.5651978850364685\n",
            "Epoch(0/1: Batch number(395/782 Batch loss : 0.6741386651992798\n",
            "Epoch(0/1: Batch number(396/782 Batch loss : 0.8692092895507812\n",
            "Epoch(0/1: Batch number(397/782 Batch loss : 0.5819941163063049\n",
            "Epoch(0/1: Batch number(398/782 Batch loss : 0.4388435482978821\n",
            "Epoch(0/1: Batch number(399/782 Batch loss : 0.697077751159668\n",
            "Epoch(0/1: Batch number(400/782 Batch loss : 0.6757595539093018\n",
            "Epoch(0/1: Batch number(401/782 Batch loss : 0.5915265083312988\n",
            "Epoch(0/1: Batch number(402/782 Batch loss : 0.3758338689804077\n",
            "Epoch(0/1: Batch number(403/782 Batch loss : 0.7061024904251099\n",
            "Epoch(0/1: Batch number(404/782 Batch loss : 0.6334617733955383\n",
            "Epoch(0/1: Batch number(405/782 Batch loss : 0.6738215088844299\n",
            "Epoch(0/1: Batch number(406/782 Batch loss : 0.5377106666564941\n",
            "Epoch(0/1: Batch number(407/782 Batch loss : 0.6361520290374756\n",
            "Epoch(0/1: Batch number(408/782 Batch loss : 0.7512432932853699\n",
            "Epoch(0/1: Batch number(409/782 Batch loss : 0.5159245133399963\n",
            "Epoch(0/1: Batch number(410/782 Batch loss : 0.8395180106163025\n",
            "Epoch(0/1: Batch number(411/782 Batch loss : 0.7687579989433289\n",
            "Epoch(0/1: Batch number(412/782 Batch loss : 0.7383123636245728\n",
            "Epoch(0/1: Batch number(413/782 Batch loss : 0.6015841364860535\n",
            "Epoch(0/1: Batch number(414/782 Batch loss : 0.6262241005897522\n",
            "Epoch(0/1: Batch number(415/782 Batch loss : 0.6784436702728271\n",
            "Epoch(0/1: Batch number(416/782 Batch loss : 0.40555864572525024\n",
            "Epoch(0/1: Batch number(417/782 Batch loss : 0.6256638765335083\n",
            "Epoch(0/1: Batch number(418/782 Batch loss : 0.5170362591743469\n",
            "Epoch(0/1: Batch number(419/782 Batch loss : 0.583361804485321\n",
            "Epoch(0/1: Batch number(420/782 Batch loss : 0.7948224544525146\n",
            "Epoch(0/1: Batch number(421/782 Batch loss : 0.6688451766967773\n",
            "Epoch(0/1: Batch number(422/782 Batch loss : 0.41283872723579407\n",
            "Epoch(0/1: Batch number(423/782 Batch loss : 0.7268625497817993\n",
            "Epoch(0/1: Batch number(424/782 Batch loss : 0.5912615060806274\n",
            "Epoch(0/1: Batch number(425/782 Batch loss : 0.7276361584663391\n",
            "Epoch(0/1: Batch number(426/782 Batch loss : 0.7520534992218018\n",
            "Epoch(0/1: Batch number(427/782 Batch loss : 0.5205545425415039\n",
            "Epoch(0/1: Batch number(428/782 Batch loss : 0.6527445912361145\n",
            "Epoch(0/1: Batch number(429/782 Batch loss : 0.7465027570724487\n",
            "Epoch(0/1: Batch number(430/782 Batch loss : 0.5227202773094177\n",
            "Epoch(0/1: Batch number(431/782 Batch loss : 0.7009230256080627\n",
            "Epoch(0/1: Batch number(432/782 Batch loss : 0.3870953321456909\n",
            "Epoch(0/1: Batch number(433/782 Batch loss : 0.6625697016716003\n",
            "Epoch(0/1: Batch number(434/782 Batch loss : 0.595463216304779\n",
            "Epoch(0/1: Batch number(435/782 Batch loss : 0.4671895503997803\n",
            "Epoch(0/1: Batch number(436/782 Batch loss : 0.7008350491523743\n",
            "Epoch(0/1: Batch number(437/782 Batch loss : 0.6661335229873657\n",
            "Epoch(0/1: Batch number(438/782 Batch loss : 0.5859305262565613\n",
            "Epoch(0/1: Batch number(439/782 Batch loss : 0.6241426467895508\n",
            "Epoch(0/1: Batch number(440/782 Batch loss : 0.5974360108375549\n",
            "Epoch(0/1: Batch number(441/782 Batch loss : 0.4042340815067291\n",
            "Epoch(0/1: Batch number(442/782 Batch loss : 0.6498669385910034\n",
            "Epoch(0/1: Batch number(443/782 Batch loss : 0.8180452585220337\n",
            "Epoch(0/1: Batch number(444/782 Batch loss : 0.5778404474258423\n",
            "Epoch(0/1: Batch number(445/782 Batch loss : 0.6112753748893738\n",
            "Epoch(0/1: Batch number(446/782 Batch loss : 0.6759362816810608\n",
            "Epoch(0/1: Batch number(447/782 Batch loss : 0.3569095730781555\n",
            "Epoch(0/1: Batch number(448/782 Batch loss : 0.859723687171936\n",
            "Epoch(0/1: Batch number(449/782 Batch loss : 0.5789769887924194\n",
            "Epoch(0/1: Batch number(450/782 Batch loss : 0.6560276746749878\n",
            "Epoch(0/1: Batch number(451/782 Batch loss : 0.8450630903244019\n",
            "Epoch(0/1: Batch number(452/782 Batch loss : 0.627453625202179\n",
            "Epoch(0/1: Batch number(453/782 Batch loss : 0.9863163232803345\n",
            "Epoch(0/1: Batch number(454/782 Batch loss : 0.6241256594657898\n",
            "Epoch(0/1: Batch number(455/782 Batch loss : 0.5855168104171753\n",
            "Epoch(0/1: Batch number(456/782 Batch loss : 0.6124817728996277\n",
            "Epoch(0/1: Batch number(457/782 Batch loss : 0.6408909559249878\n",
            "Epoch(0/1: Batch number(458/782 Batch loss : 0.6083605289459229\n",
            "Epoch(0/1: Batch number(459/782 Batch loss : 0.7074613571166992\n",
            "Epoch(0/1: Batch number(460/782 Batch loss : 0.42710596323013306\n",
            "Epoch(0/1: Batch number(461/782 Batch loss : 0.5248691439628601\n",
            "Epoch(0/1: Batch number(462/782 Batch loss : 0.9718403816223145\n",
            "Epoch(0/1: Batch number(463/782 Batch loss : 0.3074760437011719\n",
            "Epoch(0/1: Batch number(464/782 Batch loss : 0.6808131337165833\n",
            "Epoch(0/1: Batch number(465/782 Batch loss : 0.48950308561325073\n",
            "Epoch(0/1: Batch number(466/782 Batch loss : 0.5928909182548523\n",
            "Epoch(0/1: Batch number(467/782 Batch loss : 0.6131116151809692\n",
            "Epoch(0/1: Batch number(468/782 Batch loss : 0.46055036783218384\n",
            "Epoch(0/1: Batch number(469/782 Batch loss : 0.6087316274642944\n",
            "Epoch(0/1: Batch number(470/782 Batch loss : 0.5818260908126831\n",
            "Epoch(0/1: Batch number(471/782 Batch loss : 0.5516164302825928\n",
            "Epoch(0/1: Batch number(472/782 Batch loss : 0.7924690246582031\n",
            "Epoch(0/1: Batch number(473/782 Batch loss : 1.0694183111190796\n",
            "Epoch(0/1: Batch number(474/782 Batch loss : 0.5316460728645325\n",
            "Epoch(0/1: Batch number(475/782 Batch loss : 0.617556095123291\n",
            "Epoch(0/1: Batch number(476/782 Batch loss : 0.5295627117156982\n",
            "Epoch(0/1: Batch number(477/782 Batch loss : 0.5128207802772522\n",
            "Epoch(0/1: Batch number(478/782 Batch loss : 0.5746253132820129\n",
            "Epoch(0/1: Batch number(479/782 Batch loss : 0.5639467239379883\n",
            "Epoch(0/1: Batch number(480/782 Batch loss : 0.6155455112457275\n",
            "Epoch(0/1: Batch number(481/782 Batch loss : 0.7903434038162231\n",
            "Epoch(0/1: Batch number(482/782 Batch loss : 0.7110846042633057\n",
            "Epoch(0/1: Batch number(483/782 Batch loss : 0.8419480919837952\n",
            "Epoch(0/1: Batch number(484/782 Batch loss : 0.6246779561042786\n",
            "Epoch(0/1: Batch number(485/782 Batch loss : 0.4888043701648712\n",
            "Epoch(0/1: Batch number(486/782 Batch loss : 0.575968325138092\n",
            "Epoch(0/1: Batch number(487/782 Batch loss : 0.6207087635993958\n",
            "Epoch(0/1: Batch number(488/782 Batch loss : 0.6344529986381531\n",
            "Epoch(0/1: Batch number(489/782 Batch loss : 0.7018946409225464\n",
            "Epoch(0/1: Batch number(490/782 Batch loss : 0.7006759643554688\n",
            "Epoch(0/1: Batch number(491/782 Batch loss : 0.3738335967063904\n",
            "Epoch(0/1: Batch number(492/782 Batch loss : 0.6065417528152466\n",
            "Epoch(0/1: Batch number(493/782 Batch loss : 0.7891741394996643\n",
            "Epoch(0/1: Batch number(494/782 Batch loss : 0.9359740018844604\n",
            "Epoch(0/1: Batch number(495/782 Batch loss : 0.8038840889930725\n",
            "Epoch(0/1: Batch number(496/782 Batch loss : 0.518730103969574\n",
            "Epoch(0/1: Batch number(497/782 Batch loss : 0.6460579037666321\n",
            "Epoch(0/1: Batch number(498/782 Batch loss : 0.577353835105896\n",
            "Epoch(0/1: Batch number(499/782 Batch loss : 0.7102304697036743\n",
            "Epoch(0/1: Batch number(500/782 Batch loss : 0.5288140177726746\n",
            "Epoch(0/1: Batch number(501/782 Batch loss : 0.7876259684562683\n",
            "Epoch(0/1: Batch number(502/782 Batch loss : 0.47898563742637634\n",
            "Epoch(0/1: Batch number(503/782 Batch loss : 0.9349240660667419\n",
            "Epoch(0/1: Batch number(504/782 Batch loss : 0.6750544309616089\n",
            "Epoch(0/1: Batch number(505/782 Batch loss : 0.4520150125026703\n",
            "Epoch(0/1: Batch number(506/782 Batch loss : 0.490887850522995\n",
            "Epoch(0/1: Batch number(507/782 Batch loss : 0.6079843640327454\n",
            "Epoch(0/1: Batch number(508/782 Batch loss : 0.7331851124763489\n",
            "Epoch(0/1: Batch number(509/782 Batch loss : 0.6610372066497803\n",
            "Epoch(0/1: Batch number(510/782 Batch loss : 0.8211302757263184\n",
            "Epoch(0/1: Batch number(511/782 Batch loss : 0.6948606967926025\n",
            "Epoch(0/1: Batch number(512/782 Batch loss : 0.7060931324958801\n",
            "Epoch(0/1: Batch number(513/782 Batch loss : 0.6800185441970825\n",
            "Epoch(0/1: Batch number(514/782 Batch loss : 0.40479210019111633\n",
            "Epoch(0/1: Batch number(515/782 Batch loss : 0.5108757615089417\n",
            "Epoch(0/1: Batch number(516/782 Batch loss : 0.5788167119026184\n",
            "Epoch(0/1: Batch number(517/782 Batch loss : 0.5685561299324036\n",
            "Epoch(0/1: Batch number(518/782 Batch loss : 0.634485125541687\n",
            "Epoch(0/1: Batch number(519/782 Batch loss : 0.3555682301521301\n",
            "Epoch(0/1: Batch number(520/782 Batch loss : 0.44020044803619385\n",
            "Epoch(0/1: Batch number(521/782 Batch loss : 0.6875652074813843\n",
            "Epoch(0/1: Batch number(522/782 Batch loss : 0.33671385049819946\n",
            "Epoch(0/1: Batch number(523/782 Batch loss : 0.5642153024673462\n",
            "Epoch(0/1: Batch number(524/782 Batch loss : 0.7705234885215759\n",
            "Epoch(0/1: Batch number(525/782 Batch loss : 1.0572550296783447\n",
            "Epoch(0/1: Batch number(526/782 Batch loss : 0.8021548390388489\n",
            "Epoch(0/1: Batch number(527/782 Batch loss : 0.7983735799789429\n",
            "Epoch(0/1: Batch number(528/782 Batch loss : 0.5040732026100159\n",
            "Epoch(0/1: Batch number(529/782 Batch loss : 0.6160491108894348\n",
            "Epoch(0/1: Batch number(530/782 Batch loss : 0.547748327255249\n",
            "Epoch(0/1: Batch number(531/782 Batch loss : 0.4263818562030792\n",
            "Epoch(0/1: Batch number(532/782 Batch loss : 0.5854253768920898\n",
            "Epoch(0/1: Batch number(533/782 Batch loss : 0.9355202317237854\n",
            "Epoch(0/1: Batch number(534/782 Batch loss : 0.47989529371261597\n",
            "Epoch(0/1: Batch number(535/782 Batch loss : 0.4820711314678192\n",
            "Epoch(0/1: Batch number(536/782 Batch loss : 0.5249502062797546\n",
            "Epoch(0/1: Batch number(537/782 Batch loss : 0.41871917247772217\n",
            "Epoch(0/1: Batch number(538/782 Batch loss : 0.632063090801239\n",
            "Epoch(0/1: Batch number(539/782 Batch loss : 0.39290952682495117\n",
            "Epoch(0/1: Batch number(540/782 Batch loss : 0.5419057011604309\n",
            "Epoch(0/1: Batch number(541/782 Batch loss : 0.47784507274627686\n",
            "Epoch(0/1: Batch number(542/782 Batch loss : 0.7986654043197632\n",
            "Epoch(0/1: Batch number(543/782 Batch loss : 0.6273090839385986\n",
            "Epoch(0/1: Batch number(544/782 Batch loss : 0.8270592093467712\n",
            "Epoch(0/1: Batch number(545/782 Batch loss : 0.49248817563056946\n",
            "Epoch(0/1: Batch number(546/782 Batch loss : 0.7317075729370117\n",
            "Epoch(0/1: Batch number(547/782 Batch loss : 0.8033982515335083\n",
            "Epoch(0/1: Batch number(548/782 Batch loss : 0.706100344657898\n",
            "Epoch(0/1: Batch number(549/782 Batch loss : 1.0085102319717407\n",
            "Epoch(0/1: Batch number(550/782 Batch loss : 0.46654897928237915\n",
            "Epoch(0/1: Batch number(551/782 Batch loss : 0.5029535293579102\n",
            "Epoch(0/1: Batch number(552/782 Batch loss : 0.5759207606315613\n",
            "Epoch(0/1: Batch number(553/782 Batch loss : 0.7038074135780334\n",
            "Epoch(0/1: Batch number(554/782 Batch loss : 0.6406795978546143\n",
            "Epoch(0/1: Batch number(555/782 Batch loss : 0.454368531703949\n",
            "Epoch(0/1: Batch number(556/782 Batch loss : 0.5478054285049438\n",
            "Epoch(0/1: Batch number(557/782 Batch loss : 0.3897823095321655\n",
            "Epoch(0/1: Batch number(558/782 Batch loss : 0.45194679498672485\n",
            "Epoch(0/1: Batch number(559/782 Batch loss : 0.6357146501541138\n",
            "Epoch(0/1: Batch number(560/782 Batch loss : 0.49276426434516907\n",
            "Epoch(0/1: Batch number(561/782 Batch loss : 0.5923707485198975\n",
            "Epoch(0/1: Batch number(562/782 Batch loss : 0.5135594606399536\n",
            "Epoch(0/1: Batch number(563/782 Batch loss : 0.759911298751831\n",
            "Epoch(0/1: Batch number(564/782 Batch loss : 0.4844425916671753\n",
            "Epoch(0/1: Batch number(565/782 Batch loss : 0.6283373832702637\n",
            "Epoch(0/1: Batch number(566/782 Batch loss : 0.6692425608634949\n",
            "Epoch(0/1: Batch number(567/782 Batch loss : 0.7175052762031555\n",
            "Epoch(0/1: Batch number(568/782 Batch loss : 0.7229173183441162\n",
            "Epoch(0/1: Batch number(569/782 Batch loss : 0.657036542892456\n",
            "Epoch(0/1: Batch number(570/782 Batch loss : 0.7102858424186707\n",
            "Epoch(0/1: Batch number(571/782 Batch loss : 0.45470964908599854\n",
            "Epoch(0/1: Batch number(572/782 Batch loss : 0.38722091913223267\n",
            "Epoch(0/1: Batch number(573/782 Batch loss : 0.5911955237388611\n",
            "Epoch(0/1: Batch number(574/782 Batch loss : 0.6496353149414062\n",
            "Epoch(0/1: Batch number(575/782 Batch loss : 0.418503075838089\n",
            "Epoch(0/1: Batch number(576/782 Batch loss : 0.5349900722503662\n",
            "Epoch(0/1: Batch number(577/782 Batch loss : 0.6064224243164062\n",
            "Epoch(0/1: Batch number(578/782 Batch loss : 0.7401963472366333\n",
            "Epoch(0/1: Batch number(579/782 Batch loss : 0.9182089567184448\n",
            "Epoch(0/1: Batch number(580/782 Batch loss : 0.9206457138061523\n",
            "Epoch(0/1: Batch number(581/782 Batch loss : 0.6019609570503235\n",
            "Epoch(0/1: Batch number(582/782 Batch loss : 0.6141468286514282\n",
            "Epoch(0/1: Batch number(583/782 Batch loss : 0.6011366248130798\n",
            "Epoch(0/1: Batch number(584/782 Batch loss : 0.6189813613891602\n",
            "Epoch(0/1: Batch number(585/782 Batch loss : 0.453675240278244\n",
            "Epoch(0/1: Batch number(586/782 Batch loss : 0.6685360670089722\n",
            "Epoch(0/1: Batch number(587/782 Batch loss : 0.7858045101165771\n",
            "Epoch(0/1: Batch number(588/782 Batch loss : 0.5690020322799683\n",
            "Epoch(0/1: Batch number(589/782 Batch loss : 0.5415438413619995\n",
            "Epoch(0/1: Batch number(590/782 Batch loss : 0.7073549628257751\n",
            "Epoch(0/1: Batch number(591/782 Batch loss : 0.3221636712551117\n",
            "Epoch(0/1: Batch number(592/782 Batch loss : 0.6012828350067139\n",
            "Epoch(0/1: Batch number(593/782 Batch loss : 0.5444298386573792\n",
            "Epoch(0/1: Batch number(594/782 Batch loss : 0.6213629245758057\n",
            "Epoch(0/1: Batch number(595/782 Batch loss : 0.6789213418960571\n",
            "Epoch(0/1: Batch number(596/782 Batch loss : 0.659604012966156\n",
            "Epoch(0/1: Batch number(597/782 Batch loss : 0.5348732471466064\n",
            "Epoch(0/1: Batch number(598/782 Batch loss : 0.6268610954284668\n",
            "Epoch(0/1: Batch number(599/782 Batch loss : 0.6143073439598083\n",
            "Epoch(0/1: Batch number(600/782 Batch loss : 0.7361391186714172\n",
            "Epoch(0/1: Batch number(601/782 Batch loss : 0.6018884181976318\n",
            "Epoch(0/1: Batch number(602/782 Batch loss : 0.3467468023300171\n",
            "Epoch(0/1: Batch number(603/782 Batch loss : 0.6767134666442871\n",
            "Epoch(0/1: Batch number(604/782 Batch loss : 0.6763435006141663\n",
            "Epoch(0/1: Batch number(605/782 Batch loss : 0.5979652404785156\n",
            "Epoch(0/1: Batch number(606/782 Batch loss : 0.47550633549690247\n",
            "Epoch(0/1: Batch number(607/782 Batch loss : 0.5994083285331726\n",
            "Epoch(0/1: Batch number(608/782 Batch loss : 0.5379226803779602\n",
            "Epoch(0/1: Batch number(609/782 Batch loss : 0.5610724687576294\n",
            "Epoch(0/1: Batch number(610/782 Batch loss : 0.5353438854217529\n",
            "Epoch(0/1: Batch number(611/782 Batch loss : 0.5351564884185791\n",
            "Epoch(0/1: Batch number(612/782 Batch loss : 0.5694689154624939\n",
            "Epoch(0/1: Batch number(613/782 Batch loss : 0.5198586583137512\n",
            "Epoch(0/1: Batch number(614/782 Batch loss : 0.5616292953491211\n",
            "Epoch(0/1: Batch number(615/782 Batch loss : 0.6527471542358398\n",
            "Epoch(0/1: Batch number(616/782 Batch loss : 0.5344569683074951\n",
            "Epoch(0/1: Batch number(617/782 Batch loss : 0.6034338474273682\n",
            "Epoch(0/1: Batch number(618/782 Batch loss : 0.6327160596847534\n",
            "Epoch(0/1: Batch number(619/782 Batch loss : 0.6248499751091003\n",
            "Epoch(0/1: Batch number(620/782 Batch loss : 0.6308495402336121\n",
            "Epoch(0/1: Batch number(621/782 Batch loss : 0.5690680146217346\n",
            "Epoch(0/1: Batch number(622/782 Batch loss : 0.6681090593338013\n",
            "Epoch(0/1: Batch number(623/782 Batch loss : 0.5138599872589111\n",
            "Epoch(0/1: Batch number(624/782 Batch loss : 0.528046727180481\n",
            "Epoch(0/1: Batch number(625/782 Batch loss : 0.47343069314956665\n",
            "Epoch(0/1: Batch number(626/782 Batch loss : 0.6629503965377808\n",
            "Epoch(0/1: Batch number(627/782 Batch loss : 0.5120810270309448\n",
            "Epoch(0/1: Batch number(628/782 Batch loss : 0.4265380799770355\n",
            "Epoch(0/1: Batch number(629/782 Batch loss : 0.9079745411872864\n",
            "Epoch(0/1: Batch number(630/782 Batch loss : 0.44211170077323914\n",
            "Epoch(0/1: Batch number(631/782 Batch loss : 0.4088993966579437\n",
            "Epoch(0/1: Batch number(632/782 Batch loss : 0.570222020149231\n",
            "Epoch(0/1: Batch number(633/782 Batch loss : 0.5757322907447815\n",
            "Epoch(0/1: Batch number(634/782 Batch loss : 0.44488129019737244\n",
            "Epoch(0/1: Batch number(635/782 Batch loss : 0.6390336155891418\n",
            "Epoch(0/1: Batch number(636/782 Batch loss : 0.4987262785434723\n",
            "Epoch(0/1: Batch number(637/782 Batch loss : 0.9588267207145691\n",
            "Epoch(0/1: Batch number(638/782 Batch loss : 0.672345757484436\n",
            "Epoch(0/1: Batch number(639/782 Batch loss : 0.545454204082489\n",
            "Epoch(0/1: Batch number(640/782 Batch loss : 0.9768900275230408\n",
            "Epoch(0/1: Batch number(641/782 Batch loss : 0.7326065897941589\n",
            "Epoch(0/1: Batch number(642/782 Batch loss : 0.7672553062438965\n",
            "Epoch(0/1: Batch number(643/782 Batch loss : 0.5770850777626038\n",
            "Epoch(0/1: Batch number(644/782 Batch loss : 0.4035448431968689\n",
            "Epoch(0/1: Batch number(645/782 Batch loss : 0.5182915329933167\n",
            "Epoch(0/1: Batch number(646/782 Batch loss : 0.805014431476593\n",
            "Epoch(0/1: Batch number(647/782 Batch loss : 0.5028083920478821\n",
            "Epoch(0/1: Batch number(648/782 Batch loss : 0.8298417925834656\n",
            "Epoch(0/1: Batch number(649/782 Batch loss : 0.44581368565559387\n",
            "Epoch(0/1: Batch number(650/782 Batch loss : 0.7868309617042542\n",
            "Epoch(0/1: Batch number(651/782 Batch loss : 0.6553775668144226\n",
            "Epoch(0/1: Batch number(652/782 Batch loss : 0.6273394823074341\n",
            "Epoch(0/1: Batch number(653/782 Batch loss : 0.6534106135368347\n",
            "Epoch(0/1: Batch number(654/782 Batch loss : 0.7188146710395813\n",
            "Epoch(0/1: Batch number(655/782 Batch loss : 0.4196351170539856\n",
            "Epoch(0/1: Batch number(656/782 Batch loss : 0.730004072189331\n",
            "Epoch(0/1: Batch number(657/782 Batch loss : 0.6803503036499023\n",
            "Epoch(0/1: Batch number(658/782 Batch loss : 0.5638243556022644\n",
            "Epoch(0/1: Batch number(659/782 Batch loss : 0.5680711269378662\n",
            "Epoch(0/1: Batch number(660/782 Batch loss : 0.7911338210105896\n",
            "Epoch(0/1: Batch number(661/782 Batch loss : 0.6053541302680969\n",
            "Epoch(0/1: Batch number(662/782 Batch loss : 0.7485811114311218\n",
            "Epoch(0/1: Batch number(663/782 Batch loss : 0.7119106650352478\n",
            "Epoch(0/1: Batch number(664/782 Batch loss : 0.7185947895050049\n",
            "Epoch(0/1: Batch number(665/782 Batch loss : 0.5811171531677246\n",
            "Epoch(0/1: Batch number(666/782 Batch loss : 0.4911971688270569\n",
            "Epoch(0/1: Batch number(667/782 Batch loss : 0.40863877534866333\n",
            "Epoch(0/1: Batch number(668/782 Batch loss : 0.4283306896686554\n",
            "Epoch(0/1: Batch number(669/782 Batch loss : 0.6227169632911682\n",
            "Epoch(0/1: Batch number(670/782 Batch loss : 0.8008195161819458\n",
            "Epoch(0/1: Batch number(671/782 Batch loss : 0.5981143712997437\n",
            "Epoch(0/1: Batch number(672/782 Batch loss : 0.7014666199684143\n",
            "Epoch(0/1: Batch number(673/782 Batch loss : 0.5127182006835938\n",
            "Epoch(0/1: Batch number(674/782 Batch loss : 0.6231982707977295\n",
            "Epoch(0/1: Batch number(675/782 Batch loss : 0.5916614532470703\n",
            "Epoch(0/1: Batch number(676/782 Batch loss : 0.4162202775478363\n",
            "Epoch(0/1: Batch number(677/782 Batch loss : 0.4266186058521271\n",
            "Epoch(0/1: Batch number(678/782 Batch loss : 0.4473424255847931\n",
            "Epoch(0/1: Batch number(679/782 Batch loss : 0.8042088150978088\n",
            "Epoch(0/1: Batch number(680/782 Batch loss : 0.6275476813316345\n",
            "Epoch(0/1: Batch number(681/782 Batch loss : 0.6757639646530151\n",
            "Epoch(0/1: Batch number(682/782 Batch loss : 0.63616544008255\n",
            "Epoch(0/1: Batch number(683/782 Batch loss : 0.48863962292671204\n",
            "Epoch(0/1: Batch number(684/782 Batch loss : 0.37212684750556946\n",
            "Epoch(0/1: Batch number(685/782 Batch loss : 0.6618354916572571\n",
            "Epoch(0/1: Batch number(686/782 Batch loss : 0.6875468492507935\n",
            "Epoch(0/1: Batch number(687/782 Batch loss : 0.5719817876815796\n",
            "Epoch(0/1: Batch number(688/782 Batch loss : 0.7621179223060608\n",
            "Epoch(0/1: Batch number(689/782 Batch loss : 0.533333420753479\n",
            "Epoch(0/1: Batch number(690/782 Batch loss : 0.6643422842025757\n",
            "Epoch(0/1: Batch number(691/782 Batch loss : 0.640766441822052\n",
            "Epoch(0/1: Batch number(692/782 Batch loss : 0.6381818652153015\n",
            "Epoch(0/1: Batch number(693/782 Batch loss : 0.43645215034484863\n",
            "Epoch(0/1: Batch number(694/782 Batch loss : 0.5915115475654602\n",
            "Epoch(0/1: Batch number(695/782 Batch loss : 0.8630570769309998\n",
            "Epoch(0/1: Batch number(696/782 Batch loss : 0.6819413900375366\n",
            "Epoch(0/1: Batch number(697/782 Batch loss : 0.7945698499679565\n",
            "Epoch(0/1: Batch number(698/782 Batch loss : 0.5594512224197388\n",
            "Epoch(0/1: Batch number(699/782 Batch loss : 0.5428966283798218\n",
            "Epoch(0/1: Batch number(700/782 Batch loss : 0.6711348295211792\n",
            "Epoch(0/1: Batch number(701/782 Batch loss : 0.4576738178730011\n",
            "Epoch(0/1: Batch number(702/782 Batch loss : 0.8243557810783386\n",
            "Epoch(0/1: Batch number(703/782 Batch loss : 0.47630277276039124\n",
            "Epoch(0/1: Batch number(704/782 Batch loss : 0.47724223136901855\n",
            "Epoch(0/1: Batch number(705/782 Batch loss : 0.6898294687271118\n",
            "Epoch(0/1: Batch number(706/782 Batch loss : 0.8627897500991821\n",
            "Epoch(0/1: Batch number(707/782 Batch loss : 0.5812362432479858\n",
            "Epoch(0/1: Batch number(708/782 Batch loss : 0.7734107971191406\n",
            "Epoch(0/1: Batch number(709/782 Batch loss : 0.5227441191673279\n",
            "Epoch(0/1: Batch number(710/782 Batch loss : 0.41431018710136414\n",
            "Epoch(0/1: Batch number(711/782 Batch loss : 0.4981834888458252\n",
            "Epoch(0/1: Batch number(712/782 Batch loss : 0.713888943195343\n",
            "Epoch(0/1: Batch number(713/782 Batch loss : 0.588063657283783\n",
            "Epoch(0/1: Batch number(714/782 Batch loss : 0.645153284072876\n",
            "Epoch(0/1: Batch number(715/782 Batch loss : 0.5953459143638611\n",
            "Epoch(0/1: Batch number(716/782 Batch loss : 0.5183427929878235\n",
            "Epoch(0/1: Batch number(717/782 Batch loss : 0.7830725908279419\n",
            "Epoch(0/1: Batch number(718/782 Batch loss : 0.6825658679008484\n",
            "Epoch(0/1: Batch number(719/782 Batch loss : 0.5763987302780151\n",
            "Epoch(0/1: Batch number(720/782 Batch loss : 0.5443141460418701\n",
            "Epoch(0/1: Batch number(721/782 Batch loss : 0.4603213667869568\n",
            "Epoch(0/1: Batch number(722/782 Batch loss : 0.7409910559654236\n",
            "Epoch(0/1: Batch number(723/782 Batch loss : 0.5339891910552979\n",
            "Epoch(0/1: Batch number(724/782 Batch loss : 0.6586700081825256\n",
            "Epoch(0/1: Batch number(725/782 Batch loss : 0.5396313071250916\n",
            "Epoch(0/1: Batch number(726/782 Batch loss : 0.9853404760360718\n",
            "Epoch(0/1: Batch number(727/782 Batch loss : 0.516646683216095\n",
            "Epoch(0/1: Batch number(728/782 Batch loss : 0.5305657982826233\n",
            "Epoch(0/1: Batch number(729/782 Batch loss : 0.6052502393722534\n",
            "Epoch(0/1: Batch number(730/782 Batch loss : 0.6328955292701721\n",
            "Epoch(0/1: Batch number(731/782 Batch loss : 0.5252634882926941\n",
            "Epoch(0/1: Batch number(732/782 Batch loss : 0.7680659890174866\n",
            "Epoch(0/1: Batch number(733/782 Batch loss : 0.6509196162223816\n",
            "Epoch(0/1: Batch number(734/782 Batch loss : 0.6385658979415894\n",
            "Epoch(0/1: Batch number(735/782 Batch loss : 0.4735739231109619\n",
            "Epoch(0/1: Batch number(736/782 Batch loss : 0.5814118385314941\n",
            "Epoch(0/1: Batch number(737/782 Batch loss : 0.499584436416626\n",
            "Epoch(0/1: Batch number(738/782 Batch loss : 0.7574455738067627\n",
            "Epoch(0/1: Batch number(739/782 Batch loss : 0.3286343812942505\n",
            "Epoch(0/1: Batch number(740/782 Batch loss : 0.6224735379219055\n",
            "Epoch(0/1: Batch number(741/782 Batch loss : 0.4672985374927521\n",
            "Epoch(0/1: Batch number(742/782 Batch loss : 0.5443853735923767\n",
            "Epoch(0/1: Batch number(743/782 Batch loss : 0.6278695464134216\n",
            "Epoch(0/1: Batch number(744/782 Batch loss : 0.360051691532135\n",
            "Epoch(0/1: Batch number(745/782 Batch loss : 0.7414707541465759\n",
            "Epoch(0/1: Batch number(746/782 Batch loss : 0.5729151368141174\n",
            "Epoch(0/1: Batch number(747/782 Batch loss : 0.6118620038032532\n",
            "Epoch(0/1: Batch number(748/782 Batch loss : 0.5347854495048523\n",
            "Epoch(0/1: Batch number(749/782 Batch loss : 0.708835780620575\n",
            "Epoch(0/1: Batch number(750/782 Batch loss : 0.5688679218292236\n",
            "Epoch(0/1: Batch number(751/782 Batch loss : 0.5842570066452026\n",
            "Epoch(0/1: Batch number(752/782 Batch loss : 0.7170634865760803\n",
            "Epoch(0/1: Batch number(753/782 Batch loss : 0.7258813381195068\n",
            "Epoch(0/1: Batch number(754/782 Batch loss : 0.6340511441230774\n",
            "Epoch(0/1: Batch number(755/782 Batch loss : 0.37154653668403625\n",
            "Epoch(0/1: Batch number(756/782 Batch loss : 0.702077329158783\n",
            "Epoch(0/1: Batch number(757/782 Batch loss : 0.40902838110923767\n",
            "Epoch(0/1: Batch number(758/782 Batch loss : 0.5054255127906799\n",
            "Epoch(0/1: Batch number(759/782 Batch loss : 0.713849663734436\n",
            "Epoch(0/1: Batch number(760/782 Batch loss : 0.5710710287094116\n",
            "Epoch(0/1: Batch number(761/782 Batch loss : 0.7776445150375366\n",
            "Epoch(0/1: Batch number(762/782 Batch loss : 0.5225257873535156\n",
            "Epoch(0/1: Batch number(763/782 Batch loss : 0.5482110381126404\n",
            "Epoch(0/1: Batch number(764/782 Batch loss : 0.8654329180717468\n",
            "Epoch(0/1: Batch number(765/782 Batch loss : 0.9320573210716248\n",
            "Epoch(0/1: Batch number(766/782 Batch loss : 0.7087836861610413\n",
            "Epoch(0/1: Batch number(767/782 Batch loss : 0.5872725248336792\n",
            "Epoch(0/1: Batch number(768/782 Batch loss : 0.6013660430908203\n",
            "Epoch(0/1: Batch number(769/782 Batch loss : 0.5764965415000916\n",
            "Epoch(0/1: Batch number(770/782 Batch loss : 0.618044376373291\n",
            "Epoch(0/1: Batch number(771/782 Batch loss : 0.5850056409835815\n",
            "Epoch(0/1: Batch number(772/782 Batch loss : 0.5458160042762756\n",
            "Epoch(0/1: Batch number(773/782 Batch loss : 0.5114966630935669\n",
            "Epoch(0/1: Batch number(774/782 Batch loss : 0.7988278269767761\n",
            "Epoch(0/1: Batch number(775/782 Batch loss : 0.46440571546554565\n",
            "Epoch(0/1: Batch number(776/782 Batch loss : 0.6315703988075256\n",
            "Epoch(0/1: Batch number(777/782 Batch loss : 0.6883530616760254\n",
            "Epoch(0/1: Batch number(778/782 Batch loss : 0.5294591188430786\n",
            "Epoch(0/1: Batch number(779/782 Batch loss : 0.6596855521202087\n",
            "Epoch(0/1: Batch number(780/782 Batch loss : 0.7942637801170349\n",
            "Epoch(0/1: Batch number(781/782 Batch loss : 0.42916855216026306\n",
            "Epoch(0/1: Batch number(782/782 Batch loss : 1.1383601427078247\n",
            "Training loss: 0.6504011785282808\n"
          ],
          "name": "stdout"
        }
      ]
    },
    {
      "cell_type": "code",
      "metadata": {
        "id": "Zl0xfgaA7SIw"
      },
      "source": [
        "import matplotlib.pyplot as plt\n",
        "%matplotlib inline\n",
        "import numpy as np"
      ],
      "execution_count": null,
      "outputs": []
    },
    {
      "cell_type": "code",
      "metadata": {
        "colab": {
          "base_uri": "https://localhost:8080/"
        },
        "id": "_B6ookh5SR0Q",
        "outputId": "02f903ff-ad7c-4401-d1d7-e1955569f7e5"
      },
      "source": [
        "CIFAR10_classes = ['plane','car','bird','cat','deer','dog','frog','horse','ship','truck']\n",
        "model.to('cpu')\n",
        "model.eval()\n",
        "with torch.no_grad():\n",
        "  images,labels=next(iter(testloader))\n",
        "  logps=model(images)\n",
        "  output=torch.exp(logps)\n",
        "  print(output)"
      ],
      "execution_count": null,
      "outputs": [
        {
          "output_type": "stream",
          "text": [
            "tensor([[5.4032e-04, 3.7436e-03, 1.4605e-03, 8.3457e-01, 1.8219e-04, 4.8692e-02,\n",
            "         1.0731e-01, 2.0487e-03, 1.1956e-03, 2.6216e-04],\n",
            "        [5.0050e-02, 4.3743e-01, 7.8035e-05, 3.1938e-04, 5.3030e-06, 6.5727e-06,\n",
            "         2.6307e-05, 6.0526e-06, 5.0515e-01, 6.9286e-03],\n",
            "        [6.3839e-03, 1.1874e-02, 2.6079e-06, 3.7786e-06, 1.6870e-06, 8.2652e-08,\n",
            "         4.6463e-07, 2.4799e-06, 9.8154e-01, 1.8712e-04],\n",
            "        [6.2441e-01, 2.2204e-03, 5.7987e-02, 9.8535e-02, 5.6419e-04, 9.5933e-04,\n",
            "         7.0415e-03, 8.6620e-04, 2.0693e-01, 4.8376e-04],\n",
            "        [6.7900e-08, 3.4207e-07, 2.1586e-03, 4.8610e-04, 1.1383e-04, 9.9507e-06,\n",
            "         9.9723e-01, 2.1082e-07, 1.0295e-07, 3.2017e-07],\n",
            "        [2.5565e-06, 2.0893e-06, 3.0996e-05, 5.0729e-02, 3.9032e-03, 5.6397e-02,\n",
            "         8.8882e-01, 1.0313e-04, 2.6902e-07, 1.2369e-05],\n",
            "        [8.2788e-06, 9.9850e-01, 2.0176e-07, 1.4498e-05, 3.1263e-08, 1.5960e-05,\n",
            "         3.7767e-06, 4.2742e-06, 2.0005e-06, 1.4485e-03],\n",
            "        [2.2224e-02, 1.0979e-02, 2.6907e-02, 5.3822e-02, 1.4953e-02, 4.6956e-03,\n",
            "         8.3445e-01, 1.2785e-02, 9.0502e-03, 1.0138e-02],\n",
            "        [7.6064e-05, 6.2112e-06, 1.0800e-02, 9.7928e-01, 3.2664e-03, 2.9269e-03,\n",
            "         2.9564e-03, 6.6880e-04, 1.7356e-05, 2.9961e-06],\n",
            "        [2.8493e-05, 9.5454e-01, 3.2059e-06, 2.4904e-04, 3.4650e-05, 2.6922e-04,\n",
            "         4.1030e-04, 5.5535e-05, 9.2124e-05, 4.4313e-02],\n",
            "        [9.7352e-01, 2.9448e-05, 3.0436e-03, 8.2285e-03, 5.3241e-03, 2.6803e-03,\n",
            "         2.4145e-04, 4.7135e-03, 2.0913e-03, 1.3048e-04],\n",
            "        [1.5259e-07, 2.5369e-03, 3.7476e-10, 3.2689e-08, 1.7293e-09, 8.4358e-09,\n",
            "         1.3635e-08, 1.3741e-09, 3.0196e-07, 9.9746e-01],\n",
            "        [7.9599e-06, 4.1285e-05, 4.0929e-04, 8.8224e-02, 1.3952e-03, 8.3636e-01,\n",
            "         1.5177e-03, 7.2032e-02, 5.1120e-06, 9.6392e-06],\n",
            "        [1.4356e-04, 7.7020e-04, 2.4356e-02, 1.5644e-01, 3.0866e-03, 3.5127e-01,\n",
            "         2.6567e-03, 4.6067e-01, 1.3032e-04, 4.8368e-04],\n",
            "        [4.7501e-05, 4.7724e-03, 2.2047e-08, 1.1128e-06, 3.3504e-07, 3.7842e-07,\n",
            "         1.6645e-07, 1.1118e-06, 1.2120e-05, 9.9516e-01],\n",
            "        [1.5756e-02, 5.4359e-03, 1.4044e-02, 5.6806e-04, 1.0482e-04, 2.9973e-03,\n",
            "         9.1890e-02, 2.0228e-04, 8.6881e-01, 1.9236e-04],\n",
            "        [1.7159e-06, 6.4323e-06, 1.0534e-04, 2.1298e-02, 7.1642e-06, 9.7831e-01,\n",
            "         2.4985e-05, 2.4826e-04, 6.6686e-07, 1.6787e-06],\n",
            "        [1.4996e-04, 3.4229e-02, 5.0333e-04, 1.4338e-03, 2.2520e-03, 6.5729e-02,\n",
            "         6.5612e-03, 8.8627e-01, 2.2316e-05, 2.8503e-03],\n",
            "        [4.8927e-04, 8.7911e-04, 1.8307e-06, 3.5433e-06, 1.7968e-04, 3.3382e-07,\n",
            "         1.6195e-07, 6.1349e-06, 9.9649e-01, 1.9485e-03],\n",
            "        [2.9457e-05, 7.5544e-06, 2.0238e-03, 1.3170e-03, 7.5931e-04, 2.4950e-05,\n",
            "         9.9581e-01, 7.9237e-07, 2.3258e-05, 1.6354e-06],\n",
            "        [1.1690e-01, 9.4631e-03, 6.2837e-03, 5.5261e-02, 4.2997e-02, 5.3647e-02,\n",
            "         1.1098e-03, 7.1073e-01, 1.5541e-03, 2.0522e-03],\n",
            "        [9.9299e-01, 2.5572e-04, 1.8049e-03, 3.3503e-03, 2.7005e-04, 2.5049e-04,\n",
            "         6.5294e-04, 1.0071e-04, 2.9313e-04, 3.1681e-05],\n",
            "        [5.9152e-02, 2.6694e-04, 7.4634e-02, 2.8449e-02, 7.6920e-01, 4.7428e-03,\n",
            "         3.3817e-02, 4.9734e-03, 2.4706e-02, 5.9761e-05],\n",
            "        [1.1126e-04, 6.5604e-01, 1.9047e-07, 1.6824e-05, 4.6440e-07, 1.9675e-05,\n",
            "         5.2020e-07, 3.6660e-06, 2.9340e-05, 3.4378e-01],\n",
            "        [2.2796e-06, 8.5060e-06, 2.5460e-04, 7.4222e-02, 2.5997e-02, 8.9665e-01,\n",
            "         1.8568e-03, 9.8000e-04, 2.1129e-05, 7.6333e-06],\n",
            "        [5.7485e-04, 5.2471e-04, 3.9188e-01, 9.9109e-02, 9.1252e-02, 1.0068e-01,\n",
            "         1.0598e-03, 3.1465e-01, 2.1231e-04, 6.5582e-05],\n",
            "        [2.3158e-03, 5.2237e-04, 2.3643e-02, 5.8165e-01, 2.4643e-01, 6.0502e-02,\n",
            "         7.0375e-02, 1.2244e-02, 8.0318e-04, 1.5160e-03],\n",
            "        [5.5793e-01, 4.0544e-04, 2.1994e-01, 1.9336e-02, 8.2006e-02, 1.2184e-03,\n",
            "         4.6758e-02, 6.3422e-02, 7.5263e-03, 1.4587e-03],\n",
            "        [5.6848e-05, 4.9968e-03, 2.0829e-07, 1.1416e-05, 3.9095e-06, 1.2988e-06,\n",
            "         5.4207e-07, 4.5819e-05, 1.5959e-05, 9.9487e-01],\n",
            "        [7.1333e-06, 3.5964e-07, 7.8698e-04, 4.5024e-03, 2.7114e-03, 3.9536e-04,\n",
            "         9.9155e-01, 3.9827e-05, 3.0142e-06, 9.6809e-07],\n",
            "        [2.7273e-04, 2.0672e-04, 7.7111e-03, 1.7276e-01, 1.8217e-03, 1.0620e-03,\n",
            "         8.1548e-01, 2.1359e-04, 1.0822e-05, 4.6421e-04],\n",
            "        [8.6741e-07, 4.9939e-05, 3.1908e-03, 2.5153e-02, 2.5903e-03, 9.6186e-01,\n",
            "         2.5461e-04, 6.8922e-03, 4.1136e-06, 4.1704e-06],\n",
            "        [2.0257e-04, 3.0124e-03, 6.7458e-02, 1.4391e-02, 8.5036e-01, 1.2979e-02,\n",
            "         4.1115e-02, 9.6262e-03, 2.3277e-04, 6.2484e-04],\n",
            "        [1.6184e-05, 5.5378e-04, 3.7739e-03, 3.9128e-01, 1.5088e-02, 5.4013e-01,\n",
            "         4.8807e-02, 2.9390e-04, 2.0962e-05, 3.3856e-05],\n",
            "        [2.6309e-03, 4.1153e-04, 3.4942e-07, 2.8753e-06, 5.9108e-06, 2.5947e-07,\n",
            "         3.0466e-07, 4.5001e-06, 3.9721e-04, 9.9655e-01],\n",
            "        [1.4497e-03, 2.4091e-02, 7.9697e-02, 1.6782e-01, 5.7393e-04, 6.7930e-01,\n",
            "         9.1618e-03, 1.9684e-02, 9.9879e-03, 8.2335e-03],\n",
            "        [5.3312e-06, 3.5146e-08, 3.7304e-04, 4.7157e-04, 8.4060e-01, 5.7591e-02,\n",
            "         1.0706e-04, 1.0086e-01, 2.8095e-07, 2.7040e-08],\n",
            "        [2.6638e-04, 9.2506e-01, 1.0413e-07, 1.9490e-05, 1.7636e-06, 1.6609e-06,\n",
            "         1.2724e-06, 1.5230e-06, 1.3768e-05, 7.4633e-02],\n",
            "        [7.9491e-05, 4.1414e-03, 9.2415e-06, 1.4460e-03, 4.1259e-06, 2.7087e-03,\n",
            "         1.1408e-05, 2.2555e-04, 1.0226e-03, 9.9035e-01],\n",
            "        [1.6908e-08, 9.4017e-07, 4.2618e-06, 2.6085e-04, 4.0940e-07, 9.9973e-01,\n",
            "         3.5924e-06, 1.4022e-06, 1.0288e-07, 1.2998e-07],\n",
            "        [1.5342e-01, 8.2209e-03, 4.5079e-01, 8.7961e-03, 2.6176e-01, 1.4242e-03,\n",
            "         3.6803e-02, 7.7439e-02, 1.1274e-03, 2.2049e-04],\n",
            "        [5.8160e-05, 6.3781e-05, 1.8932e-03, 1.7297e-03, 7.1896e-03, 1.6087e-04,\n",
            "         9.8864e-01, 1.7529e-04, 2.1385e-05, 7.0452e-05],\n",
            "        [1.2237e-05, 7.0845e-05, 6.0137e-04, 5.5394e-02, 1.2296e-04, 9.3662e-01,\n",
            "         3.3455e-05, 7.0562e-03, 3.8489e-05, 5.1538e-05],\n",
            "        [8.0962e-05, 2.0472e-04, 4.7947e-03, 5.9738e-02, 1.4204e-03, 1.2828e-02,\n",
            "         9.2030e-01, 7.9742e-05, 2.4350e-04, 3.0625e-04],\n",
            "        [7.4960e-01, 1.5107e-01, 2.0683e-03, 1.2412e-04, 2.0848e-03, 2.2095e-04,\n",
            "         1.3403e-03, 1.1652e-03, 2.7482e-02, 6.4839e-02],\n",
            "        [2.7900e-04, 8.8467e-04, 3.0360e-08, 4.7799e-07, 3.9486e-07, 5.6960e-08,\n",
            "         3.7536e-08, 8.4556e-06, 9.5925e-04, 9.9787e-01],\n",
            "        [2.2860e-06, 3.7878e-04, 2.3311e-03, 9.0298e-01, 6.8443e-03, 7.8517e-02,\n",
            "         3.4597e-03, 5.3940e-03, 2.6399e-05, 6.2915e-05],\n",
            "        [8.9675e-02, 1.7007e-01, 2.3910e-04, 2.9022e-03, 2.9872e-05, 4.1434e-05,\n",
            "         3.2768e-04, 5.9164e-04, 9.5191e-02, 6.4094e-01],\n",
            "        [7.5600e-07, 6.4002e-07, 3.2262e-04, 2.2931e-05, 1.5703e-01, 2.3831e-03,\n",
            "         2.3127e-05, 8.4022e-01, 1.3138e-07, 8.5819e-08],\n",
            "        [7.6222e-05, 1.0185e-04, 3.4470e-02, 2.4623e-03, 1.2597e-02, 2.7124e-03,\n",
            "         9.4754e-01, 2.3111e-05, 1.7548e-05, 8.6825e-07],\n",
            "        [1.2719e-01, 2.4777e-04, 7.1056e-06, 9.6176e-06, 1.8272e-04, 1.1324e-06,\n",
            "         2.7260e-06, 3.6517e-05, 3.2593e-03, 8.6906e-01],\n",
            "        [9.6389e-03, 1.8067e-05, 6.3922e-04, 3.1948e-05, 2.7159e-04, 2.7310e-05,\n",
            "         1.2840e-04, 1.2753e-04, 9.8675e-01, 2.3658e-03],\n",
            "        [6.3868e-01, 9.2868e-04, 1.2284e-03, 6.5327e-03, 3.5816e-04, 2.7135e-02,\n",
            "         5.9420e-02, 2.7229e-04, 2.3898e-01, 2.6465e-02],\n",
            "        [3.4092e-05, 1.5503e-04, 3.9514e-02, 8.0484e-01, 2.2261e-03, 1.7344e-02,\n",
            "         1.3453e-01, 5.4580e-04, 1.1811e-04, 6.9386e-04],\n",
            "        [4.2571e-03, 2.5406e-06, 2.1021e-06, 1.6835e-07, 2.3228e-07, 2.7382e-08,\n",
            "         4.0063e-08, 9.8491e-08, 9.9574e-01, 2.6374e-07],\n",
            "        [1.7206e-03, 1.9787e-05, 1.2185e-03, 6.4402e-05, 8.4459e-04, 2.2370e-04,\n",
            "         5.4040e-07, 1.8373e-04, 9.9571e-01, 9.1366e-06],\n",
            "        [2.3920e-04, 1.5831e-03, 3.9873e-04, 2.2087e-01, 3.1112e-03, 2.2901e-01,\n",
            "         9.3849e-05, 5.4215e-01, 2.2173e-05, 2.5221e-03],\n",
            "        [3.4667e-02, 2.4089e-02, 2.1108e-02, 7.1669e-01, 2.5257e-02, 7.2029e-02,\n",
            "         5.9664e-02, 3.6534e-02, 7.4613e-03, 2.4998e-03],\n",
            "        [1.1244e-03, 2.1058e-04, 3.7597e-03, 7.2630e-01, 4.9137e-02, 1.9314e-01,\n",
            "         9.7698e-03, 1.4441e-02, 1.1683e-03, 9.4641e-04],\n",
            "        [1.6536e-02, 1.9966e-02, 8.0393e-03, 6.5196e-01, 1.7422e-02, 1.4862e-01,\n",
            "         1.0036e-01, 1.5458e-02, 1.3565e-02, 8.0832e-03],\n",
            "        [6.7386e-07, 9.3145e-07, 5.8984e-05, 3.3180e-06, 1.5920e-01, 1.4176e-04,\n",
            "         7.3755e-06, 8.4058e-01, 4.2512e-08, 1.3957e-08],\n",
            "        [2.6369e-05, 3.1146e-05, 5.8262e-02, 6.1105e-01, 2.0925e-03, 2.9707e-01,\n",
            "         1.2145e-02, 1.9261e-02, 2.1633e-05, 3.9513e-05],\n",
            "        [1.5995e-02, 2.8264e-02, 2.1242e-02, 3.2948e-02, 1.0710e-02, 2.9972e-03,\n",
            "         8.7671e-01, 5.4639e-03, 3.3813e-03, 2.2912e-03],\n",
            "        [1.3634e-03, 8.7517e-02, 4.1385e-03, 8.7126e-01, 3.6960e-04, 1.9649e-02,\n",
            "         3.0129e-03, 9.0757e-05, 2.9829e-03, 9.6142e-03]])\n"
          ],
          "name": "stdout"
        }
      ]
    },
    {
      "cell_type": "code",
      "metadata": {
        "colab": {
          "base_uri": "https://localhost:8080/"
        },
        "id": "gJHnIzyYTDaO",
        "outputId": "aa9f4cf6-1d76-471d-d8cb-7a827377e7bf"
      },
      "source": [
        "CIFAR10_classes = ['plane','car','bird','cat','deer','dog','frog','horse','ship','truck']\n",
        "model.to('cpu')\n",
        "model.eval()\n",
        "with torch.no_grad():\n",
        "  images,labels=next(iter(testloader))\n",
        "  logps=model(images)\n",
        "  output=torch.exp(logps)\n",
        "  pred=torch.argmax(output,1)\n",
        "\n",
        "model.train()"
      ],
      "execution_count": null,
      "outputs": [
        {
          "output_type": "execute_result",
          "data": {
            "text/plain": [
              "VGG(\n",
              "  (features): Sequential(\n",
              "    (0): Conv2d(3, 64, kernel_size=(3, 3), stride=(1, 1), padding=(1, 1))\n",
              "    (1): ReLU(inplace=True)\n",
              "    (2): Conv2d(64, 64, kernel_size=(3, 3), stride=(1, 1), padding=(1, 1))\n",
              "    (3): ReLU(inplace=True)\n",
              "    (4): MaxPool2d(kernel_size=2, stride=2, padding=0, dilation=1, ceil_mode=False)\n",
              "    (5): Conv2d(64, 128, kernel_size=(3, 3), stride=(1, 1), padding=(1, 1))\n",
              "    (6): ReLU(inplace=True)\n",
              "    (7): Conv2d(128, 128, kernel_size=(3, 3), stride=(1, 1), padding=(1, 1))\n",
              "    (8): ReLU(inplace=True)\n",
              "    (9): MaxPool2d(kernel_size=2, stride=2, padding=0, dilation=1, ceil_mode=False)\n",
              "    (10): Conv2d(128, 256, kernel_size=(3, 3), stride=(1, 1), padding=(1, 1))\n",
              "    (11): ReLU(inplace=True)\n",
              "    (12): Conv2d(256, 256, kernel_size=(3, 3), stride=(1, 1), padding=(1, 1))\n",
              "    (13): ReLU(inplace=True)\n",
              "    (14): Conv2d(256, 256, kernel_size=(3, 3), stride=(1, 1), padding=(1, 1))\n",
              "    (15): ReLU(inplace=True)\n",
              "    (16): MaxPool2d(kernel_size=2, stride=2, padding=0, dilation=1, ceil_mode=False)\n",
              "    (17): Conv2d(256, 512, kernel_size=(3, 3), stride=(1, 1), padding=(1, 1))\n",
              "    (18): ReLU(inplace=True)\n",
              "    (19): Conv2d(512, 512, kernel_size=(3, 3), stride=(1, 1), padding=(1, 1))\n",
              "    (20): ReLU(inplace=True)\n",
              "    (21): Conv2d(512, 512, kernel_size=(3, 3), stride=(1, 1), padding=(1, 1))\n",
              "    (22): ReLU(inplace=True)\n",
              "    (23): MaxPool2d(kernel_size=2, stride=2, padding=0, dilation=1, ceil_mode=False)\n",
              "    (24): Conv2d(512, 512, kernel_size=(3, 3), stride=(1, 1), padding=(1, 1))\n",
              "    (25): ReLU(inplace=True)\n",
              "    (26): Conv2d(512, 512, kernel_size=(3, 3), stride=(1, 1), padding=(1, 1))\n",
              "    (27): ReLU(inplace=True)\n",
              "    (28): Conv2d(512, 512, kernel_size=(3, 3), stride=(1, 1), padding=(1, 1))\n",
              "    (29): ReLU(inplace=True)\n",
              "    (30): MaxPool2d(kernel_size=2, stride=2, padding=0, dilation=1, ceil_mode=False)\n",
              "  )\n",
              "  (avgpool): AdaptiveAvgPool2d(output_size=(7, 7))\n",
              "  (classifier): Sequential(\n",
              "    (0): Linear(in_features=25088, out_features=4096, bias=True)\n",
              "    (1): ReLU(inplace=True)\n",
              "    (2): Dropout(p=0.5, inplace=False)\n",
              "    (3): Linear(in_features=4096, out_features=4096, bias=True)\n",
              "    (4): ReLU(inplace=True)\n",
              "    (5): Dropout(p=0.5, inplace=False)\n",
              "    (6): Sequential(\n",
              "      (0): Linear(in_features=4096, out_features=10, bias=True)\n",
              "      (1): LogSoftmax(dim=1)\n",
              "    )\n",
              "  )\n",
              ")"
            ]
          },
          "metadata": {
            "tags": []
          },
          "execution_count": 19
        }
      ]
    },
    {
      "cell_type": "code",
      "metadata": {
        "colab": {
          "base_uri": "https://localhost:8080/",
          "height": 286
        },
        "id": "TsDuFNh8T1rl",
        "outputId": "68e1ae04-c7a8-4845-89d5-ef113c531943"
      },
      "source": [
        "test_image_id=2\n",
        "def normalize(tensor):\n",
        "  tensor=tensor*std+mean\n",
        "  return tensor\n",
        "\n",
        "def denormalize(tensor):\n",
        "  tensor=tensor*std+mean\n",
        "  return tensor\n",
        "\n",
        "def show_img(img):\n",
        "  img=img.numpy().transpose((1,2,0))\n",
        "  img=denormalize(img)\n",
        "  img=np.clip(img,0,1)\n",
        "  plt.imshow(img)\n",
        "\n",
        "def get_CIFAR10_class(id):\n",
        "  CIFAR10_classes = ['plane','car','bird','cat','deer','dog','frog','horse','ship','truck']\n",
        "  return CIFAR10_classes[id]\n",
        "\n",
        "show_img(images[test_image_id])\n",
        "print(get_CIFAR10_class(pred[test_image_id]))"
      ],
      "execution_count": null,
      "outputs": [
        {
          "output_type": "stream",
          "text": [
            "ship\n"
          ],
          "name": "stdout"
        },
        {
          "output_type": "display_data",
          "data": {
            "image/png": "[encoded data removed]",
            "text/plain": [
              "<Figure size 432x288 with 1 Axes>"
            ]
          },
          "metadata": {
            "tags": [],
            "needs_background": "light"
          }
        }
      ]
    },
    {
      "cell_type": "code",
      "metadata": {
        "colab": {
          "base_uri": "https://localhost:8080/"
        },
        "id": "WkeP6gG8T191",
        "outputId": "d7d56114-2a47-402f-c816-11736df7f694"
      },
      "source": [
        "pred"
      ],
      "execution_count": null,
      "outputs": [
        {
          "output_type": "execute_result",
          "data": {
            "text/plain": [
              "tensor([3, 8, 8, 0, 6, 6, 1, 6, 3, 1, 0, 9, 5, 7, 9, 8, 5, 7, 8, 6, 7, 0, 4, 1,\n",
              "        5, 2, 3, 0, 9, 6, 6, 5, 4, 5, 9, 5, 4, 1, 9, 5, 2, 6, 5, 6, 0, 9, 3, 9,\n",
              "        7, 6, 9, 8, 0, 3, 8, 8, 7, 3, 3, 3, 7, 3, 6, 3])"
            ]
          },
          "metadata": {
            "tags": []
          },
          "execution_count": 23
        }
      ]
    },
    {
      "cell_type": "code",
      "metadata": {
        "colab": {
          "base_uri": "https://localhost:8080/"
        },
        "id": "hxbGGKnDT2Is",
        "outputId": "247f186d-16d4-4220-a361-4bbafb03179f"
      },
      "source": [
        "images.size()"
      ],
      "execution_count": null,
      "outputs": [
        {
          "output_type": "execute_result",
          "data": {
            "text/plain": [
              "torch.Size([64, 3, 224, 224])"
            ]
          },
          "metadata": {
            "tags": []
          },
          "execution_count": 24
        }
      ]
    },
    {
      "cell_type": "code",
      "metadata": {
        "colab": {
          "base_uri": "https://localhost:8080/"
        },
        "id": "iVxepPTsVi8v",
        "outputId": "3f06b3f9-25c4-4192-da97-89d30cb80f0d"
      },
      "source": [
        "images[0].size()"
      ],
      "execution_count": null,
      "outputs": [
        {
          "output_type": "execute_result",
          "data": {
            "text/plain": [
              "torch.Size([3, 224, 224])"
            ]
          },
          "metadata": {
            "tags": []
          },
          "execution_count": 25
        }
      ]
    },
    {
      "cell_type": "code",
      "metadata": {
        "colab": {
          "base_uri": "https://localhost:8080/",
          "height": 286
        },
        "id": "n0Q0oKiPV3Vd",
        "outputId": "a52fd386-976e-4bed-cfe3-2d6e4f837de7"
      },
      "source": [
        "plt.imshow(np.clip(np.transpose(images[test_image_id],(1,2,0)),0,1))"
      ],
      "execution_count": null,
      "outputs": [
        {
          "output_type": "execute_result",
          "data": {
            "text/plain": [
              "<matplotlib.image.AxesImage at 0x7f1a680d33d0>"
            ]
          },
          "metadata": {
            "tags": []
          },
          "execution_count": 26
        },
        {
          "output_type": "display_data",
          "data": {
            "image/png": "[encoded data removed]",
            "text/plain": [
              "<Figure size 432x288 with 1 Axes>"
            ]
          },
          "metadata": {
            "tags": [],
            "needs_background": "light"
          }
        }
      ]
    },
    {
      "cell_type": "code",
      "metadata": {
        "id": "x4fvsNaFV6DR"
      },
      "source": [
        ""
      ],
      "execution_count": null,
      "outputs": []
    },
    {
      "cell_type": "code",
      "metadata": {
        "colab": {
          "base_uri": "https://localhost:8080/",
          "height": 287
        },
        "id": "3SIQ1QTWWh5F",
        "outputId": "0ba74c54-be2f-4388-a2b5-9782d133b554"
      },
      "source": [
        "show_img(images[test_image_id])\n",
        "get_CIFAR10_class(pred[test_image_id])\n"
      ],
      "execution_count": null,
      "outputs": [
        {
          "output_type": "execute_result",
          "data": {
            "application/vnd.google.colaboratory.intrinsic+json": {
              "type": "string"
            },
            "text/plain": [
              "'ship'"
            ]
          },
          "metadata": {
            "tags": []
          },
          "execution_count": 27
        },
        {
          "output_type": "display_data",
          "data": {
            "image/png": "[encoded data removed]",
            "text/plain": [
              "<Figure size 432x288 with 1 Axes>"
            ]
          },
          "metadata": {
            "tags": [],
            "needs_background": "light"
          }
        }
      ]
    },
    {
      "cell_type": "code",
      "metadata": {
        "colab": {
          "base_uri": "https://localhost:8080/"
        },
        "id": "3JNjRDUhct7w",
        "outputId": "b1c151c8-c4a7-4bad-ce10-62764100ae28"
      },
      "source": [
        "pred,labels"
      ],
      "execution_count": null,
      "outputs": [
        {
          "output_type": "execute_result",
          "data": {
            "text/plain": [
              "(tensor([3, 8, 8, 0, 6, 6, 1, 6, 3, 1, 0, 9, 5, 7, 9, 8, 5, 7, 8, 6, 7, 0, 4, 1,\n",
              "         5, 2, 3, 0, 9, 6, 6, 5, 4, 5, 9, 5, 4, 1, 9, 5, 2, 6, 5, 6, 0, 9, 3, 9,\n",
              "         7, 6, 9, 8, 0, 3, 8, 8, 7, 3, 3, 3, 7, 3, 6, 3]),\n",
              " tensor([3, 8, 8, 0, 6, 6, 1, 6, 3, 1, 0, 9, 5, 7, 9, 8, 5, 7, 8, 6, 7, 0, 4, 9,\n",
              "         5, 2, 4, 0, 9, 6, 6, 5, 4, 5, 9, 2, 4, 1, 9, 5, 4, 6, 5, 6, 0, 9, 3, 9,\n",
              "         7, 6, 9, 8, 0, 3, 8, 8, 7, 7, 4, 6, 7, 3, 6, 3]))"
            ]
          },
          "metadata": {
            "tags": []
          },
          "execution_count": 30
        }
      ]
    },
    {
      "cell_type": "code",
      "metadata": {
        "colab": {
          "base_uri": "https://localhost:8080/"
        },
        "id": "ZjWdfpXwcwZM",
        "outputId": "07e61c84-a3a7-4200-d272-27adb61e9951"
      },
      "source": [
        "pred==labels"
      ],
      "execution_count": null,
      "outputs": [
        {
          "output_type": "execute_result",
          "data": {
            "text/plain": [
              "tensor([ True,  True,  True,  True,  True,  True,  True,  True,  True,  True,\n",
              "         True,  True,  True,  True,  True,  True,  True,  True,  True,  True,\n",
              "         True,  True,  True, False,  True,  True, False,  True,  True,  True,\n",
              "         True,  True,  True,  True,  True, False,  True,  True,  True,  True,\n",
              "        False,  True,  True,  True,  True,  True,  True,  True,  True,  True,\n",
              "         True,  True,  True,  True,  True,  True,  True, False, False, False,\n",
              "         True,  True,  True,  True])"
            ]
          },
          "metadata": {
            "tags": []
          },
          "execution_count": 31
        }
      ]
    },
    {
      "cell_type": "code",
      "metadata": {
        "colab": {
          "base_uri": "https://localhost:8080/"
        },
        "id": "0gv075CycwR9",
        "outputId": "7131026d-9406-430e-a3ef-ddd97fe713ae"
      },
      "source": [
        "(pred==labels).sum().item()"
      ],
      "execution_count": null,
      "outputs": [
        {
          "output_type": "execute_result",
          "data": {
            "text/plain": [
              "57"
            ]
          },
          "metadata": {
            "tags": []
          },
          "execution_count": 32
        }
      ]
    },
    {
      "cell_type": "code",
      "metadata": {
        "id": "HbRaADY-cwJ9"
      },
      "source": [
        ""
      ],
      "execution_count": null,
      "outputs": []
    },
    {
      "cell_type": "code",
      "metadata": {
        "colab": {
          "base_uri": "https://localhost:8080/"
        },
        "id": "GJ6_tYHTcRCc",
        "outputId": "3c4a63fa-d911-42e1-c209-dbe3cb9ff4e8"
      },
      "source": [
        "model.eval()\n",
        "with torch.no_grad():\n",
        "  num_correct=0\n",
        "  total=0\n",
        "  cnt=0\n",
        "  #set_trace()\n",
        "  for images,labels in testloader:\n",
        "    logps=model(images)\n",
        "    output=torch.exp(logps)\n",
        "    #print(output)\n",
        "\n",
        "    pred = torch.argmax(output,1)\n",
        "    total+=labels.size(0)\n",
        "\n",
        "    num_correct+=(pred==labels).sum().item()\n",
        "    print(f'Batch({batch}/{len(testloader)})')\n",
        "    \n",
        "    if batch>=2:\n",
        "      break\n",
        "  print(\"accuracy is :\",(num_correct*100/total))"
      ],
      "execution_count": null,
      "outputs": [
        {
          "output_type": "stream",
          "text": [
            "Batch(782/157)\n",
            "accuracy is : 89.0625\n"
          ],
          "name": "stdout"
        }
      ]
    },
    {
      "cell_type": "code",
      "metadata": {
        "id": "JqTMxHKDeKXl"
      },
      "source": [
        ""
      ],
      "execution_count": null,
      "outputs": []
    }
  ]
}