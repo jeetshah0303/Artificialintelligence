{
  "nbformat": 4,
  "nbformat_minor": 0,
  "metadata": {
    "colab": {
      "name": "Statistical approach Anomaly detection.ipynb",
      "provenance": [],
      "authorship_tag": "ABX9TyNm0FFz6FjCg0GBeqb1YWyM",
      "include_colab_link": true
    },
    "kernelspec": {
      "name": "python3",
      "display_name": "Python 3"
    },
    "language_info": {
      "name": "python"
    }
  },
  "cells": [
    {
      "cell_type": "markdown",
      "metadata": {
        "id": "view-in-github",
        "colab_type": "text"
      },
      "source": [
        "<a href=\"https://colab.research.google.com/github/jeetshah0303/Artificialintelligence/blob/main/Statistical_approach_Anomaly_detection.ipynb\" target=\"_parent\"><img src=\"https://colab.research.google.com/assets/colab-badge.svg\" alt=\"Open In Colab\"/></a>"
      ]
    },
    {
      "cell_type": "code",
      "metadata": {
        "id": "5G-1Ue8iEjfc"
      },
      "source": [
        "import numpy as np \n",
        "import seaborn as sns \n",
        "from scipy import stats \n",
        "import matplotlib.pyplot as plt"
      ],
      "execution_count": 1,
      "outputs": []
    },
    {
      "cell_type": "code",
      "metadata": {
        "id": "PakJN_HJEs7f"
      },
      "source": [
        "data=np.random.randn(50000)*20+20"
      ],
      "execution_count": 2,
      "outputs": []
    },
    {
      "cell_type": "code",
      "metadata": {
        "colab": {
          "base_uri": "https://localhost:8080/"
        },
        "id": "xAdi1GJKEs4Y",
        "outputId": "27f60e1a-10c0-43c0-e4ac-be025698ac1c"
      },
      "source": [
        "len(data)"
      ],
      "execution_count": 3,
      "outputs": [
        {
          "output_type": "execute_result",
          "data": {
            "text/plain": [
              "50000"
            ]
          },
          "metadata": {},
          "execution_count": 3
        }
      ]
    },
    {
      "cell_type": "code",
      "metadata": {
        "colab": {
          "base_uri": "https://localhost:8080/",
          "height": 282
        },
        "id": "5jW1XBsCEs0Y",
        "outputId": "08c75929-5655-4ed1-e96c-e93d55541a2c"
      },
      "source": [
        "plt.plot(data)"
      ],
      "execution_count": 4,
      "outputs": [
        {
          "output_type": "execute_result",
          "data": {
            "text/plain": [
              "[<matplotlib.lines.Line2D at 0x7f2b951eca10>]"
            ]
          },
          "metadata": {},
          "execution_count": 4
        },
        {
          "output_type": "display_data",
          "data": {
            "image/png": "[encoded data removed]",
            "text/plain": [
              "<Figure size 432x288 with 1 Axes>"
            ]
          },
          "metadata": {
            "needs_background": "light"
          }
        }
      ]
    },
    {
      "cell_type": "code",
      "metadata": {
        "id": "MtNcpx-BEssJ"
      },
      "source": [
        "random_data_std=np.std(data)\n",
        "random_data_mean=np.mean(data)\n",
        "anomaly_cut_off=random_data_std*3"
      ],
      "execution_count": 5,
      "outputs": []
    },
    {
      "cell_type": "code",
      "metadata": {
        "id": "m_fddj89FZv6"
      },
      "source": [
        "lower_limit=random_data_mean- anomaly_cut_off\n",
        "upper_limit=random_data_mean+ anomaly_cut_off"
      ],
      "execution_count": 7,
      "outputs": []
    },
    {
      "cell_type": "code",
      "metadata": {
        "colab": {
          "base_uri": "https://localhost:8080/"
        },
        "id": "FemeHdzFFZuD",
        "outputId": "52afee8a-7c77-4896-fe2e-1171fe0852ae"
      },
      "source": [
        "print(upper_limit,lower_limit)"
      ],
      "execution_count": 8,
      "outputs": [
        {
          "output_type": "stream",
          "name": "stdout",
          "text": [
            "80.22909716084132 -40.21570417497003\n"
          ]
        }
      ]
    },
    {
      "cell_type": "code",
      "metadata": {
        "id": "OntHA8mxFZqr"
      },
      "source": [
        "#defining a list to store the anomalies \n",
        "anomalies=[]\n",
        "#generate the outliers\n",
        "for outlier in data:\n",
        "  if outlier>upper_limit or outlier<lower_limit:\n",
        "    anomalies.append(outlier)"
      ],
      "execution_count": 11,
      "outputs": []
    },
    {
      "cell_type": "code",
      "metadata": {
        "colab": {
          "base_uri": "https://localhost:8080/"
        },
        "id": "GrLYip0yFZoU",
        "outputId": "7b581503-a5ca-4867-d50a-3cfee61029f5"
      },
      "source": [
        "len(anomalies)"
      ],
      "execution_count": 12,
      "outputs": [
        {
          "output_type": "execute_result",
          "data": {
            "text/plain": [
              "143"
            ]
          },
          "metadata": {},
          "execution_count": 12
        }
      ]
    },
    {
      "cell_type": "code",
      "metadata": {
        "colab": {
          "base_uri": "https://localhost:8080/"
        },
        "id": "ywNsIcsoFZl1",
        "outputId": "18893c0e-cbe2-44bc-a384-72a3d9c2a5b7"
      },
      "source": [
        "anomalies"
      ],
      "execution_count": 13,
      "outputs": [
        {
          "output_type": "execute_result",
          "data": {
            "text/plain": [
              "[82.57009841091428,\n",
              " -53.14326539568029,\n",
              " -43.0378920216026,\n",
              " -41.01925285816921,\n",
              " -41.2656848181042,\n",
              " 88.43957512068376,\n",
              " 83.62604654144758,\n",
              " 87.00554485765628,\n",
              " 87.12435375597205,\n",
              " 87.509176481701,\n",
              " 86.33269198711648,\n",
              " -53.282447946423204,\n",
              " -46.51025768295551,\n",
              " -44.342784656836656,\n",
              " -43.334302858478615,\n",
              " -53.55166999918043,\n",
              " 87.19482184401652,\n",
              " -43.26295325040259,\n",
              " 80.60325718616383,\n",
              " 81.08123771091212,\n",
              " -42.75744325721469,\n",
              " 83.18780481472295,\n",
              " 86.98360530269083,\n",
              " -41.599659939411396,\n",
              " -51.61379345981017,\n",
              " -50.734560416576144,\n",
              " 83.57315627096781,\n",
              " 81.1829000275455,\n",
              " 97.32762524908479,\n",
              " -40.633672892146905,\n",
              " -44.57938855139609,\n",
              " -55.25777832028476,\n",
              " 87.69220025535815,\n",
              " -46.21233106819025,\n",
              " -43.525347537037355,\n",
              " -51.52602248239309,\n",
              " -40.40440361108637,\n",
              " 86.52667034968451,\n",
              " 83.91506458311322,\n",
              " 84.52468688205447,\n",
              " 81.9560455761756,\n",
              " 80.40707084938747,\n",
              " -43.08927459576437,\n",
              " -41.37361395195097,\n",
              " 90.28492323196662,\n",
              " -53.852517200367004,\n",
              " 83.21181125125145,\n",
              " -44.04336843180593,\n",
              " 92.0922990059914,\n",
              " -40.99996631142144,\n",
              " 80.28795281854059,\n",
              " 81.79209774411582,\n",
              " 104.73946004769553,\n",
              " 82.16052028132049,\n",
              " -45.24280748980259,\n",
              " 103.52639515764488,\n",
              " -43.072902728771,\n",
              " 87.00603903092414,\n",
              " 91.22916567566602,\n",
              " -44.9388185740424,\n",
              " -42.80628616645322,\n",
              " 80.54902564949339,\n",
              " 82.11972999903134,\n",
              " -52.40996432947628,\n",
              " -40.71918903362715,\n",
              " -43.63998228647473,\n",
              " -44.69400378849704,\n",
              " 80.65698287930758,\n",
              " -40.79517038423167,\n",
              " 82.26838514981499,\n",
              " 82.86472809679347,\n",
              " 86.95230079318179,\n",
              " 86.16965602900024,\n",
              " -53.874569657445534,\n",
              " -43.9058503023528,\n",
              " -53.91580228603017,\n",
              " 104.43107432549289,\n",
              " -44.646660936192674,\n",
              " -52.16101940282772,\n",
              " 85.51336396925295,\n",
              " -43.3333536306897,\n",
              " 84.37141116936851,\n",
              " -41.43720139618098,\n",
              " 81.09123178026007,\n",
              " 80.58430616285858,\n",
              " -44.99756214711866,\n",
              " 87.35921988373724,\n",
              " -53.79367031613897,\n",
              " -40.35829708057693,\n",
              " -46.719721663144526,\n",
              " -42.351703790297364,\n",
              " -41.79993932197167,\n",
              " 81.78598619084137,\n",
              " -40.96987771891135,\n",
              " -50.2608878832757,\n",
              " -43.47591930909645,\n",
              " 88.33064174597081,\n",
              " 83.69595651309116,\n",
              " 82.04300563971738,\n",
              " -48.98012211895181,\n",
              " -49.50978961857477,\n",
              " -42.67122943095635,\n",
              " -51.44844039396506,\n",
              " -52.25147374039793,\n",
              " 82.34261466505203,\n",
              " 82.31064970561297,\n",
              " -41.215155286882535,\n",
              " 95.33409618428725,\n",
              " -42.416695294233165,\n",
              " -50.419233538672344,\n",
              " -51.404591571321916,\n",
              " -58.998941488138925,\n",
              " 80.51970492903112,\n",
              " 81.66820823679262,\n",
              " -44.72828839709668,\n",
              " 99.86998361891207,\n",
              " 87.69260545069292,\n",
              " 81.05421724813829,\n",
              " 85.13965551115503,\n",
              " -44.4663338462764,\n",
              " -49.883841511674675,\n",
              " -45.76090366332102,\n",
              " 87.39274187232226,\n",
              " -48.15712107801491,\n",
              " 80.42596937165048,\n",
              " 82.123401289519,\n",
              " -49.05521356595271,\n",
              " -42.26503874339059,\n",
              " 83.36896981890236,\n",
              " 87.58933122083594,\n",
              " -44.796521302645715,\n",
              " -40.421307097779774,\n",
              " 86.10352665198563,\n",
              " -44.43328154253027,\n",
              " 83.45983694526964,\n",
              " -40.602256814723674,\n",
              " -48.9662449246449,\n",
              " 89.9121256729682,\n",
              " -56.336293675664976,\n",
              " 91.17997465438104,\n",
              " 81.22986318072493,\n",
              " -48.89243637744491,\n",
              " -43.5913829897618]"
            ]
          },
          "metadata": {},
          "execution_count": 13
        }
      ]
    },
    {
      "cell_type": "code",
      "metadata": {
        "colab": {
          "base_uri": "https://localhost:8080/",
          "height": 282
        },
        "id": "x2LvwUakFZjY",
        "outputId": "bdd8efc7-1b34-48a5-ca92-bb73e40d2618"
      },
      "source": [
        "sns.boxplot(data=data)"
      ],
      "execution_count": 15,
      "outputs": [
        {
          "output_type": "execute_result",
          "data": {
            "text/plain": [
              "<matplotlib.axes._subplots.AxesSubplot at 0x7f2b9079a210>"
            ]
          },
          "metadata": {},
          "execution_count": 15
        },
        {
          "output_type": "display_data",
          "data": {
            "image/png": "[encoded data removed]",
            "text/plain": [
              "<Figure size 432x288 with 1 Axes>"
            ]
          },
          "metadata": {
            "needs_background": "light"
          }
        }
      ]
    },
    {
      "cell_type": "code",
      "metadata": {
        "id": "OQ1-FEVPFZhB"
      },
      "source": [
        "#outliers using z score\n",
        "z=np.abs(stats.zscore(data))"
      ],
      "execution_count": 16,
      "outputs": []
    },
    {
      "cell_type": "code",
      "metadata": {
        "colab": {
          "base_uri": "https://localhost:8080/"
        },
        "id": "CMGEOBaWFZeJ",
        "outputId": "c852b78c-97cf-478e-8f60-aed7ffb9d329"
      },
      "source": [
        "z"
      ],
      "execution_count": 17,
      "outputs": [
        {
          "output_type": "execute_result",
          "data": {
            "text/plain": [
              "array([0.21441844, 0.35070149, 0.84414586, ..., 0.46339351, 0.05563347,\n",
              "       0.55615463])"
            ]
          },
          "metadata": {},
          "execution_count": 17
        }
      ]
    },
    {
      "cell_type": "code",
      "metadata": {
        "colab": {
          "base_uri": "https://localhost:8080/"
        },
        "id": "ahl-7U9SFZa7",
        "outputId": "c2df65cd-d187-429f-ed86-4c5a13fd1105"
      },
      "source": [
        "threshold=3\n",
        "print(np.where(z>threshold))"
      ],
      "execution_count": 18,
      "outputs": [
        {
          "output_type": "stream",
          "name": "stdout",
          "text": [
            "(array([   24,   337,   517,   616,   664,   667,   677,   689,   806,\n",
            "        1041,  1386,  1550,  1689,  1732,  1807,  1840,  2183,  2295,\n",
            "        3658,  3782,  6176,  6301,  7177,  7203,  7812,  8116,  8563,\n",
            "        8746,  8788,  9160,  9305,  9578,  9725, 10425, 10756, 10781,\n",
            "       11365, 12031, 12507, 12684, 13726, 13888, 13942, 14602, 14668,\n",
            "       14696, 15405, 15691, 16671, 17057, 17125, 17708, 17870, 17881,\n",
            "       18475, 18550, 18716, 19385, 19694, 19954, 20010, 20220, 22182,\n",
            "       22458, 22478, 23554, 23748, 24416, 24760, 25396, 25799, 25877,\n",
            "       26118, 26327, 26349, 26562, 26693, 26700, 26817, 27087, 27170,\n",
            "       27277, 27765, 28153, 28362, 28728, 28830, 28872, 29014, 29292,\n",
            "       30057, 31625, 31785, 31939, 31995, 32579, 32968, 33289, 33737,\n",
            "       33858, 34351, 34385, 34405, 34697, 35170, 36159, 36323, 36450,\n",
            "       36619, 37837, 37874, 37930, 38990, 40834, 40982, 41047, 41049,\n",
            "       41463, 41739, 42213, 42908, 42988, 44318, 44459, 45039, 45225,\n",
            "       45497, 46245, 46761, 46964, 47110, 47639, 47711, 47849, 48008,\n",
            "       48070, 48486, 48554, 48592, 48720, 48793, 49785, 49827]),)\n"
          ]
        }
      ]
    },
    {
      "cell_type": "code",
      "metadata": {
        "id": "NIWM-UkzQfTf"
      },
      "source": [
        "#code for scatter plot \n",
        "from sklearn.datasets import load_boston\n",
        "import pandas as pd"
      ],
      "execution_count": 20,
      "outputs": []
    },
    {
      "cell_type": "code",
      "metadata": {
        "id": "jAu8oXPSQfdN"
      },
      "source": [
        "boston=load_boston()\n",
        "X,y=load_boston(return_X_y=True)"
      ],
      "execution_count": 21,
      "outputs": []
    },
    {
      "cell_type": "code",
      "metadata": {
        "id": "oxzbqagOQfhn"
      },
      "source": [
        "columns=boston.feature_names\n",
        "df= pd.DataFrame(X,columns=columns)"
      ],
      "execution_count": 22,
      "outputs": []
    },
    {
      "cell_type": "code",
      "metadata": {
        "colab": {
          "base_uri": "https://localhost:8080/",
          "height": 204
        },
        "id": "Ckm7jKYfQfly",
        "outputId": "14ba7da8-1804-468e-c6ff-d28f8675ea5a"
      },
      "source": [
        "df.head()"
      ],
      "execution_count": 23,
      "outputs": [
        {
          "output_type": "execute_result",
          "data": {
            "text/html": [
              "<div>\n",
              "<style scoped>\n",
              "    .dataframe tbody tr th:only-of-type {\n",
              "        vertical-align: middle;\n",
              "    }\n",
              "\n",
              "    .dataframe tbody tr th {\n",
              "        vertical-align: top;\n",
              "    }\n",
              "\n",
              "    .dataframe thead th {\n",
              "        text-align: right;\n",
              "    }\n",
              "</style>\n",
              "<table border=\"1\" class=\"dataframe\">\n",
              "  <thead>\n",
              "    <tr style=\"text-align: right;\">\n",
              "      <th></th>\n",
              "      <th>CRIM</th>\n",
              "      <th>ZN</th>\n",
              "      <th>INDUS</th>\n",
              "      <th>CHAS</th>\n",
              "      <th>NOX</th>\n",
              "      <th>RM</th>\n",
              "      <th>AGE</th>\n",
              "      <th>DIS</th>\n",
              "      <th>RAD</th>\n",
              "      <th>TAX</th>\n",
              "      <th>PTRATIO</th>\n",
              "      <th>B</th>\n",
              "      <th>LSTAT</th>\n",
              "    </tr>\n",
              "  </thead>\n",
              "  <tbody>\n",
              "    <tr>\n",
              "      <th>0</th>\n",
              "      <td>0.00632</td>\n",
              "      <td>18.0</td>\n",
              "      <td>2.31</td>\n",
              "      <td>0.0</td>\n",
              "      <td>0.538</td>\n",
              "      <td>6.575</td>\n",
              "      <td>65.2</td>\n",
              "      <td>4.0900</td>\n",
              "      <td>1.0</td>\n",
              "      <td>296.0</td>\n",
              "      <td>15.3</td>\n",
              "      <td>396.90</td>\n",
              "      <td>4.98</td>\n",
              "    </tr>\n",
              "    <tr>\n",
              "      <th>1</th>\n",
              "      <td>0.02731</td>\n",
              "      <td>0.0</td>\n",
              "      <td>7.07</td>\n",
              "      <td>0.0</td>\n",
              "      <td>0.469</td>\n",
              "      <td>6.421</td>\n",
              "      <td>78.9</td>\n",
              "      <td>4.9671</td>\n",
              "      <td>2.0</td>\n",
              "      <td>242.0</td>\n",
              "      <td>17.8</td>\n",
              "      <td>396.90</td>\n",
              "      <td>9.14</td>\n",
              "    </tr>\n",
              "    <tr>\n",
              "      <th>2</th>\n",
              "      <td>0.02729</td>\n",
              "      <td>0.0</td>\n",
              "      <td>7.07</td>\n",
              "      <td>0.0</td>\n",
              "      <td>0.469</td>\n",
              "      <td>7.185</td>\n",
              "      <td>61.1</td>\n",
              "      <td>4.9671</td>\n",
              "      <td>2.0</td>\n",
              "      <td>242.0</td>\n",
              "      <td>17.8</td>\n",
              "      <td>392.83</td>\n",
              "      <td>4.03</td>\n",
              "    </tr>\n",
              "    <tr>\n",
              "      <th>3</th>\n",
              "      <td>0.03237</td>\n",
              "      <td>0.0</td>\n",
              "      <td>2.18</td>\n",
              "      <td>0.0</td>\n",
              "      <td>0.458</td>\n",
              "      <td>6.998</td>\n",
              "      <td>45.8</td>\n",
              "      <td>6.0622</td>\n",
              "      <td>3.0</td>\n",
              "      <td>222.0</td>\n",
              "      <td>18.7</td>\n",
              "      <td>394.63</td>\n",
              "      <td>2.94</td>\n",
              "    </tr>\n",
              "    <tr>\n",
              "      <th>4</th>\n",
              "      <td>0.06905</td>\n",
              "      <td>0.0</td>\n",
              "      <td>2.18</td>\n",
              "      <td>0.0</td>\n",
              "      <td>0.458</td>\n",
              "      <td>7.147</td>\n",
              "      <td>54.2</td>\n",
              "      <td>6.0622</td>\n",
              "      <td>3.0</td>\n",
              "      <td>222.0</td>\n",
              "      <td>18.7</td>\n",
              "      <td>396.90</td>\n",
              "      <td>5.33</td>\n",
              "    </tr>\n",
              "  </tbody>\n",
              "</table>\n",
              "</div>"
            ],
            "text/plain": [
              "      CRIM    ZN  INDUS  CHAS    NOX  ...  RAD    TAX  PTRATIO       B  LSTAT\n",
              "0  0.00632  18.0   2.31   0.0  0.538  ...  1.0  296.0     15.3  396.90   4.98\n",
              "1  0.02731   0.0   7.07   0.0  0.469  ...  2.0  242.0     17.8  396.90   9.14\n",
              "2  0.02729   0.0   7.07   0.0  0.469  ...  2.0  242.0     17.8  392.83   4.03\n",
              "3  0.03237   0.0   2.18   0.0  0.458  ...  3.0  222.0     18.7  394.63   2.94\n",
              "4  0.06905   0.0   2.18   0.0  0.458  ...  3.0  222.0     18.7  396.90   5.33\n",
              "\n",
              "[5 rows x 13 columns]"
            ]
          },
          "metadata": {},
          "execution_count": 23
        }
      ]
    },
    {
      "cell_type": "code",
      "metadata": {
        "colab": {
          "base_uri": "https://localhost:8080/",
          "height": 279
        },
        "id": "EESbEvLvQfpo",
        "outputId": "dc24b5e7-3307-4c1c-dd93-1f85ec07b7a3"
      },
      "source": [
        "#scatter plot \n",
        "ax=sns.scatterplot(x='LSTAT',y='CRIM',data=df)"
      ],
      "execution_count": 24,
      "outputs": [
        {
          "output_type": "display_data",
          "data": {
            "image/png": "[encoded data removed]",
            "text/plain": [
              "<Figure size 432x288 with 1 Axes>"
            ]
          },
          "metadata": {
            "needs_background": "light"
          }
        }
      ]
    },
    {
      "cell_type": "code",
      "metadata": {
        "id": "b8sqFy8DQfuL"
      },
      "source": [
        "import scipy as sp\n",
        "from scipy.stats import chi2\n",
        "from sklearn.covariance import MinCovDet"
      ],
      "execution_count": 25,
      "outputs": []
    },
    {
      "cell_type": "code",
      "metadata": {
        "id": "O5f_cz4tXHPg"
      },
      "source": [
        "def mahalanobis_method(df):\n",
        "  x_minus_mu=df-np.mean(df)\n",
        "  cov=np.cov(df.values.T)\n",
        "  inv_covmat=sp.linalg.inv(cov)\n",
        "  left_term=np.dot(x_minus_mu,inv_covmat)\n",
        "  mahal=np.dot(left_term,x_minus_mu.T)\n",
        "  md=np.sqrt(mahal.diagonal())\n",
        "\n",
        "  outlier=[]\n",
        "  C=np.sqrt(chi2.ppf((1-0.001),df=df.shape[1]))\n",
        "  for index,value in enumerate(md):\n",
        "    if value>C:\n",
        "      outlier.append(index)\n",
        "  return outlier,md"
      ],
      "execution_count": 32,
      "outputs": []
    },
    {
      "cell_type": "code",
      "metadata": {
        "id": "APoY56vnXHVR"
      },
      "source": [
        "outliers_mahal,md=mahalanobis_method(df=df)"
      ],
      "execution_count": 33,
      "outputs": []
    },
    {
      "cell_type": "code",
      "metadata": {
        "colab": {
          "base_uri": "https://localhost:8080/"
        },
        "id": "f4thedqKXHZS",
        "outputId": "651f37c1-3bf8-41e2-cce5-36f3e492e16d"
      },
      "source": [
        "outliers"
      ],
      "execution_count": 34,
      "outputs": [
        {
          "output_type": "execute_result",
          "data": {
            "text/plain": [
              "24.31096079853337"
            ]
          },
          "metadata": {},
          "execution_count": 34
        }
      ]
    },
    {
      "cell_type": "code",
      "metadata": {
        "colab": {
          "base_uri": "https://localhost:8080/"
        },
        "id": "vGG4By53XHdH",
        "outputId": "950e834c-32c5-40ce-901d-b31656368c36"
      },
      "source": [
        "md"
      ],
      "execution_count": 35,
      "outputs": [
        {
          "output_type": "execute_result",
          "data": {
            "text/plain": [
              "array([ 2.7475433 ,  2.1475826 ,  2.22992563,  2.63223623,  2.67156878,\n",
              "        2.5462608 ,  2.46143968,  3.77489539,  5.06973569,  3.69799652,\n",
              "        4.10412371,  3.30637776,  2.80134502,  2.44191765,  2.52209363,\n",
              "        2.46244022,  3.20877319,  2.22434797,  3.30961606,  2.28046321,\n",
              "        2.87040716,  2.38884962,  2.64605694,  2.8755343 ,  2.61194437,\n",
              "        2.66411226,  2.59936324,  2.66876963,  2.75200453,  2.5910753 ,\n",
              "        2.96271267,  2.83708257,  4.06964179,  2.63507398,  3.23413335,\n",
              "        1.99259015,  1.97320639,  2.20668974,  2.60402024,  3.83622642,\n",
              "        3.94378887,  3.54555118,  3.24787949,  3.26969881,  2.12409317,\n",
              "        2.38011777,  2.51857979,  3.17419272,  4.9543289 ,  2.68126979,\n",
              "        2.34115426,  2.58691769,  2.3363676 ,  2.43508216,  4.96471496,\n",
              "        4.13494498,  3.80277052,  4.39757374,  2.85747642,  2.4321185 ,\n",
              "        3.0076083 ,  3.78922642,  3.08253783,  3.06905812,  4.27726848,\n",
              "        3.44834958,  3.69469345,  2.46168453,  2.36895698,  2.20943182,\n",
              "        3.44496494,  2.97374654,  3.35616014,  3.43789641,  3.88233506,\n",
              "        2.48021906,  2.54970805,  2.49415064,  2.49168022,  2.70494674,\n",
              "        1.61571761,  1.99714575,  1.6273051 ,  1.51115614,  1.71372652,\n",
              "        1.72735895,  2.06013858,  2.01892967,  2.68990678,  2.30914679,\n",
              "        2.26791356,  2.36328928,  3.08835312,  3.5920201 ,  3.29120049,\n",
              "        2.46611309,  2.53870121,  3.54264497,  3.53707808,  2.77286008,\n",
              "        2.61826437,  2.64241311,  4.80395966,  2.55079509,  2.73218077,\n",
              "        3.05506983,  3.01524508,  2.79147587,  2.89532634,  2.7161174 ,\n",
              "        2.74646152,  2.21276784,  2.55434289,  2.55114201,  2.36622979,\n",
              "        2.4138892 ,  2.07142197,  2.32233811,  2.34784356,  2.32028714,\n",
              "        5.45901769,  5.41941961,  5.44185958,  5.77225836,  5.45592034,\n",
              "        5.43045766,  5.86092132,  3.16304384,  3.43752772,  3.12603455,\n",
              "        3.49111925,  3.4513369 ,  3.52633178,  3.18057679,  3.37214965,\n",
              "        3.37769304,  3.14547556,  3.44267063,  3.33314544,  3.34180554,\n",
              "        3.86138772,  4.63290446,  5.83096063,  4.78849934,  5.07061353,\n",
              "        5.22270347,  4.92545502,  5.11465776,  4.94710034,  4.5058504 ,\n",
              "        4.53781457,  4.8140689 ,  6.11980113,  4.59282917,  5.47349411,\n",
              "        6.48588387,  5.68125781,  3.88651671,  4.09821095,  4.98916303,\n",
              "        5.02485326,  4.16284936,  5.29136602,  5.60800413,  3.50901887,\n",
              "        3.88107312,  4.37601894,  3.7002661 ,  3.48613488,  3.37329306,\n",
              "        3.47599414,  3.56865774,  3.28608751,  2.61596305,  2.79928913,\n",
              "        2.89513386,  2.4402343 ,  2.45312498,  2.2887321 ,  2.64670009,\n",
              "        3.28705062,  2.86553422,  3.19873207,  3.37918108,  3.41422403,\n",
              "        2.55106804,  3.17828989,  3.42687533,  3.23890075,  3.06778268,\n",
              "        2.86718544,  2.7121668 ,  2.85934006,  2.76008669,  2.56004189,\n",
              "        3.72262225,  3.8322242 ,  3.97545812,  3.92573487,  4.26301507,\n",
              "        4.31128247,  3.93621989,  3.91670985,  4.81619306,  4.87775548,\n",
              "        2.89739938,  1.5815448 ,  2.00190015,  4.13960991,  5.01206982,\n",
              "        4.39594091,  4.91728904,  4.33737097,  2.35548993,  6.00593405,\n",
              "        1.89092259,  4.28856891,  2.52370961,  4.36624416,  4.20754035,\n",
              "        4.22171047,  4.89023436,  4.07034856,  2.12558531,  3.35812834,\n",
              "        4.09456579,  3.21308509,  2.2209557 ,  3.89148255,  3.1327413 ,\n",
              "        1.99057425,  2.33608686,  3.43123198,  3.26706679,  4.00756513,\n",
              "        1.87573525,  4.0613787 ,  2.27327767,  2.05530504,  1.59381097,\n",
              "        2.1338248 ,  2.41816133,  2.24285069,  2.57577143,  3.71644026,\n",
              "        3.49067053,  2.57419228,  3.72802854,  2.53914901,  2.79591358,\n",
              "        2.59148699,  2.77134826,  3.83904935,  5.26374295,  3.67927969,\n",
              "        3.61955148,  3.96820495,  4.71913345,  3.92340769,  4.02334929,\n",
              "        3.65610969,  3.76889262,  4.3769294 ,  3.83092248,  3.76341553,\n",
              "        4.53953546,  3.84577129,  4.0984214 ,  3.36486652,  4.36550333,\n",
              "        2.15006206,  2.8674242 ,  1.87490541,  4.51664713,  4.49970601,\n",
              "        2.37950813,  4.21009866,  4.34931052,  2.55323289,  2.86124242,\n",
              "        3.03094578,  2.51046515,  4.37340139,  5.54483019,  3.68189934,\n",
              "        2.55016077,  3.74408659,  2.4418251 ,  2.57608046,  2.43347367,\n",
              "        4.50534825,  4.50347944,  4.55125367,  3.91765855,  3.51831045,\n",
              "        3.83374039,  3.69698991,  4.01358964,  3.17435023,  3.14427998,\n",
              "        3.30609805,  1.89217127,  2.42504508,  2.38668339,  3.04378522,\n",
              "        3.18664514,  3.46446856,  3.33745866,  2.14604025,  1.57475965,\n",
              "        3.51838376,  2.24709835,  1.82646245,  1.76181266,  1.69620061,\n",
              "        1.70572707,  1.7428815 ,  1.40561335,  1.13440188,  1.28944193,\n",
              "        1.62408965,  1.63829738,  1.76123353,  1.9798705 ,  1.98450025,\n",
              "        3.08414238,  2.44573779,  1.98584211,  4.15509407,  4.30120398,\n",
              "        4.00376641,  2.28423246,  2.16628505,  3.2849477 ,  3.22741186,\n",
              "        3.07772987,  2.67032849,  2.68200633,  2.79795934,  2.59705486,\n",
              "        2.49973604,  2.62133212,  4.91693039,  2.43280452,  2.52844383,\n",
              "        3.74318764,  3.8037194 ,  3.58509623,  3.2372533 ,  3.81804701,\n",
              "        3.73125621,  4.66857707,  4.47245258,  6.09645721,  5.22685825,\n",
              "        5.23620432,  4.53855038,  4.77351323,  4.90954893,  3.31139655,\n",
              "        3.66974799,  2.9924373 ,  4.04431943,  4.66888333,  6.14384816,\n",
              "        6.98226423,  3.60659827,  6.29438011,  5.70079807,  5.02506559,\n",
              "        5.06417454,  3.05857076,  4.75731872,  4.15739085,  4.79995047,\n",
              "        3.36852789,  2.93390868,  3.0037246 ,  3.2952115 ,  2.59800268,\n",
              "       12.38997655,  2.72002947,  2.56552761,  2.70282907,  3.49538286,\n",
              "        3.36598474,  3.65678571,  3.81672129,  3.22691915,  2.56401304,\n",
              "        2.45438602,  2.42667332,  2.84976471,  2.30533381,  2.31556462,\n",
              "        2.36081865,  2.58050409,  2.36810567,  4.93136429,  3.66591458,\n",
              "        3.42807426,  2.45114899,  2.35849005,  3.17590855,  4.96242309,\n",
              "        8.83178306,  4.18801593,  3.00822926,  3.20056377,  3.1430119 ,\n",
              "        7.87267479,  4.18787214,  5.12196134,  3.91250146,  6.02554663,\n",
              "        4.29313227,  4.44364028,  3.34948096,  9.74694635,  4.21586881,\n",
              "        2.14271686,  2.17529214,  2.52632273,  4.45890668,  4.68293297,\n",
              "        3.91077375,  4.40162568,  5.39537305,  3.32435695,  3.65372906,\n",
              "        3.6543909 ,  3.89000808,  3.72379323,  3.33545173,  3.18993964,\n",
              "        3.43049763,  3.86159593,  4.09494163,  4.57428163,  2.66048094,\n",
              "        2.97783839,  2.64624458,  2.68146499,  2.65262318,  2.20233463,\n",
              "        3.89714434,  2.3613114 ,  2.55388662,  2.40966756,  2.19775307,\n",
              "        4.36998145,  2.61359661,  2.51681803,  3.48877609,  4.22015497,\n",
              "        3.88395029,  4.24888872,  4.265514  ,  2.24202582,  2.59608086,\n",
              "        2.59743793,  2.70198259,  2.6671237 ,  2.98677329,  2.585427  ,\n",
              "        3.08728645,  4.22118404,  2.84347561,  2.52346293,  2.8930446 ,\n",
              "        2.78036318,  3.43038764,  2.80517867,  2.90982534,  2.8847122 ,\n",
              "        3.06064581,  2.78611946,  2.68373507,  2.35352271,  2.46291209,\n",
              "        3.16736637,  3.3974769 ,  3.58074864,  3.70972497,  3.34102689,\n",
              "        3.14523502,  2.71068484,  3.02516111,  6.03964622,  6.1020446 ,\n",
              "        6.35971871,  6.13297036,  6.15985346,  2.56263294,  2.99666594,\n",
              "        3.81411181,  2.48461188,  1.82275489,  2.06118595,  2.17094876,\n",
              "        1.82267874,  2.97438179,  2.94895421,  3.46526776,  3.27094062,\n",
              "        3.05919602])"
            ]
          },
          "metadata": {},
          "execution_count": 35
        }
      ]
    },
    {
      "cell_type": "code",
      "metadata": {
        "id": "vn-JLjekXHgx"
      },
      "source": [
        "\n"
      ],
      "execution_count": null,
      "outputs": []
    },
    {
      "cell_type": "code",
      "metadata": {
        "id": "5Br6A0IgXHkr"
      },
      "source": [
        ""
      ],
      "execution_count": null,
      "outputs": []
    },
    {
      "cell_type": "code",
      "metadata": {
        "id": "KwqcNJIjXHnW"
      },
      "source": [
        ""
      ],
      "execution_count": null,
      "outputs": []
    }
  ]
}