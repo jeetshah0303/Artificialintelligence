{
  "nbformat": 4,
  "nbformat_minor": 5,
  "metadata": {
    "kernelspec": {
      "display_name": "Python 3",
      "language": "python",
      "name": "python3"
    },
    "language_info": {
      "codemirror_mode": {
        "name": "ipython",
        "version": 3
      },
      "file_extension": ".py",
      "mimetype": "text/x-python",
      "name": "python",
      "nbconvert_exporter": "python",
      "pygments_lexer": "ipython3",
      "version": "3.8.8"
    },
    "colab": {
      "name": "PAD Lab 9.ipynb",
      "provenance": [],
      "include_colab_link": true
    }
  },
  "cells": [
    {
      "cell_type": "markdown",
      "metadata": {
        "id": "view-in-github",
        "colab_type": "text"
      },
      "source": [
        "<a href=\"https://colab.research.google.com/github/jeetshah0303/Artificialintelligence/blob/main/PADLab9.ipynb\" target=\"_parent\"><img src=\"https://colab.research.google.com/assets/colab-badge.svg\" alt=\"Open In Colab\"/></a>"
      ]
    },
    {
      "cell_type": "code",
      "metadata": {
        "id": "de2b7608"
      },
      "source": [
        "# Exp 9: Anomaly detection using Autoencoder"
      ],
      "id": "de2b7608",
      "execution_count": null,
      "outputs": []
    },
    {
      "cell_type": "code",
      "metadata": {
        "id": "9ea47460"
      },
      "source": [
        "import numpy as np\n",
        "import pandas as pd\n",
        "import matplotlib.pyplot as plt"
      ],
      "id": "9ea47460",
      "execution_count": null,
      "outputs": []
    },
    {
      "cell_type": "code",
      "metadata": {
        "id": "b6564b56"
      },
      "source": [
        "# Download the Dataset\n",
        "PATH_TO_DATA = 'http://storage.googleapis.com/download.tensorflow.org/data/ecg.csv'\n",
        "data = pd.read_csv(PATH_TO_DATA, header=None)"
      ],
      "id": "b6564b56",
      "execution_count": null,
      "outputs": []
    },
    {
      "cell_type": "code",
      "metadata": {
        "id": "3c114381",
        "outputId": "f0a3e67a-24e6-464a-ebb9-017ee807f6a8"
      },
      "source": [
        "print(data.shape)"
      ],
      "id": "3c114381",
      "execution_count": null,
      "outputs": [
        {
          "name": "stdout",
          "output_type": "stream",
          "text": [
            "(4998, 141)\n"
          ]
        }
      ]
    },
    {
      "cell_type": "code",
      "metadata": {
        "id": "6ccae1f4",
        "outputId": "983132bd-3583-4cb6-9d58-e5c7d6a4bbbe"
      },
      "source": [
        "data.head()"
      ],
      "id": "6ccae1f4",
      "execution_count": null,
      "outputs": [
        {
          "data": {
            "text/html": [
              "<div>\n",
              "<style scoped>\n",
              "    .dataframe tbody tr th:only-of-type {\n",
              "        vertical-align: middle;\n",
              "    }\n",
              "\n",
              "    .dataframe tbody tr th {\n",
              "        vertical-align: top;\n",
              "    }\n",
              "\n",
              "    .dataframe thead th {\n",
              "        text-align: right;\n",
              "    }\n",
              "</style>\n",
              "<table border=\"1\" class=\"dataframe\">\n",
              "  <thead>\n",
              "    <tr style=\"text-align: right;\">\n",
              "      <th></th>\n",
              "      <th>0</th>\n",
              "      <th>1</th>\n",
              "      <th>2</th>\n",
              "      <th>3</th>\n",
              "      <th>4</th>\n",
              "      <th>5</th>\n",
              "      <th>6</th>\n",
              "      <th>7</th>\n",
              "      <th>8</th>\n",
              "      <th>9</th>\n",
              "      <th>...</th>\n",
              "      <th>131</th>\n",
              "      <th>132</th>\n",
              "      <th>133</th>\n",
              "      <th>134</th>\n",
              "      <th>135</th>\n",
              "      <th>136</th>\n",
              "      <th>137</th>\n",
              "      <th>138</th>\n",
              "      <th>139</th>\n",
              "      <th>140</th>\n",
              "    </tr>\n",
              "  </thead>\n",
              "  <tbody>\n",
              "    <tr>\n",
              "      <th>0</th>\n",
              "      <td>-0.112522</td>\n",
              "      <td>-2.827204</td>\n",
              "      <td>-3.773897</td>\n",
              "      <td>-4.349751</td>\n",
              "      <td>-4.376041</td>\n",
              "      <td>-3.474986</td>\n",
              "      <td>-2.181408</td>\n",
              "      <td>-1.818286</td>\n",
              "      <td>-1.250522</td>\n",
              "      <td>-0.477492</td>\n",
              "      <td>...</td>\n",
              "      <td>0.792168</td>\n",
              "      <td>0.933541</td>\n",
              "      <td>0.796958</td>\n",
              "      <td>0.578621</td>\n",
              "      <td>0.257740</td>\n",
              "      <td>0.228077</td>\n",
              "      <td>0.123431</td>\n",
              "      <td>0.925286</td>\n",
              "      <td>0.193137</td>\n",
              "      <td>1.0</td>\n",
              "    </tr>\n",
              "    <tr>\n",
              "      <th>1</th>\n",
              "      <td>-1.100878</td>\n",
              "      <td>-3.996840</td>\n",
              "      <td>-4.285843</td>\n",
              "      <td>-4.506579</td>\n",
              "      <td>-4.022377</td>\n",
              "      <td>-3.234368</td>\n",
              "      <td>-1.566126</td>\n",
              "      <td>-0.992258</td>\n",
              "      <td>-0.754680</td>\n",
              "      <td>0.042321</td>\n",
              "      <td>...</td>\n",
              "      <td>0.538356</td>\n",
              "      <td>0.656881</td>\n",
              "      <td>0.787490</td>\n",
              "      <td>0.724046</td>\n",
              "      <td>0.555784</td>\n",
              "      <td>0.476333</td>\n",
              "      <td>0.773820</td>\n",
              "      <td>1.119621</td>\n",
              "      <td>-1.436250</td>\n",
              "      <td>1.0</td>\n",
              "    </tr>\n",
              "    <tr>\n",
              "      <th>2</th>\n",
              "      <td>-0.567088</td>\n",
              "      <td>-2.593450</td>\n",
              "      <td>-3.874230</td>\n",
              "      <td>-4.584095</td>\n",
              "      <td>-4.187449</td>\n",
              "      <td>-3.151462</td>\n",
              "      <td>-1.742940</td>\n",
              "      <td>-1.490659</td>\n",
              "      <td>-1.183580</td>\n",
              "      <td>-0.394229</td>\n",
              "      <td>...</td>\n",
              "      <td>0.886073</td>\n",
              "      <td>0.531452</td>\n",
              "      <td>0.311377</td>\n",
              "      <td>-0.021919</td>\n",
              "      <td>-0.713683</td>\n",
              "      <td>-0.532197</td>\n",
              "      <td>0.321097</td>\n",
              "      <td>0.904227</td>\n",
              "      <td>-0.421797</td>\n",
              "      <td>1.0</td>\n",
              "    </tr>\n",
              "    <tr>\n",
              "      <th>3</th>\n",
              "      <td>0.490473</td>\n",
              "      <td>-1.914407</td>\n",
              "      <td>-3.616364</td>\n",
              "      <td>-4.318823</td>\n",
              "      <td>-4.268016</td>\n",
              "      <td>-3.881110</td>\n",
              "      <td>-2.993280</td>\n",
              "      <td>-1.671131</td>\n",
              "      <td>-1.333884</td>\n",
              "      <td>-0.965629</td>\n",
              "      <td>...</td>\n",
              "      <td>0.350816</td>\n",
              "      <td>0.499111</td>\n",
              "      <td>0.600345</td>\n",
              "      <td>0.842069</td>\n",
              "      <td>0.952074</td>\n",
              "      <td>0.990133</td>\n",
              "      <td>1.086798</td>\n",
              "      <td>1.403011</td>\n",
              "      <td>-0.383564</td>\n",
              "      <td>1.0</td>\n",
              "    </tr>\n",
              "    <tr>\n",
              "      <th>4</th>\n",
              "      <td>0.800232</td>\n",
              "      <td>-0.874252</td>\n",
              "      <td>-2.384761</td>\n",
              "      <td>-3.973292</td>\n",
              "      <td>-4.338224</td>\n",
              "      <td>-3.802422</td>\n",
              "      <td>-2.534510</td>\n",
              "      <td>-1.783423</td>\n",
              "      <td>-1.594450</td>\n",
              "      <td>-0.753199</td>\n",
              "      <td>...</td>\n",
              "      <td>1.148884</td>\n",
              "      <td>0.958434</td>\n",
              "      <td>1.059025</td>\n",
              "      <td>1.371682</td>\n",
              "      <td>1.277392</td>\n",
              "      <td>0.960304</td>\n",
              "      <td>0.971020</td>\n",
              "      <td>1.614392</td>\n",
              "      <td>1.421456</td>\n",
              "      <td>1.0</td>\n",
              "    </tr>\n",
              "  </tbody>\n",
              "</table>\n",
              "<p>5 rows × 141 columns</p>\n",
              "</div>"
            ],
            "text/plain": [
              "        0         1         2         3         4         5         6    \\\n",
              "0 -0.112522 -2.827204 -3.773897 -4.349751 -4.376041 -3.474986 -2.181408   \n",
              "1 -1.100878 -3.996840 -4.285843 -4.506579 -4.022377 -3.234368 -1.566126   \n",
              "2 -0.567088 -2.593450 -3.874230 -4.584095 -4.187449 -3.151462 -1.742940   \n",
              "3  0.490473 -1.914407 -3.616364 -4.318823 -4.268016 -3.881110 -2.993280   \n",
              "4  0.800232 -0.874252 -2.384761 -3.973292 -4.338224 -3.802422 -2.534510   \n",
              "\n",
              "        7         8         9    ...       131       132       133       134  \\\n",
              "0 -1.818286 -1.250522 -0.477492  ...  0.792168  0.933541  0.796958  0.578621   \n",
              "1 -0.992258 -0.754680  0.042321  ...  0.538356  0.656881  0.787490  0.724046   \n",
              "2 -1.490659 -1.183580 -0.394229  ...  0.886073  0.531452  0.311377 -0.021919   \n",
              "3 -1.671131 -1.333884 -0.965629  ...  0.350816  0.499111  0.600345  0.842069   \n",
              "4 -1.783423 -1.594450 -0.753199  ...  1.148884  0.958434  1.059025  1.371682   \n",
              "\n",
              "        135       136       137       138       139  140  \n",
              "0  0.257740  0.228077  0.123431  0.925286  0.193137  1.0  \n",
              "1  0.555784  0.476333  0.773820  1.119621 -1.436250  1.0  \n",
              "2 -0.713683 -0.532197  0.321097  0.904227 -0.421797  1.0  \n",
              "3  0.952074  0.990133  1.086798  1.403011 -0.383564  1.0  \n",
              "4  1.277392  0.960304  0.971020  1.614392  1.421456  1.0  \n",
              "\n",
              "[5 rows x 141 columns]"
            ]
          },
          "execution_count": 5,
          "metadata": {},
          "output_type": "execute_result"
        }
      ]
    },
    {
      "cell_type": "code",
      "metadata": {
        "id": "3d869a77"
      },
      "source": [
        "Target = 140"
      ],
      "id": "3d869a77",
      "execution_count": null,
      "outputs": []
    },
    {
      "cell_type": "code",
      "metadata": {
        "id": "189a6f87"
      },
      "source": [
        "features = data.drop(Target, axis=1)\n",
        "target = data[Target]"
      ],
      "id": "189a6f87",
      "execution_count": null,
      "outputs": []
    },
    {
      "cell_type": "code",
      "metadata": {
        "id": "7aad983d"
      },
      "source": [
        "from sklearn.model_selection import train_test_split\n",
        "\n",
        "xTrain, xTest, yTrain, yTest = train_test_split(features, target, test_size=0.2, stratify=target, random_state=1)"
      ],
      "id": "7aad983d",
      "execution_count": null,
      "outputs": []
    },
    {
      "cell_type": "code",
      "metadata": {
        "id": "b528b8ce",
        "outputId": "cc0e0e4c-f02c-4830-c12b-1b31ccf0cabf"
      },
      "source": [
        "xTrain.shape"
      ],
      "id": "b528b8ce",
      "execution_count": null,
      "outputs": [
        {
          "data": {
            "text/plain": [
              "(3998, 140)"
            ]
          },
          "execution_count": 9,
          "metadata": {},
          "output_type": "execute_result"
        }
      ]
    },
    {
      "cell_type": "code",
      "metadata": {
        "id": "d2ebff26"
      },
      "source": [
        ""
      ],
      "id": "d2ebff26",
      "execution_count": null,
      "outputs": []
    },
    {
      "cell_type": "code",
      "metadata": {
        "id": "0f37fb19",
        "outputId": "a3913cfa-fa30-45e7-fc22-28b7b13b6587"
      },
      "source": [
        "yTrain.shape"
      ],
      "id": "0f37fb19",
      "execution_count": null,
      "outputs": [
        {
          "data": {
            "text/plain": [
              "(3998,)"
            ]
          },
          "execution_count": 10,
          "metadata": {},
          "output_type": "execute_result"
        }
      ]
    },
    {
      "cell_type": "code",
      "metadata": {
        "id": "89de12dc"
      },
      "source": [
        ""
      ],
      "id": "89de12dc",
      "execution_count": null,
      "outputs": []
    },
    {
      "cell_type": "code",
      "metadata": {
        "id": "f75e3d6d",
        "outputId": "8fef2113-259e-4d6c-bdfe-dd6821cea30e"
      },
      "source": [
        "# Consider only those samples where the index is 1, i.e. normal samples\n",
        "train_index = yTrain[yTrain == 1].index\n",
        "trainData = xTrain.loc[train_index]\n",
        "trainData.shape"
      ],
      "id": "f75e3d6d",
      "execution_count": null,
      "outputs": [
        {
          "data": {
            "text/plain": [
              "(2335, 140)"
            ]
          },
          "execution_count": 11,
          "metadata": {},
          "output_type": "execute_result"
        }
      ]
    },
    {
      "cell_type": "code",
      "metadata": {
        "id": "f10cf589"
      },
      "source": [
        "# Preprocess the Data\n",
        "from sklearn.preprocessing import MinMaxScaler\n",
        "min_MaxScaler = MinMaxScaler(feature_range=(0, 1))\n",
        "xTrainScaled = min_MaxScaler.fit_transform(trainData)\n",
        "xTestScaled = min_MaxScaler.fit_transform(xTest)"
      ],
      "id": "f10cf589",
      "execution_count": null,
      "outputs": []
    },
    {
      "cell_type": "code",
      "metadata": {
        "id": "6aa0716d",
        "outputId": "0e1500bc-ea30-4e04-a75e-2ea845f7dcbf"
      },
      "source": [
        "xTrainScaled.shape"
      ],
      "id": "6aa0716d",
      "execution_count": null,
      "outputs": [
        {
          "data": {
            "text/plain": [
              "(2335, 140)"
            ]
          },
          "execution_count": 13,
          "metadata": {},
          "output_type": "execute_result"
        }
      ]
    },
    {
      "cell_type": "code",
      "metadata": {
        "id": "43893a7d"
      },
      "source": [
        "from keras.models import Sequential\n",
        "from keras.layers import Dense, Dropout\n",
        "import keras"
      ],
      "id": "43893a7d",
      "execution_count": null,
      "outputs": []
    },
    {
      "cell_type": "code",
      "metadata": {
        "id": "9887e756"
      },
      "source": [
        "# Input shape, Required for first layer of deep neural network\n",
        "inputShape = keras.Input(shape=(xTrainScaled.shape[1],)) # Shape of 140, Input neuron"
      ],
      "id": "9887e756",
      "execution_count": null,
      "outputs": []
    },
    {
      "cell_type": "code",
      "metadata": {
        "id": "305ffdd9"
      },
      "source": [
        "# Building the Encoder\n",
        "x = Dense(64, activation='relu')(inputShape)\n",
        "x = Dropout(0.1)(x)\n",
        "x = Dense(32, activation='relu')(x)\n",
        "x = Dropout(0.1)(x)\n",
        "x = Dense(16, activation='relu')(x)\n",
        "x = Dropout(0.1)(x)\n",
        "encoderLayer = Dense(xTrainScaled.shape[1], activation='sigmoid')(x)"
      ],
      "id": "305ffdd9",
      "execution_count": null,
      "outputs": []
    },
    {
      "cell_type": "code",
      "metadata": {
        "id": "48fac5d0"
      },
      "source": [
        "# Building the Decoder\n",
        "x = Dense(16, activation='relu')(encoderLayer)\n",
        "x = Dropout(0.1)(x)\n",
        "x = Dense(32, activation='relu')(x)\n",
        "x = Dropout(0.1)(x)\n",
        "x = Dense(64, activation='relu')(x)\n",
        "x = Dropout(0.1)(x)\n",
        "decoderLayer = Dense(xTrainScaled.shape[1], activation='sigmoid')(x)"
      ],
      "id": "48fac5d0",
      "execution_count": null,
      "outputs": []
    },
    {
      "cell_type": "code",
      "metadata": {
        "id": "3353e682"
      },
      "source": [
        "# Defining the Autoencoder\n",
        "autoencoder = keras.Model(inputShape, decoderLayer)"
      ],
      "id": "3353e682",
      "execution_count": null,
      "outputs": []
    },
    {
      "cell_type": "code",
      "metadata": {
        "id": "8de50293"
      },
      "source": [
        "# Compiling the Model\n",
        "autoencoder.compile(loss='msle', metrics=['mse'], optimizer='adam')"
      ],
      "id": "8de50293",
      "execution_count": null,
      "outputs": []
    },
    {
      "cell_type": "code",
      "metadata": {
        "id": "d2555782",
        "outputId": "f5ea84d4-9843-476a-a1ff-1e583de16674"
      },
      "source": [
        "# Fit the Model\n",
        "history = autoencoder.fit(xTrainScaled, xTrainScaled, epochs=20, \n",
        "                          batch_size=512, \n",
        "                          validation_data=(xTestScaled, xTestScaled))"
      ],
      "id": "d2555782",
      "execution_count": null,
      "outputs": [
        {
          "name": "stdout",
          "output_type": "stream",
          "text": [
            "Epoch 1/20\n",
            "5/5 [==============================] - 1s 50ms/step - loss: 0.0106 - mse: 0.0239 - val_loss: 0.0132 - val_mse: 0.0306\n",
            "Epoch 2/20\n",
            "5/5 [==============================] - 0s 14ms/step - loss: 0.0100 - mse: 0.0225 - val_loss: 0.0130 - val_mse: 0.0301\n",
            "Epoch 3/20\n",
            "5/5 [==============================] - 0s 12ms/step - loss: 0.0093 - mse: 0.0208 - val_loss: 0.0130 - val_mse: 0.0300\n",
            "Epoch 4/20\n",
            "5/5 [==============================] - 0s 15ms/step - loss: 0.0083 - mse: 0.0185 - val_loss: 0.0135 - val_mse: 0.0308\n",
            "Epoch 5/20\n",
            "5/5 [==============================] - 0s 18ms/step - loss: 0.0073 - mse: 0.0163 - val_loss: 0.0141 - val_mse: 0.0321\n",
            "Epoch 6/20\n",
            "5/5 [==============================] - 0s 18ms/step - loss: 0.0066 - mse: 0.0147 - val_loss: 0.0142 - val_mse: 0.0321\n",
            "Epoch 7/20\n",
            "5/5 [==============================] - 0s 14ms/step - loss: 0.0060 - mse: 0.0134 - val_loss: 0.0139 - val_mse: 0.0315\n",
            "Epoch 8/20\n",
            "5/5 [==============================] - 0s 13ms/step - loss: 0.0057 - mse: 0.0127 - val_loss: 0.0140 - val_mse: 0.0317\n",
            "Epoch 9/20\n",
            "5/5 [==============================] - 0s 13ms/step - loss: 0.0056 - mse: 0.0124 - val_loss: 0.0140 - val_mse: 0.0317\n",
            "Epoch 10/20\n",
            "5/5 [==============================] - 0s 16ms/step - loss: 0.0054 - mse: 0.0120 - val_loss: 0.0137 - val_mse: 0.0312\n",
            "Epoch 11/20\n",
            "5/5 [==============================] - 0s 15ms/step - loss: 0.0053 - mse: 0.0117 - val_loss: 0.0136 - val_mse: 0.0308\n",
            "Epoch 12/20\n",
            "5/5 [==============================] - 0s 17ms/step - loss: 0.0051 - mse: 0.0114 - val_loss: 0.0133 - val_mse: 0.0302\n",
            "Epoch 13/20\n",
            "5/5 [==============================] - 0s 16ms/step - loss: 0.0050 - mse: 0.0111 - val_loss: 0.0128 - val_mse: 0.0291\n",
            "Epoch 14/20\n",
            "5/5 [==============================] - 0s 15ms/step - loss: 0.0048 - mse: 0.0108 - val_loss: 0.0123 - val_mse: 0.0281\n",
            "Epoch 15/20\n",
            "5/5 [==============================] - 0s 15ms/step - loss: 0.0047 - mse: 0.0106 - val_loss: 0.0119 - val_mse: 0.0272\n",
            "Epoch 16/20\n",
            "5/5 [==============================] - 0s 16ms/step - loss: 0.0047 - mse: 0.0105 - val_loss: 0.0117 - val_mse: 0.0268\n",
            "Epoch 17/20\n",
            "5/5 [==============================] - 0s 17ms/step - loss: 0.0046 - mse: 0.0103 - val_loss: 0.0116 - val_mse: 0.0264\n",
            "Epoch 18/20\n",
            "5/5 [==============================] - 0s 19ms/step - loss: 0.0046 - mse: 0.0103 - val_loss: 0.0114 - val_mse: 0.0260\n",
            "Epoch 19/20\n",
            "5/5 [==============================] - 0s 18ms/step - loss: 0.0045 - mse: 0.0102 - val_loss: 0.0114 - val_mse: 0.0260\n",
            "Epoch 20/20\n",
            "5/5 [==============================] - 0s 16ms/step - loss: 0.0045 - mse: 0.0101 - val_loss: 0.0113 - val_mse: 0.0259\n"
          ]
        }
      ]
    },
    {
      "cell_type": "code",
      "metadata": {
        "id": "3199a3b1",
        "outputId": "d702eedf-d09e-45b1-8785-159d2f296808"
      },
      "source": [
        "plt.plot(history.history['loss'])\n",
        "plt.plot(history.history['val_loss'])\n",
        "plt.xlabel('Epochs')\n",
        "plt.ylabel('MSLE Loss')\n",
        "plt.legend(['loss', 'val_loss'])"
      ],
      "id": "3199a3b1",
      "execution_count": null,
      "outputs": [
        {
          "data": {
            "text/plain": [
              "<matplotlib.legend.Legend at 0x2ceec367d60>"
            ]
          },
          "execution_count": 21,
          "metadata": {},
          "output_type": "execute_result"
        },
        {
          "data": {
            "image/png": "[encoded data removed]",
            "text/plain": [
              "<Figure size 432x288 with 1 Axes>"
            ]
          },
          "metadata": {
            "needs_background": "light"
          },
          "output_type": "display_data"
        }
      ]
    },
    {
      "cell_type": "code",
      "metadata": {
        "id": "3e8f9bb5"
      },
      "source": [
        "def findThreshold(model, xTrainScaled):\n",
        "    reconstructions = model.predict(xTrainScaled)\n",
        "    reconstructionErrors = keras.losses.msle(reconstructions, xTrainScaled)\n",
        "    \n",
        "    threshold = np.mean(reconstructionErrors.numpy()) + np.std(reconstructionErrors.numpy())\n",
        "    return threshold"
      ],
      "id": "3e8f9bb5",
      "execution_count": null,
      "outputs": []
    },
    {
      "cell_type": "code",
      "metadata": {
        "id": "f0ccd0e0"
      },
      "source": [
        "def getPredictions(model, xTestScaled, threshold):\n",
        "    predictions = model.predict(xTestScaled)\n",
        "    errors = keras.losses.msle(predictions, xTestScaled)\n",
        "    \n",
        "    anomalyMask = pd.Series(errors) > threshold\n",
        "    \n",
        "    preds = anomalyMask.map(lambda x: 0.0 if x == True else 1.0)\n",
        "    return preds"
      ],
      "id": "f0ccd0e0",
      "execution_count": null,
      "outputs": []
    },
    {
      "cell_type": "code",
      "metadata": {
        "id": "60163f17",
        "outputId": "22e9a8b4-7a70-4829-f9ce-da9fd7f5c8dc"
      },
      "source": [
        "threshold = findThreshold(autoencoder, xTrainScaled)\n",
        "print(threshold)"
      ],
      "id": "60163f17",
      "execution_count": null,
      "outputs": [
        {
          "name": "stdout",
          "output_type": "stream",
          "text": [
            "0.009861804304962064\n"
          ]
        }
      ]
    },
    {
      "cell_type": "code",
      "metadata": {
        "id": "cac1482e",
        "outputId": "4ff61fc1-79b5-4b28-e5c0-079838577ba2"
      },
      "source": [
        "pfrom sklearn.metrics import accuracy_score\n",
        "preds = getPredictions(autoencoder, xTestScaled, threshold)\n",
        "accuracy_score(preds, yTest)"
      ],
      "id": "cac1482e",
      "execution_count": null,
      "outputs": [
        {
          "data": {
            "text/plain": [
              "0.855"
            ]
          },
          "execution_count": 27,
          "metadata": {},
          "output_type": "execute_result"
        }
      ]
    }
  ]
}