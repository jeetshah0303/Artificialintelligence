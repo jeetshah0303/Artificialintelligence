{
  "nbformat": 4,
  "nbformat_minor": 0,
  "metadata": {
    "colab": {
      "name": "PADLab8.ipynb",
      "provenance": [],
      "mount_file_id": "1LdF0d23IhlR7dUQE411lQ6yoiy5uGqBF",
      "authorship_tag": "ABX9TyP1e9cVRSuDFwu34p5GRgzw",
      "include_colab_link": true
    },
    "kernelspec": {
      "name": "python3",
      "display_name": "Python 3"
    },
    "language_info": {
      "name": "python"
    }
  },
  "cells": [
    {
      "cell_type": "markdown",
      "metadata": {
        "id": "view-in-github",
        "colab_type": "text"
      },
      "source": [
        "<a href=\"https://colab.research.google.com/github/jeetshah0303/Artificialintelligence/blob/main/PADLab8.ipynb\" target=\"_parent\"><img src=\"https://colab.research.google.com/assets/colab-badge.svg\" alt=\"Open In Colab\"/></a>"
      ]
    },
    {
      "cell_type": "code",
      "metadata": {
        "id": "4MR760Eb4n6x"
      },
      "source": [
        "#outlier detection using isolation forest"
      ],
      "execution_count": 1,
      "outputs": []
    },
    {
      "cell_type": "code",
      "metadata": {
        "id": "2oauUtBA4wqs"
      },
      "source": [
        "#part a : implementing isolation forest on a randomly generated dataset \n"
      ],
      "execution_count": 2,
      "outputs": []
    },
    {
      "cell_type": "code",
      "metadata": {
        "id": "NyXhkzJx4wyD"
      },
      "source": [
        "import numpy as np \n",
        "import pandas as pd \n",
        "import matplotlib.pyplot as plt\n"
      ],
      "execution_count": 3,
      "outputs": []
    },
    {
      "cell_type": "code",
      "metadata": {
        "colab": {
          "base_uri": "https://localhost:8080/"
        },
        "id": "JeKiAfV24w2h",
        "outputId": "f11ee465-71ca-4093-eeb9-7041164ca6db"
      },
      "source": [
        "#generating the dataset \n",
        "X=0.3*np.random.randn(100,2)\n",
        "X.shape"
      ],
      "execution_count": 4,
      "outputs": [
        {
          "output_type": "execute_result",
          "data": {
            "text/plain": [
              "(100, 2)"
            ]
          },
          "metadata": {},
          "execution_count": 4
        }
      ]
    },
    {
      "cell_type": "code",
      "metadata": {
        "id": "rzIk4XTs4w6Y"
      },
      "source": [
        "X_train_normal=np.r_[X+2,X-2]#Concanted the first axis ie row \n"
      ],
      "execution_count": 5,
      "outputs": []
    },
    {
      "cell_type": "code",
      "metadata": {
        "colab": {
          "base_uri": "https://localhost:8080/"
        },
        "id": "tPMaI6Zu4w9-",
        "outputId": "12f36381-b84d-45f4-fc15-cfb31d2baddb"
      },
      "source": [
        "print(X.shape,X_train_normal.shape)"
      ],
      "execution_count": 6,
      "outputs": [
        {
          "output_type": "stream",
          "name": "stdout",
          "text": [
            "(100, 2) (200, 2)\n"
          ]
        }
      ]
    },
    {
      "cell_type": "code",
      "metadata": {
        "id": "uqw5Tny94xBI"
      },
      "source": [
        "#generate a dataset for testing\n",
        "X=0.3*np.random.randn(50,2)\n",
        "X_test_normal=np.r_[X+2,X-2]"
      ],
      "execution_count": 7,
      "outputs": []
    },
    {
      "cell_type": "code",
      "metadata": {
        "colab": {
          "base_uri": "https://localhost:8080/"
        },
        "id": "nZokHHKH4xEn",
        "outputId": "a77e2ddd-df9b-4d2f-aaec-1c8ef3426732"
      },
      "source": [
        "print(X.shape,X_test_normal.shape)\n",
        "\n"
      ],
      "execution_count": 8,
      "outputs": [
        {
          "output_type": "stream",
          "name": "stdout",
          "text": [
            "(50, 2) (100, 2)\n"
          ]
        }
      ]
    },
    {
      "cell_type": "code",
      "metadata": {
        "id": "vEuOCOi34xID"
      },
      "source": [
        "#generate outliers for training \n",
        "X_train_outliers=np.random.uniform(low=-4,high=4,size=(20,2))\n"
      ],
      "execution_count": 9,
      "outputs": []
    },
    {
      "cell_type": "code",
      "metadata": {
        "colab": {
          "base_uri": "https://localhost:8080/"
        },
        "id": "qvri44A04xLB",
        "outputId": "542ac71d-7c8b-4343-e606-20c719d425bf"
      },
      "source": [
        "X_train_outliers.shape"
      ],
      "execution_count": 10,
      "outputs": [
        {
          "output_type": "execute_result",
          "data": {
            "text/plain": [
              "(20, 2)"
            ]
          },
          "metadata": {},
          "execution_count": 10
        }
      ]
    },
    {
      "cell_type": "code",
      "metadata": {
        "id": "T8y0ObCe4xOc"
      },
      "source": [
        "#generate outlier for testing \n",
        "X_test_outliers=np.random.uniform(low=-4,high=4,size=(10,2))"
      ],
      "execution_count": 11,
      "outputs": []
    },
    {
      "cell_type": "code",
      "metadata": {
        "colab": {
          "base_uri": "https://localhost:8080/"
        },
        "id": "bNUDZ_4R4xRx",
        "outputId": "e220defe-9bbb-4216-f77c-dc1d4685c485"
      },
      "source": [
        "X_test_outliers.shape"
      ],
      "execution_count": 12,
      "outputs": [
        {
          "output_type": "execute_result",
          "data": {
            "text/plain": [
              "(10, 2)"
            ]
          },
          "metadata": {},
          "execution_count": 12
        }
      ]
    },
    {
      "cell_type": "code",
      "metadata": {
        "colab": {
          "base_uri": "https://localhost:8080/",
          "height": 351
        },
        "id": "oeeA7wmD4xU6",
        "outputId": "6d16ac86-fd2a-4858-a5b8-ed29a7adc7f9"
      },
      "source": [
        "#visualising the data \n",
        "plt.figure(figsize=(5,5))\n",
        "plt.scatter(X_train_normal[:,0],X_train_normal[:,1],label=\"X Train normal\")\n",
        "plt.scatter(X_train_outliers[:,0],X_train_outliers[:,1],label=\"X Train outliers\")\n",
        "plt.scatter(X_test_normal[:,0],X_test_normal[:,1],label=\"X test normal\")\n",
        "plt.scatter(X_test_outliers[:,0],X_test_outliers[:,1],label=\"X test outliers\")\n",
        "plt.xlabel('Feature 1')\n",
        "plt.ylabel('Feature 2')\n",
        "plt.legend()"
      ],
      "execution_count": 13,
      "outputs": [
        {
          "output_type": "execute_result",
          "data": {
            "text/plain": [
              "<matplotlib.legend.Legend at 0x7f8fde0b3ad0>"
            ]
          },
          "metadata": {},
          "execution_count": 13
        },
        {
          "output_type": "display_data",
          "data": {
            "image/png": "[encoded data removed]",
            "text/plain": [
              "<Figure size 360x360 with 1 Axes>"
            ]
          },
          "metadata": {
            "needs_background": "light"
          }
        }
      ]
    },
    {
      "cell_type": "code",
      "metadata": {
        "id": "4fKj2fil4xY5"
      },
      "source": [
        "\n",
        "X_train=np.append(X_train_normal,X_train_outliers,axis=0)\n",
        "\n",
        "X_test=np.append(X_test_normal,X_test_outliers,axis=0)"
      ],
      "execution_count": 14,
      "outputs": []
    },
    {
      "cell_type": "code",
      "metadata": {
        "id": "GUnsGPyC867G"
      },
      "source": [
        "#training with isolation forest \n",
        "from sklearn.ensemble import IsolationForest\n",
        "model=IsolationForest(random_state=1,contamination =0.1)\n"
      ],
      "execution_count": 15,
      "outputs": []
    },
    {
      "cell_type": "code",
      "metadata": {
        "colab": {
          "base_uri": "https://localhost:8080/"
        },
        "id": "F52gkpf787AV",
        "outputId": "370084be-a50b-49b0-eb07-99977d989793"
      },
      "source": [
        "model.fit(X_train)"
      ],
      "execution_count": 16,
      "outputs": [
        {
          "output_type": "execute_result",
          "data": {
            "text/plain": [
              "IsolationForest(behaviour='deprecated', bootstrap=False, contamination=0.1,\n",
              "                max_features=1.0, max_samples='auto', n_estimators=100,\n",
              "                n_jobs=None, random_state=1, verbose=0, warm_start=False)"
            ]
          },
          "metadata": {},
          "execution_count": 16
        }
      ]
    },
    {
      "cell_type": "code",
      "metadata": {
        "id": "NnoUWsPK87Ey"
      },
      "source": [
        "#prediction \n",
        "#since the model is unsupervised well test on train as well as test data\n",
        "pred_train=model.predict(X_train)\n",
        "pred_test=model.predict(X_test)"
      ],
      "execution_count": 17,
      "outputs": []
    },
    {
      "cell_type": "code",
      "metadata": {
        "colab": {
          "base_uri": "https://localhost:8080/",
          "height": 351
        },
        "id": "2q2z8QF687I8",
        "outputId": "d79cfcd0-371d-4fbe-c540-7f8c753634ec"
      },
      "source": [
        "#visualise the predictions \n",
        "plt.figure(figsize=(5,5))\n",
        "plt.scatter(X_train[:,0],X_train[:,1],c=pred_train)\n",
        "plt.xlabel('feature 1')\n",
        "plt.ylabel('feature 2')"
      ],
      "execution_count": 18,
      "outputs": [
        {
          "output_type": "execute_result",
          "data": {
            "text/plain": [
              "Text(0, 0.5, 'feature 2')"
            ]
          },
          "metadata": {},
          "execution_count": 18
        },
        {
          "output_type": "display_data",
          "data": {
            "image/png": "[encoded data removed]",
            "text/plain": [
              "<Figure size 360x360 with 1 Axes>"
            ]
          },
          "metadata": {
            "needs_background": "light"
          }
        }
      ]
    },
    {
      "cell_type": "code",
      "metadata": {
        "colab": {
          "base_uri": "https://localhost:8080/",
          "height": 351
        },
        "id": "L4WuBnBL87NY",
        "outputId": "0c3e9b00-08a4-4921-fa1f-db0c916bda15"
      },
      "source": [
        "#visualise the predictions \n",
        "plt.figure(figsize=(5,5))\n",
        "plt.scatter(X_test[:,0],X_test[:,1],c=pred_test)\n",
        "plt.xlabel('feature 1')\n",
        "plt.ylabel('feature 2')"
      ],
      "execution_count": 19,
      "outputs": [
        {
          "output_type": "execute_result",
          "data": {
            "text/plain": [
              "Text(0, 0.5, 'feature 2')"
            ]
          },
          "metadata": {},
          "execution_count": 19
        },
        {
          "output_type": "display_data",
          "data": {
            "image/png": "[encoded data removed]",
            "text/plain": [
              "<Figure size 360x360 with 1 Axes>"
            ]
          },
          "metadata": {
            "needs_background": "light"
          }
        }
      ]
    },
    {
      "cell_type": "code",
      "metadata": {
        "id": "yx511RAg87SE"
      },
      "source": [
        "#Part B : Isolation forest on the creditcard dataset "
      ],
      "execution_count": 20,
      "outputs": []
    },
    {
      "cell_type": "code",
      "metadata": {
        "id": "SjtZzjnwB1U7"
      },
      "source": [
        "#df=pd.read_csv('/drive/MyDrive/Colab Notebooks/creditcard.csv')\n",
        "df=pd.read_csv('creditcard.csv')"
      ],
      "execution_count": 21,
      "outputs": []
    },
    {
      "cell_type": "code",
      "metadata": {
        "colab": {
          "base_uri": "https://localhost:8080/"
        },
        "id": "p586Lc1TB1Y_",
        "outputId": "6185c7f0-0d7e-47a4-af59-63425545149f"
      },
      "source": [
        "df.shape"
      ],
      "execution_count": 22,
      "outputs": [
        {
          "output_type": "execute_result",
          "data": {
            "text/plain": [
              "(5974, 31)"
            ]
          },
          "metadata": {},
          "execution_count": 22
        }
      ]
    },
    {
      "cell_type": "code",
      "metadata": {
        "id": "NZ0BsfKwB1dC"
      },
      "source": [
        "normal=df[df['Class']==0]\n",
        "fraud=df[df['Class']==1]"
      ],
      "execution_count": 23,
      "outputs": []
    },
    {
      "cell_type": "code",
      "metadata": {
        "colab": {
          "base_uri": "https://localhost:8080/"
        },
        "id": "l290xsRCB1gU",
        "outputId": "b2c178c9-22f8-445d-92b7-988dd8e74302"
      },
      "source": [
        "print(normal.shape,fraud.shape)"
      ],
      "execution_count": 24,
      "outputs": [
        {
          "output_type": "stream",
          "name": "stdout",
          "text": [
            "(5970, 31) (3, 31)\n"
          ]
        }
      ]
    },
    {
      "cell_type": "code",
      "metadata": {
        "id": "FZNdfdnxB1kI"
      },
      "source": [
        "data=df.sample(frac=0.2,random_state=1)"
      ],
      "execution_count": 25,
      "outputs": []
    },
    {
      "cell_type": "code",
      "metadata": {
        "colab": {
          "base_uri": "https://localhost:8080/"
        },
        "id": "3MxL6Ue2B1ny",
        "outputId": "165b692f-1991-4333-c9d7-bba8773ebdc2"
      },
      "source": [
        "data.shape"
      ],
      "execution_count": 26,
      "outputs": [
        {
          "output_type": "execute_result",
          "data": {
            "text/plain": [
              "(1195, 31)"
            ]
          },
          "metadata": {},
          "execution_count": 26
        }
      ]
    },
    {
      "cell_type": "code",
      "metadata": {
        "id": "YSp2aaB0B1q_"
      },
      "source": [
        "normal_frac=data[data['Class']==0]\n",
        "fraud_frac=data[data['Class']==1]"
      ],
      "execution_count": 27,
      "outputs": []
    },
    {
      "cell_type": "code",
      "metadata": {
        "colab": {
          "base_uri": "https://localhost:8080/"
        },
        "id": "sExW-DKpB1uT",
        "outputId": "e80651a8-951c-484b-8368-4700b27822c6"
      },
      "source": [
        "normal_frac.shape"
      ],
      "execution_count": 28,
      "outputs": [
        {
          "output_type": "execute_result",
          "data": {
            "text/plain": [
              "(1193, 31)"
            ]
          },
          "metadata": {},
          "execution_count": 28
        }
      ]
    },
    {
      "cell_type": "code",
      "metadata": {
        "colab": {
          "base_uri": "https://localhost:8080/"
        },
        "id": "-82veD91D0uk",
        "outputId": "b159243b-4134-4923-abf4-7cf3bd8a2383"
      },
      "source": [
        "fraud_frac.shape"
      ],
      "execution_count": 29,
      "outputs": [
        {
          "output_type": "execute_result",
          "data": {
            "text/plain": [
              "(2, 31)"
            ]
          },
          "metadata": {},
          "execution_count": 29
        }
      ]
    },
    {
      "cell_type": "code",
      "metadata": {
        "id": "wDCCSuvcD0y4"
      },
      "source": [
        "anomaly_fraction=len(fraud_frac)/float(len(data)) #going to be used for contamination "
      ],
      "execution_count": 30,
      "outputs": []
    },
    {
      "cell_type": "code",
      "metadata": {
        "id": "49zuTCLPD03M"
      },
      "source": [
        "#train the model\n",
        "model=IsolationForest(n_estimators=100,contamination=anomaly_fraction,random_state=1)\n"
      ],
      "execution_count": 31,
      "outputs": []
    },
    {
      "cell_type": "code",
      "metadata": {
        "colab": {
          "base_uri": "https://localhost:8080/"
        },
        "id": "vgKLE7iID08u",
        "outputId": "03aa043a-05fe-40fd-9e60-0740117c6da7"
      },
      "source": [
        "model.fit(data[['Class']])"
      ],
      "execution_count": 32,
      "outputs": [
        {
          "output_type": "execute_result",
          "data": {
            "text/plain": [
              "IsolationForest(behaviour='deprecated', bootstrap=False,\n",
              "                contamination=0.0016736401673640166, max_features=1.0,\n",
              "                max_samples='auto', n_estimators=100, n_jobs=None,\n",
              "                random_state=1, verbose=0, warm_start=False)"
            ]
          },
          "metadata": {},
          "execution_count": 32
        }
      ]
    },
    {
      "cell_type": "code",
      "metadata": {
        "id": "O3vf-W0VD0_D"
      },
      "source": [
        "#decision boundary for class 0 or 1\n",
        "data['scores']=model.decision_function(data[['Class']])"
      ],
      "execution_count": 33,
      "outputs": []
    },
    {
      "cell_type": "code",
      "metadata": {
        "id": "mkvCnlkKD1Bw"
      },
      "source": [
        "data['anomaly_score']=model.predict(data[['Class']])"
      ],
      "execution_count": 34,
      "outputs": []
    },
    {
      "cell_type": "code",
      "metadata": {
        "colab": {
          "base_uri": "https://localhost:8080/"
        },
        "id": "k46CTAX5D1Er",
        "outputId": "75b3fb4e-83c4-4208-c357-5f42e2e00422"
      },
      "source": [
        "data.shape"
      ],
      "execution_count": 35,
      "outputs": [
        {
          "output_type": "execute_result",
          "data": {
            "text/plain": [
              "(1195, 33)"
            ]
          },
          "metadata": {},
          "execution_count": 35
        }
      ]
    },
    {
      "cell_type": "code",
      "metadata": {
        "colab": {
          "base_uri": "https://localhost:8080/",
          "height": 132
        },
        "id": "dN2eNbqDGYJe",
        "outputId": "0ba612a3-bd03-40fe-89c2-93369a5e90f3"
      },
      "source": [
        "data[data['anomaly_score']==-1].head() #is in fradulent class"
      ],
      "execution_count": 36,
      "outputs": [
        {
          "output_type": "execute_result",
          "data": {
            "text/html": [
              "<div>\n",
              "<style scoped>\n",
              "    .dataframe tbody tr th:only-of-type {\n",
              "        vertical-align: middle;\n",
              "    }\n",
              "\n",
              "    .dataframe tbody tr th {\n",
              "        vertical-align: top;\n",
              "    }\n",
              "\n",
              "    .dataframe thead th {\n",
              "        text-align: right;\n",
              "    }\n",
              "</style>\n",
              "<table border=\"1\" class=\"dataframe\">\n",
              "  <thead>\n",
              "    <tr style=\"text-align: right;\">\n",
              "      <th></th>\n",
              "      <th>Time</th>\n",
              "      <th>V1</th>\n",
              "      <th>V2</th>\n",
              "      <th>V3</th>\n",
              "      <th>V4</th>\n",
              "      <th>V5</th>\n",
              "      <th>V6</th>\n",
              "      <th>V7</th>\n",
              "      <th>V8</th>\n",
              "      <th>V9</th>\n",
              "      <th>V10</th>\n",
              "      <th>V11</th>\n",
              "      <th>V12</th>\n",
              "      <th>V13</th>\n",
              "      <th>V14</th>\n",
              "      <th>V15</th>\n",
              "      <th>V16</th>\n",
              "      <th>V17</th>\n",
              "      <th>V18</th>\n",
              "      <th>V19</th>\n",
              "      <th>V20</th>\n",
              "      <th>V21</th>\n",
              "      <th>V22</th>\n",
              "      <th>V23</th>\n",
              "      <th>V24</th>\n",
              "      <th>V25</th>\n",
              "      <th>V26</th>\n",
              "      <th>V27</th>\n",
              "      <th>V28</th>\n",
              "      <th>Amount</th>\n",
              "      <th>Class</th>\n",
              "      <th>scores</th>\n",
              "      <th>anomaly_score</th>\n",
              "    </tr>\n",
              "  </thead>\n",
              "  <tbody>\n",
              "    <tr>\n",
              "      <th>623</th>\n",
              "      <td>472</td>\n",
              "      <td>-3.043541</td>\n",
              "      <td>-3.157307</td>\n",
              "      <td>1.088463</td>\n",
              "      <td>2.288644</td>\n",
              "      <td>1.359805</td>\n",
              "      <td>-1.064823</td>\n",
              "      <td>0.325574</td>\n",
              "      <td>-0.067794</td>\n",
              "      <td>-0.270953</td>\n",
              "      <td>-0.838587</td>\n",
              "      <td>-0.414575</td>\n",
              "      <td>-0.503141</td>\n",
              "      <td>0.676502</td>\n",
              "      <td>-1.692029</td>\n",
              "      <td>2.000635</td>\n",
              "      <td>0.666780</td>\n",
              "      <td>0.599717</td>\n",
              "      <td>1.725321</td>\n",
              "      <td>0.283345</td>\n",
              "      <td>2.102339</td>\n",
              "      <td>0.661696</td>\n",
              "      <td>0.435477</td>\n",
              "      <td>1.375966</td>\n",
              "      <td>-0.293803</td>\n",
              "      <td>0.279798</td>\n",
              "      <td>-0.145362</td>\n",
              "      <td>-0.252773</td>\n",
              "      <td>0.035764</td>\n",
              "      <td>529.00</td>\n",
              "      <td>1.0</td>\n",
              "      <td>-0.144781</td>\n",
              "      <td>-1</td>\n",
              "    </tr>\n",
              "    <tr>\n",
              "      <th>4920</th>\n",
              "      <td>4462</td>\n",
              "      <td>-2.303350</td>\n",
              "      <td>1.759247</td>\n",
              "      <td>-0.359745</td>\n",
              "      <td>2.330243</td>\n",
              "      <td>-0.821628</td>\n",
              "      <td>-0.075788</td>\n",
              "      <td>0.562320</td>\n",
              "      <td>-0.399147</td>\n",
              "      <td>-0.238253</td>\n",
              "      <td>-1.525412</td>\n",
              "      <td>2.032912</td>\n",
              "      <td>-6.560124</td>\n",
              "      <td>0.022937</td>\n",
              "      <td>-1.470102</td>\n",
              "      <td>-0.698826</td>\n",
              "      <td>-2.282194</td>\n",
              "      <td>-4.781831</td>\n",
              "      <td>-2.615665</td>\n",
              "      <td>-1.334441</td>\n",
              "      <td>-0.430022</td>\n",
              "      <td>-0.294166</td>\n",
              "      <td>-0.932391</td>\n",
              "      <td>0.172726</td>\n",
              "      <td>-0.087330</td>\n",
              "      <td>-0.156114</td>\n",
              "      <td>-0.542628</td>\n",
              "      <td>0.039566</td>\n",
              "      <td>-0.153029</td>\n",
              "      <td>239.93</td>\n",
              "      <td>1.0</td>\n",
              "      <td>-0.144781</td>\n",
              "      <td>-1</td>\n",
              "    </tr>\n",
              "  </tbody>\n",
              "</table>\n",
              "</div>"
            ],
            "text/plain": [
              "      Time        V1        V2  ...  Class    scores  anomaly_score\n",
              "623    472 -3.043541 -3.157307  ...    1.0 -0.144781             -1\n",
              "4920  4462 -2.303350  1.759247  ...    1.0 -0.144781             -1\n",
              "\n",
              "[2 rows x 33 columns]"
            ]
          },
          "metadata": {},
          "execution_count": 36
        }
      ]
    },
    {
      "cell_type": "code",
      "metadata": {
        "id": "GPGRrhynGYE6"
      },
      "source": [
        "#checking the accuracy of the model\n",
        "anomaly_count=data[data['Class']==1]\n",
        "anomaly_count=anomaly_count.shape[0]"
      ],
      "execution_count": 37,
      "outputs": []
    },
    {
      "cell_type": "code",
      "metadata": {
        "id": "9qqmMKurGX_t"
      },
      "source": [
        "accuracy = 100*list(data['anomaly_score']).count(-1)/(anomaly_count)"
      ],
      "execution_count": 38,
      "outputs": []
    },
    {
      "cell_type": "code",
      "metadata": {
        "colab": {
          "base_uri": "https://localhost:8080/"
        },
        "id": "joJ27wFXHJlH",
        "outputId": "ea805b69-1033-43dc-f957-c935a89e7d57"
      },
      "source": [
        "anomaly_count"
      ],
      "execution_count": 39,
      "outputs": [
        {
          "output_type": "execute_result",
          "data": {
            "text/plain": [
              "2"
            ]
          },
          "metadata": {},
          "execution_count": 39
        }
      ]
    },
    {
      "cell_type": "code",
      "metadata": {
        "colab": {
          "base_uri": "https://localhost:8080/"
        },
        "id": "4S4D8gArHJfZ",
        "outputId": "ed70d807-137c-4e95-d029-5aa17a4780d4"
      },
      "source": [
        "accuracy"
      ],
      "execution_count": 40,
      "outputs": [
        {
          "output_type": "execute_result",
          "data": {
            "text/plain": [
              "100.0"
            ]
          },
          "metadata": {},
          "execution_count": 40
        }
      ]
    }
  ]
}