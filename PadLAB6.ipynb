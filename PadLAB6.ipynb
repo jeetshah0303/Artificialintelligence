{
  "nbformat": 4,
  "nbformat_minor": 0,
  "metadata": {
    "colab": {
      "name": "PadLAB6",
      "provenance": [],
      "authorship_tag": "ABX9TyMvsg3Txin8NDGjMyVMXwD+",
      "include_colab_link": true
    },
    "kernelspec": {
      "name": "python3",
      "display_name": "Python 3"
    },
    "language_info": {
      "name": "python"
    }
  },
  "cells": [
    {
      "cell_type": "markdown",
      "metadata": {
        "id": "view-in-github",
        "colab_type": "text"
      },
      "source": [
        "<a href=\"https://colab.research.google.com/github/jeetshah0303/Artificialintelligence/blob/main/PadLAB6.ipynb\" target=\"_parent\"><img src=\"https://colab.research.google.com/assets/colab-badge.svg\" alt=\"Open In Colab\"/></a>"
      ]
    },
    {
      "cell_type": "code",
      "metadata": {
        "id": "tZjyy3-w2eOT"
      },
      "source": [
        "#anomaly detection using k means clustering\n"
      ],
      "execution_count": null,
      "outputs": []
    },
    {
      "cell_type": "code",
      "metadata": {
        "id": "93P2J96Y2jzU"
      },
      "source": [
        "#generating the data to detect anomaly "
      ],
      "execution_count": null,
      "outputs": []
    },
    {
      "cell_type": "code",
      "metadata": {
        "id": "qOLO63Cl2j2S"
      },
      "source": [
        "import numpy as np \n",
        "import matplotlib.pyplot as plt\n",
        "from sklearn.cluster import KMeans\n",
        "from scipy.spatial.distance import cdist"
      ],
      "execution_count": 1,
      "outputs": []
    },
    {
      "cell_type": "code",
      "metadata": {
        "id": "kyK3dAGA2j5C"
      },
      "source": [
        "data=np.array([[1,1],[2,2],[2,3],[8,7],[8,9],[7,9],[7,7],[12,10],[25,24],[24,24],[25,20],[20,25],[25,25]])"
      ],
      "execution_count": 3,
      "outputs": []
    },
    {
      "cell_type": "code",
      "metadata": {
        "colab": {
          "base_uri": "https://localhost:8080/"
        },
        "id": "RtQKiW2U2j8q",
        "outputId": "4a37008c-f7b6-4e9b-afc9-0ecb1907c975"
      },
      "source": [
        "data"
      ],
      "execution_count": 4,
      "outputs": [
        {
          "output_type": "execute_result",
          "data": {
            "text/plain": [
              "array([[ 1,  1],\n",
              "       [ 2,  2],\n",
              "       [ 2,  3],\n",
              "       [ 8,  7],\n",
              "       [ 8,  9],\n",
              "       [ 7,  9],\n",
              "       [ 7,  7],\n",
              "       [12, 10],\n",
              "       [25, 24],\n",
              "       [24, 24],\n",
              "       [25, 20],\n",
              "       [20, 25],\n",
              "       [25, 25]])"
            ]
          },
          "metadata": {},
          "execution_count": 4
        }
      ]
    },
    {
      "cell_type": "code",
      "metadata": {
        "colab": {
          "base_uri": "https://localhost:8080/",
          "height": 282
        },
        "id": "VdALX6MN2j_7",
        "outputId": "4b05f6e7-0636-4918-875f-e2fb1524f506"
      },
      "source": [
        "plt.scatter(data[:,0],data[:,1])"
      ],
      "execution_count": 5,
      "outputs": [
        {
          "output_type": "execute_result",
          "data": {
            "text/plain": [
              "<matplotlib.collections.PathCollection at 0x7f707a938b50>"
            ]
          },
          "metadata": {},
          "execution_count": 5
        },
        {
          "output_type": "display_data",
          "data": {
            "image/png": "[encoded data removed]",
            "text/plain": [
              "<Figure size 432x288 with 1 Axes>"
            ]
          },
          "metadata": {
            "needs_background": "light"
          }
        }
      ]
    },
    {
      "cell_type": "code",
      "metadata": {
        "id": "gf2w06P02kDi"
      },
      "source": [
        "#k-means model with k=3\n",
        "km = KMeans(n_clusters=3) \n",
        "clusters=km.fit_predict(data)"
      ],
      "execution_count": 6,
      "outputs": []
    },
    {
      "cell_type": "code",
      "metadata": {
        "id": "zXHCYZeF2kHI"
      },
      "source": [
        "clusters=km.predict(data)\n"
      ],
      "execution_count": 7,
      "outputs": []
    },
    {
      "cell_type": "code",
      "metadata": {
        "colab": {
          "base_uri": "https://localhost:8080/",
          "height": 282
        },
        "id": "dAwhvjPT2kK2",
        "outputId": "f9582b9f-71c5-45ce-fc17-31d868b19878"
      },
      "source": [
        "plt.scatter(*zip(*data),c=clusters,marker='x')"
      ],
      "execution_count": 8,
      "outputs": [
        {
          "output_type": "execute_result",
          "data": {
            "text/plain": [
              "<matplotlib.collections.PathCollection at 0x7f707a92c250>"
            ]
          },
          "metadata": {},
          "execution_count": 8
        },
        {
          "output_type": "display_data",
          "data": {
            "image/png": "[encoded data removed]",
            "text/plain": [
              "<Figure size 432x288 with 1 Axes>"
            ]
          },
          "metadata": {
            "needs_background": "light"
          }
        }
      ]
    },
    {
      "cell_type": "code",
      "metadata": {
        "id": "_QEUPGnU2kOx"
      },
      "source": [
        "#obtain the centers of the clusters \n",
        "centroid=km.cluster_centers_"
      ],
      "execution_count": 9,
      "outputs": []
    },
    {
      "cell_type": "code",
      "metadata": {
        "colab": {
          "base_uri": "https://localhost:8080/"
        },
        "id": "-veG_3Zn2kRs",
        "outputId": "a9ec2b89-88ab-41ba-ef8f-5600e030c781"
      },
      "source": [
        "centroid"
      ],
      "execution_count": 10,
      "outputs": [
        {
          "output_type": "execute_result",
          "data": {
            "text/plain": [
              "array([[ 8.4       ,  8.4       ],\n",
              "       [23.8       , 23.6       ],\n",
              "       [ 1.66666667,  2.        ]])"
            ]
          },
          "metadata": {},
          "execution_count": 10
        }
      ]
    },
    {
      "cell_type": "code",
      "metadata": {
        "id": "xs4duN766XN5"
      },
      "source": [
        "#initialise a array which will be used to reach the index\n",
        "points = np.empty((0,len(data[0])),float)"
      ],
      "execution_count": 11,
      "outputs": []
    },
    {
      "cell_type": "code",
      "metadata": {
        "colab": {
          "base_uri": "https://localhost:8080/"
        },
        "id": "uphBn_m-6XWp",
        "outputId": "36e15f6c-1a0a-484a-fcaf-56fa87deb0e8"
      },
      "source": [
        "points.shape"
      ],
      "execution_count": 12,
      "outputs": [
        {
          "output_type": "execute_result",
          "data": {
            "text/plain": [
              "(0, 2)"
            ]
          },
          "metadata": {},
          "execution_count": 12
        }
      ]
    },
    {
      "cell_type": "code",
      "metadata": {
        "id": "J-fv0Jri6XZ7"
      },
      "source": [
        "#initialize an array which will be used to calculate outlier distance \n",
        "distances=np.empty((0,len(data[0])),float)"
      ],
      "execution_count": 13,
      "outputs": []
    },
    {
      "cell_type": "code",
      "metadata": {
        "colab": {
          "base_uri": "https://localhost:8080/"
        },
        "id": "G_WvObxi6Xdd",
        "outputId": "519faf9e-78cd-4021-b4a4-757f37ff2d29"
      },
      "source": [
        "distances.shape"
      ],
      "execution_count": 14,
      "outputs": [
        {
          "output_type": "execute_result",
          "data": {
            "text/plain": [
              "(0, 2)"
            ]
          },
          "metadata": {},
          "execution_count": 14
        }
      ]
    },
    {
      "cell_type": "code",
      "metadata": {
        "id": "fnG-MroM6XhY"
      },
      "source": [
        "for i, center_elem in enumerate(centroid):\n",
        "  distances=np.append(distances,cdist([center_elem],data[clusters==i],'euclidean'))\n",
        "  points=np.append(points,data[clusters==i],axis=0)"
      ],
      "execution_count": 16,
      "outputs": []
    },
    {
      "cell_type": "code",
      "metadata": {
        "colab": {
          "base_uri": "https://localhost:8080/"
        },
        "id": "EKGgSq947bJg",
        "outputId": "42f1fc2a-35f4-453e-db73-9693925a3f40"
      },
      "source": [
        "distances"
      ],
      "execution_count": 17,
      "outputs": [
        {
          "output_type": "execute_result",
          "data": {
            "text/plain": [
              "array([1.45602198, 0.72111026, 1.52315462, 1.97989899, 3.93954312,\n",
              "       1.26491106, 0.4472136 , 3.79473319, 4.04969135, 1.84390889,\n",
              "       1.20185043, 0.33333333, 1.05409255])"
            ]
          },
          "metadata": {},
          "execution_count": 17
        }
      ]
    },
    {
      "cell_type": "code",
      "metadata": {
        "colab": {
          "base_uri": "https://localhost:8080/"
        },
        "id": "7m4--Z5E7bNU",
        "outputId": "2e875ccd-30a6-4fba-fba6-829f597f3839"
      },
      "source": [
        "points"
      ],
      "execution_count": 18,
      "outputs": [
        {
          "output_type": "execute_result",
          "data": {
            "text/plain": [
              "array([[ 8.,  7.],\n",
              "       [ 8.,  9.],\n",
              "       [ 7.,  9.],\n",
              "       [ 7.,  7.],\n",
              "       [12., 10.],\n",
              "       [25., 24.],\n",
              "       [24., 24.],\n",
              "       [25., 20.],\n",
              "       [20., 25.],\n",
              "       [25., 25.],\n",
              "       [ 1.,  1.],\n",
              "       [ 2.,  2.],\n",
              "       [ 2.,  3.]])"
            ]
          },
          "metadata": {},
          "execution_count": 18
        }
      ]
    },
    {
      "cell_type": "code",
      "metadata": {
        "id": "YDA8Scar7bSz"
      },
      "source": [
        "threshold =80"
      ],
      "execution_count": 19,
      "outputs": []
    },
    {
      "cell_type": "code",
      "metadata": {
        "id": "lzfiOD5D7bX4"
      },
      "source": [
        "outliers=points[np.where(distances>np.percentile(distances,threshold))]"
      ],
      "execution_count": 20,
      "outputs": []
    },
    {
      "cell_type": "code",
      "metadata": {
        "colab": {
          "base_uri": "https://localhost:8080/"
        },
        "id": "uqzuKwVe7bcK",
        "outputId": "21d12a87-dfb6-4d89-8c3d-ee8e866c2bfc"
      },
      "source": [
        "outliers"
      ],
      "execution_count": 21,
      "outputs": [
        {
          "output_type": "execute_result",
          "data": {
            "text/plain": [
              "array([[12., 10.],\n",
              "       [25., 20.],\n",
              "       [20., 25.]])"
            ]
          },
          "metadata": {},
          "execution_count": 21
        }
      ]
    },
    {
      "cell_type": "code",
      "metadata": {
        "colab": {
          "base_uri": "https://localhost:8080/",
          "height": 282
        },
        "id": "u2Ywc8gK-KJV",
        "outputId": "11cc0b12-c436-4ba6-ac38-5dea3bf91492"
      },
      "source": [
        "plt.scatter(*zip(*data),c=clusters,marker='x')\n",
        "plt.scatter(*zip(*outliers),marker='o',facecolor='None',edgecolors='r',s=70)\n",
        "plt.scatter(*zip(*centroid),marker='o',facecolor='b',edgecolors='b',s=10)"
      ],
      "execution_count": 24,
      "outputs": [
        {
          "output_type": "execute_result",
          "data": {
            "text/plain": [
              "<matplotlib.collections.PathCollection at 0x7f707a179950>"
            ]
          },
          "metadata": {},
          "execution_count": 24
        },
        {
          "output_type": "display_data",
          "data": {
            "image/png": "[encoded data removed]",
            "text/plain": [
              "<Figure size 432x288 with 1 Axes>"
            ]
          },
          "metadata": {
            "needs_background": "light"
          }
        }
      ]
    },
    {
      "cell_type": "code",
      "metadata": {
        "id": "aAeC-H7p-KQj"
      },
      "source": [
        ""
      ],
      "execution_count": null,
      "outputs": []
    },
    {
      "cell_type": "code",
      "metadata": {
        "id": "Lm4QEAI0-KVv"
      },
      "source": [
        "#similarly w k=1\n",
        "km = KMeans(n_clusters=1) \n",
        "clusters=km.fit_predict(data)"
      ],
      "execution_count": 25,
      "outputs": []
    },
    {
      "cell_type": "code",
      "metadata": {
        "id": "oLFuNJvb-Kar"
      },
      "source": [
        "clusters=km.predict(data)"
      ],
      "execution_count": 26,
      "outputs": []
    },
    {
      "cell_type": "code",
      "metadata": {
        "colab": {
          "base_uri": "https://localhost:8080/",
          "height": 282
        },
        "id": "cYcji_7s-Kf_",
        "outputId": "0252545e-2e23-4f90-fbbe-d51ec0a2686d"
      },
      "source": [
        "plt.scatter(*zip(*data),c=clusters,marker='x')"
      ],
      "execution_count": 27,
      "outputs": [
        {
          "output_type": "execute_result",
          "data": {
            "text/plain": [
              "<matplotlib.collections.PathCollection at 0x7f707a0e2a50>"
            ]
          },
          "metadata": {},
          "execution_count": 27
        },
        {
          "output_type": "display_data",
          "data": {
            "image/png": "[encoded data removed]",
            "text/plain": [
              "<Figure size 432x288 with 1 Axes>"
            ]
          },
          "metadata": {
            "needs_background": "light"
          }
        }
      ]
    },
    {
      "cell_type": "code",
      "metadata": {
        "id": "TOL4R_Zo-Kkp"
      },
      "source": [
        "#obtain the centers of the clusters \n",
        "centroid=km.cluster_centers_"
      ],
      "execution_count": 28,
      "outputs": []
    },
    {
      "cell_type": "code",
      "metadata": {
        "id": "9Hhdqr1e_9Hy"
      },
      "source": [
        "#initialise a array which will be used to reach the index\n",
        "points = np.empty((0,len(data[0])),float)"
      ],
      "execution_count": 29,
      "outputs": []
    },
    {
      "cell_type": "code",
      "metadata": {
        "id": "Vt6H7Lzd_9MU"
      },
      "source": [
        "#initialize an array which will be used to calculate outlier distance \n",
        "distances=np.empty((0,len(data[0])),float)"
      ],
      "execution_count": 30,
      "outputs": []
    },
    {
      "cell_type": "code",
      "metadata": {
        "id": "_n4s0LiD_9SX"
      },
      "source": [
        "for i, center_elem in enumerate(centroid):\n",
        "  distances=np.append(distances,cdist([center_elem],data[clusters==i],'euclidean'))\n",
        "  points=np.append(points,data[clusters==i],axis=0)"
      ],
      "execution_count": 31,
      "outputs": []
    },
    {
      "cell_type": "code",
      "metadata": {
        "id": "XsHCztnl_9XM"
      },
      "source": [
        "outliers=points[np.where(distances>np.percentile(distances,threshold))]"
      ],
      "execution_count": 32,
      "outputs": []
    },
    {
      "cell_type": "code",
      "metadata": {
        "colab": {
          "base_uri": "https://localhost:8080/",
          "height": 282
        },
        "id": "FtKVbkB3_9c_",
        "outputId": "3118758f-0c75-4028-e727-9dd84891a8a4"
      },
      "source": [
        "plt.scatter(*zip(*data),c=clusters,marker='x')\n",
        "plt.scatter(*zip(*outliers),marker='o',facecolor='None',edgecolors='r',s=70)\n",
        "plt.scatter(*zip(*centroid),marker='o',facecolor='b',edgecolors='b',s=10)"
      ],
      "execution_count": 33,
      "outputs": [
        {
          "output_type": "execute_result",
          "data": {
            "text/plain": [
              "<matplotlib.collections.PathCollection at 0x7f707a060210>"
            ]
          },
          "metadata": {},
          "execution_count": 33
        },
        {
          "output_type": "display_data",
          "data": {
            "image/png": "[encoded data removed]",
            "text/plain": [
              "<Figure size 432x288 with 1 Axes>"
            ]
          },
          "metadata": {
            "needs_background": "light"
          }
        }
      ]
    },
    {
      "cell_type": "code",
      "metadata": {
        "id": "15LEJMbp_9jr"
      },
      "source": [
        ""
      ],
      "execution_count": null,
      "outputs": []
    }
  ]
}